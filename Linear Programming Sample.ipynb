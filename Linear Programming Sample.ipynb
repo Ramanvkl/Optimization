{
 "cells": [
  {
   "cell_type": "markdown",
   "metadata": {},
   "source": [
    "***MGSC 662 - Assignment 1***"
   ]
  },
  {
   "cell_type": "markdown",
   "metadata": {},
   "source": [
    "***Fresh Milk Transportation***\n",
    "\n",
    "*BalancedMilk* is an old dairy-transportation firm renowned for the freshness of the milk it distributes. It has long-term fixed-amount contracts with eight dairy farms (suppliers) and distributes their production among ten demand markets. Transporting milk for a long time from suppliers to demand markets, BalancedMilk is well aware of the milk demand in each demand market and the transportation cost from each supplier to each demand center.\n",
    "\n",
    "In the following table, the number in front of each supply and demand center represents the supply and demand (in tonnes.) Also, for each supply-demand pair, the transportation cost ($ per tonne) is depicted."
   ]
  },
  {
   "cell_type": "markdown",
   "metadata": {},
   "source": [
    "| | $D_1$(90)| $D_2$(100) | $D_3$(150) | $D_4$(190) | $D_5$(180) | $D_6$(240) | $D_7$(210) | $D_8$(90) | $D_9$(160) | $D_{10}$(70) |\n",
    "|--| -- | -- | -- | -- | -- | -- | -- | -- | -- | -- |\n",
    "| $S_1$(110) |20|49|16|30|8|35|21|40|10|12|\n",
    "| $S_2$(80) |15|53|7|20|47|11|16|17|15|44|\n",
    "| $S_3$(100) |22|25|42|22|31|9|11|29|20|5|\n",
    "| $S_4$(240) |45|6|33|35|49|25|30|47|32|31|\n",
    "| $S_5$(100) |9|12|41|15|38|14|53|22|12|13|\n",
    "| $S_6$(280) |21|24|32|49|5|47|30|23|37|8|\n",
    "| $S_7$(130) |12|19|5|28|47|39|15|35|9|51|\n",
    "| $S_8$(440) |34|17|10|21|9|33|14|26|19|45|"
   ]
  },
  {
   "cell_type": "markdown",
   "metadata": {},
   "source": [
    "Keep the following points in mind when solving the problems:\n",
    "\n",
    "**Note 1**: The firm should not supply milk to a demand market **more** than its demand, i.e., should not **over-supply** it.\n",
    "\n",
    "**Note 2**: Write your code so that your answer to each part is independent of the other. For instance, to get the solution for Problem 2, one should not be forced to run Problem 1 beforehand. \n",
    "\n",
    "For each of the following strategies, formulate them as a LP problem and solve them using Gurobi:"
   ]
  },
  {
   "cell_type": "markdown",
   "metadata": {},
   "source": [
    "**Problem 1:**\n",
    "\n",
    "The firm wants to distribute all the supplied milk as efficiently as possible. Formulate the problem of minimizing the total transportation cost using Gurobi and solve it. Then, report the optimal allocation and the minimum cost."
   ]
  },
  {
   "cell_type": "code",
   "execution_count": 2,
   "metadata": {},
   "outputs": [],
   "source": [
    "Cost = [[20, 49, 16, 30,  8, 35, 21, 40, 10, 12],\n",
    "        [15, 53, 7, 20, 47, 11, 16, 17, 15, 44],\n",
    "        [22, 25, 42, 22, 31, 9, 11, 29, 20, 5],\n",
    "        [45,  6, 33, 35, 49, 25, 30, 47, 32, 31],\n",
    "        [9, 12, 41, 15, 38, 14, 53, 22, 12, 13],\n",
    "        [21, 24, 32, 49, 5, 47, 30, 23, 37, 8],\n",
    "        [12, 19,  5, 28, 47, 39, 15, 35, 9, 51],\n",
    "        [34, 17, 10, 21, 9, 33, 14, 26, 19, 45]]\n",
    "\n",
    "SupplyCenter = ['S_1', 'S_2', 'S_3', 'S_4', 'S_5', 'S_6', 'S_7', 'S_8']\n",
    "Supply = [110, 80, 100, 240, 100, 280, 130, 440]\n",
    "DemandMarket = ['D_1', 'D_2', 'D_3', 'D_4', 'D_5', 'D_6', 'D_7', 'D_8', 'D_9', 'D_10']\n",
    "Demand = [90, 100, 150, 190, 180, 240, 210, 90, 160, 70]\n",
    "\n",
    "# Your solution for Problem 1:"
   ]
  },
  {
   "cell_type": "code",
   "execution_count": 1,
   "metadata": {},
   "outputs": [],
   "source": [
    "# importing required libraries\n",
    "import gurobipy as gb\n",
    "from gurobipy import *\n",
    "import numpy as np"
   ]
  },
  {
   "cell_type": "code",
   "execution_count": 5,
   "metadata": {},
   "outputs": [],
   "source": [
    "S = len(SupplyCenter)\n",
    "D = len(DemandMarket)"
   ]
  },
  {
   "cell_type": "code",
   "execution_count": 3,
   "metadata": {},
   "outputs": [
    {
     "name": "stdout",
     "output_type": "stream",
     "text": [
      "Set parameter Username\n",
      "Academic license - for non-commercial use only - expires 2023-09-10\n"
     ]
    }
   ],
   "source": [
    "# defining the problem\n",
    "prob = gb.Model(\"Fresh Milk Transportation\")"
   ]
  },
  {
   "cell_type": "code",
   "execution_count": 7,
   "metadata": {},
   "outputs": [],
   "source": [
    "# defining decision variables\n",
    "X = prob.addVars(S,D, lb = 0, vtype = GRB.CONTINUOUS, name = [\"X_\"+i+\"_\"+j for i in SupplyCenter for j in DemandMarket])"
   ]
  },
  {
   "cell_type": "code",
   "execution_count": 9,
   "metadata": {},
   "outputs": [],
   "source": [
    "# defining the objective function\n",
    "prob.setObjective(sum(Cost[i][j]*X[i,j] for i in range(S) for j in range(D)), GRB.MINIMIZE)"
   ]
  },
  {
   "cell_type": "code",
   "execution_count": 10,
   "metadata": {},
   "outputs": [],
   "source": [
    "# defining supply constraints\n",
    "for i in range(S):\n",
    "    prob.addConstr(sum(X[i,j] for j in range(D)) <= Supply[i])"
   ]
  },
  {
   "cell_type": "code",
   "execution_count": 13,
   "metadata": {},
   "outputs": [],
   "source": [
    "# defining demand constraints\n",
    "for j in range(D):\n",
    "    prob.addConstr(sum(X[i,j] for i in range(S)) == Demand[j])"
   ]
  },
  {
   "cell_type": "code",
   "execution_count": 14,
   "metadata": {},
   "outputs": [
    {
     "name": "stdout",
     "output_type": "stream",
     "text": [
      "Gurobi Optimizer version 9.5.2 build v9.5.2rc0 (win64)\n",
      "Thread count: 8 physical cores, 16 logical processors, using up to 16 threads\n",
      "Optimize a model with 18 rows, 80 columns and 160 nonzeros\n",
      "Model fingerprint: 0x79e4470a\n",
      "Coefficient statistics:\n",
      "  Matrix range     [1e+00, 1e+00]\n",
      "  Objective range  [5e+00, 5e+01]\n",
      "  Bounds range     [0e+00, 0e+00]\n",
      "  RHS range        [7e+01, 4e+02]\n",
      "Presolve time: 0.02s\n",
      "Presolved: 18 rows, 80 columns, 160 nonzeros\n",
      "\n",
      "Iteration    Objective       Primal Inf.    Dual Inf.      Time\n",
      "       0    1.3700000e+04   7.900000e+02   0.000000e+00      0s\n",
      "      14    1.8440000e+04   0.000000e+00   0.000000e+00      0s\n",
      "\n",
      "Solved in 14 iterations and 0.03 seconds (0.00 work units)\n",
      "Optimal objective  1.844000000e+04\n"
     ]
    }
   ],
   "source": [
    "# solving the problem\n",
    "prob.optimize()"
   ]
  },
  {
   "cell_type": "code",
   "execution_count": 15,
   "metadata": {},
   "outputs": [
    {
     "name": "stdout",
     "output_type": "stream",
     "text": [
      "X_S_1_D_1 = 0\n",
      "X_S_1_D_2 = 0\n",
      "X_S_1_D_3 = 0\n",
      "X_S_1_D_4 = 0\n",
      "X_S_1_D_5 = 0\n",
      "X_S_1_D_6 = 0\n",
      "X_S_1_D_7 = 0\n",
      "X_S_1_D_8 = 0\n",
      "X_S_1_D_9 = 110\n",
      "X_S_1_D_10 = 0\n",
      "X_S_2_D_1 = 0\n",
      "X_S_2_D_2 = 0\n",
      "X_S_2_D_3 = 20\n",
      "X_S_2_D_4 = 0\n",
      "X_S_2_D_5 = 0\n",
      "X_S_2_D_6 = 0\n",
      "X_S_2_D_7 = 0\n",
      "X_S_2_D_8 = 60\n",
      "X_S_2_D_9 = 0\n",
      "X_S_2_D_10 = 0\n",
      "X_S_3_D_1 = 0\n",
      "X_S_3_D_2 = 0\n",
      "X_S_3_D_3 = 0\n",
      "X_S_3_D_4 = 0\n",
      "X_S_3_D_5 = 0\n",
      "X_S_3_D_6 = 100\n",
      "X_S_3_D_7 = 0\n",
      "X_S_3_D_8 = 0\n",
      "X_S_3_D_9 = 0\n",
      "X_S_3_D_10 = 0\n",
      "X_S_4_D_1 = 0\n",
      "X_S_4_D_2 = 100\n",
      "X_S_4_D_3 = 0\n",
      "X_S_4_D_4 = 0\n",
      "X_S_4_D_5 = 0\n",
      "X_S_4_D_6 = 140\n",
      "X_S_4_D_7 = 0\n",
      "X_S_4_D_8 = 0\n",
      "X_S_4_D_9 = 0\n",
      "X_S_4_D_10 = 0\n",
      "X_S_5_D_1 = 90\n",
      "X_S_5_D_2 = 0\n",
      "X_S_5_D_3 = 0\n",
      "X_S_5_D_4 = 10\n",
      "X_S_5_D_5 = 0\n",
      "X_S_5_D_6 = 0\n",
      "X_S_5_D_7 = 0\n",
      "X_S_5_D_8 = 0\n",
      "X_S_5_D_9 = 0\n",
      "X_S_5_D_10 = 0\n",
      "X_S_6_D_1 = 0\n",
      "X_S_6_D_2 = 0\n",
      "X_S_6_D_3 = 0\n",
      "X_S_6_D_4 = 0\n",
      "X_S_6_D_5 = 180\n",
      "X_S_6_D_6 = 0\n",
      "X_S_6_D_7 = 0\n",
      "X_S_6_D_8 = 30\n",
      "X_S_6_D_9 = 0\n",
      "X_S_6_D_10 = 70\n",
      "X_S_7_D_1 = 0\n",
      "X_S_7_D_2 = 0\n",
      "X_S_7_D_3 = 80\n",
      "X_S_7_D_4 = 0\n",
      "X_S_7_D_5 = 0\n",
      "X_S_7_D_6 = 0\n",
      "X_S_7_D_7 = 0\n",
      "X_S_7_D_8 = 0\n",
      "X_S_7_D_9 = 50\n",
      "X_S_7_D_10 = 0\n",
      "X_S_8_D_1 = 0\n",
      "X_S_8_D_2 = 0\n",
      "X_S_8_D_3 = 50\n",
      "X_S_8_D_4 = 180\n",
      "X_S_8_D_5 = 0\n",
      "X_S_8_D_6 = 0\n",
      "X_S_8_D_7 = 210\n",
      "X_S_8_D_8 = 0\n",
      "X_S_8_D_9 = 0\n",
      "X_S_8_D_10 = 0\n"
     ]
    }
   ],
   "source": [
    "# reporting optimal allocation\n",
    "for v in prob.getVars():\n",
    "    print(v.varName, \"=\", round(v.x))"
   ]
  },
  {
   "cell_type": "code",
   "execution_count": 16,
   "metadata": {},
   "outputs": [
    {
     "name": "stdout",
     "output_type": "stream",
     "text": [
      "The minimum allocation cost is:  18440.0\n"
     ]
    }
   ],
   "source": [
    "# reporting minimum cost\n",
    "print(\"The minimum allocation cost is: \", prob.objVal)"
   ]
  },
  {
   "cell_type": "markdown",
   "metadata": {},
   "source": [
    "Due to a cattle virus outbreak in the largest supplier ($S_8$), the health ministry shut down this dairy farm. Left with seven suppliers and unchanged demands, BalancedMilk is facing a supply shortage. Therefore, the management establishes two teams to search for short-term and long-term strategies to combat this issue. While the *long-term team* is looking for alternative suppliers or new contracts, we want to evaluate the strategies offered by the *short-term team* in the following problems."
   ]
  },
  {
   "cell_type": "markdown",
   "metadata": {},
   "source": [
    "**Problem 2:**\n",
    "\n",
    "Suppose not supplying milk to a demand market is costless. Nevertheless, the firm should supply all the milk the remaining seven supply centers provide. Also, remember that the firm cannot oversupply a demand market. Formulate the problem of minimizing the total transportation cost using Gurobi and solve it. Then, report the optimal allocation and the minimum cost. \n",
    "\n",
    "(Hint: one way of modeling this situation is to replace $S_8$ with a *dummy supplier* that provides the same amount of milk previously provided by $S_8$ but at zero cost.)\n"
   ]
  },
  {
   "cell_type": "code",
   "execution_count": 2,
   "metadata": {},
   "outputs": [],
   "source": [
    "# Your solution for Problem 2:\n",
    "# instead of using a dummy variable, I have eliminated the supplier 8. \n",
    "# P.S : I tried both approached and the results were identical. I utilized this approach because it makes more sense to me to model the upcoming questions in this way."
   ]
  },
  {
   "cell_type": "code",
   "execution_count": 76,
   "metadata": {},
   "outputs": [],
   "source": [
    "# importing data\n",
    "Cost = [[20, 49, 16, 30,  8, 35, 21, 40, 10, 12],\n",
    "        [15, 53, 7, 20, 47, 11, 16, 17, 15, 44],\n",
    "        [22, 25, 42, 22, 31, 9, 11, 29, 20, 5],\n",
    "        [45,  6, 33, 35, 49, 25, 30, 47, 32, 31],\n",
    "        [9, 12, 41, 15, 38, 14, 53, 22, 12, 13],\n",
    "        [21, 24, 32, 49, 5, 47, 30, 23, 37, 8],\n",
    "        [12, 19,  5, 28, 47, 39, 15, 35, 9, 51]]\n",
    "\n",
    "SupplyCenter = ['S_1', 'S_2', 'S_3', 'S_4', 'S_5', 'S_6', 'S_7']\n",
    "Supply = [110, 80, 100, 240, 100, 280, 130]\n",
    "DemandMarket = ['D_1', 'D_2', 'D_3', 'D_4', 'D_5', 'D_6', 'D_7', 'D_8', 'D_9', 'D_10']\n",
    "Demand = [90, 100, 150, 190, 180, 240, 210, 90, 160, 70]\n"
   ]
  },
  {
   "cell_type": "code",
   "execution_count": 77,
   "metadata": {},
   "outputs": [],
   "source": [
    "# importing required libraries\n",
    "import gurobipy as gb\n",
    "from gurobipy import *\n",
    "import numpy as np"
   ]
  },
  {
   "cell_type": "code",
   "execution_count": 78,
   "metadata": {},
   "outputs": [],
   "source": [
    "S = len(SupplyCenter)\n",
    "D = len(DemandMarket)"
   ]
  },
  {
   "cell_type": "code",
   "execution_count": 79,
   "metadata": {},
   "outputs": [],
   "source": [
    "# defining the problem\n",
    "prob = gb.Model(\"Fresh Milk Transportation - Cattle Virus Outbreak\")"
   ]
  },
  {
   "cell_type": "code",
   "execution_count": 80,
   "metadata": {},
   "outputs": [],
   "source": [
    "# defining decision variables\n",
    "X = prob.addVars(S,D, lb = 0, vtype = GRB.CONTINUOUS, name = [\"X_\"+i+\"_\"+j for i in SupplyCenter for j in DemandMarket])"
   ]
  },
  {
   "cell_type": "code",
   "execution_count": 81,
   "metadata": {},
   "outputs": [],
   "source": [
    "# defining the objective function\n",
    "prob.setObjective(sum(Cost[i][j]*X[i,j] for i in range(S) for j in range(D)), GRB.MINIMIZE)"
   ]
  },
  {
   "cell_type": "code",
   "execution_count": 82,
   "metadata": {},
   "outputs": [],
   "source": [
    "# defining supply constraints\n",
    "# all the milk provided by the seven remaining supply centers should be supplied.\n",
    "for i in range(S):\n",
    "    prob.addConstr(sum(X[i,j] for j in range(D)) == Supply[i])"
   ]
  },
  {
   "cell_type": "code",
   "execution_count": 83,
   "metadata": {},
   "outputs": [],
   "source": [
    "# defining demand constraints\n",
    "# not supplying to a demand market is costless.\n",
    "# since not supplying to a demand market at all is costless, it can be concluded that partial supplying to a demand market is also costless.\n",
    "# Therefore, I have defined demand constraints as <= inequalities.\n",
    "for j in range(D):\n",
    "    prob.addConstr(sum(X[i,j] for i in range(S)) <= Demand[j])"
   ]
  },
  {
   "cell_type": "code",
   "execution_count": 84,
   "metadata": {},
   "outputs": [
    {
     "name": "stdout",
     "output_type": "stream",
     "text": [
      "Gurobi Optimizer version 9.5.2 build v9.5.2rc0 (win64)\n",
      "Thread count: 8 physical cores, 16 logical processors, using up to 16 threads\n",
      "Optimize a model with 17 rows, 70 columns and 140 nonzeros\n",
      "Model fingerprint: 0x2c33ee3e\n",
      "Coefficient statistics:\n",
      "  Matrix range     [1e+00, 1e+00]\n",
      "  Objective range  [5e+00, 5e+01]\n",
      "  Bounds range     [0e+00, 0e+00]\n",
      "  RHS range        [7e+01, 3e+02]\n",
      "Presolve time: 0.01s\n",
      "Presolved: 17 rows, 70 columns, 140 nonzeros\n",
      "\n",
      "Iteration    Objective       Primal Inf.    Dual Inf.      Time\n",
      "       0    6.3300000e+03   4.500000e+02   0.000000e+00      0s\n",
      "       9    1.0670000e+04   0.000000e+00   0.000000e+00      0s\n",
      "\n",
      "Solved in 9 iterations and 0.02 seconds (0.00 work units)\n",
      "Optimal objective  1.067000000e+04\n"
     ]
    }
   ],
   "source": [
    "# solving the problem\n",
    "prob.optimize()"
   ]
  },
  {
   "cell_type": "code",
   "execution_count": 85,
   "metadata": {},
   "outputs": [
    {
     "name": "stdout",
     "output_type": "stream",
     "text": [
      "X_S_1_D_1 = 0\n",
      "X_S_1_D_2 = 0\n",
      "X_S_1_D_3 = 0\n",
      "X_S_1_D_4 = 0\n",
      "X_S_1_D_5 = 0\n",
      "X_S_1_D_6 = 0\n",
      "X_S_1_D_7 = 0\n",
      "X_S_1_D_8 = 0\n",
      "X_S_1_D_9 = 110\n",
      "X_S_1_D_10 = 0\n",
      "X_S_2_D_1 = 0\n",
      "X_S_2_D_2 = 0\n",
      "X_S_2_D_3 = 60\n",
      "X_S_2_D_4 = 0\n",
      "X_S_2_D_5 = 0\n",
      "X_S_2_D_6 = 20\n",
      "X_S_2_D_7 = 0\n",
      "X_S_2_D_8 = 0\n",
      "X_S_2_D_9 = 0\n",
      "X_S_2_D_10 = 0\n",
      "X_S_3_D_1 = 0\n",
      "X_S_3_D_2 = 0\n",
      "X_S_3_D_3 = 0\n",
      "X_S_3_D_4 = 0\n",
      "X_S_3_D_5 = 0\n",
      "X_S_3_D_6 = 80\n",
      "X_S_3_D_7 = 20\n",
      "X_S_3_D_8 = 0\n",
      "X_S_3_D_9 = 0\n",
      "X_S_3_D_10 = 0\n",
      "X_S_4_D_1 = 0\n",
      "X_S_4_D_2 = 100\n",
      "X_S_4_D_3 = 0\n",
      "X_S_4_D_4 = 0\n",
      "X_S_4_D_5 = 0\n",
      "X_S_4_D_6 = 140\n",
      "X_S_4_D_7 = 0\n",
      "X_S_4_D_8 = 0\n",
      "X_S_4_D_9 = 0\n",
      "X_S_4_D_10 = 0\n",
      "X_S_5_D_1 = 90\n",
      "X_S_5_D_2 = 0\n",
      "X_S_5_D_3 = 0\n",
      "X_S_5_D_4 = 0\n",
      "X_S_5_D_5 = 0\n",
      "X_S_5_D_6 = 0\n",
      "X_S_5_D_7 = 0\n",
      "X_S_5_D_8 = 0\n",
      "X_S_5_D_9 = 10\n",
      "X_S_5_D_10 = 0\n",
      "X_S_6_D_1 = 0\n",
      "X_S_6_D_2 = 0\n",
      "X_S_6_D_3 = 0\n",
      "X_S_6_D_4 = 0\n",
      "X_S_6_D_5 = 180\n",
      "X_S_6_D_6 = 0\n",
      "X_S_6_D_7 = 0\n",
      "X_S_6_D_8 = 30\n",
      "X_S_6_D_9 = 0\n",
      "X_S_6_D_10 = 70\n",
      "X_S_7_D_1 = 0\n",
      "X_S_7_D_2 = 0\n",
      "X_S_7_D_3 = 90\n",
      "X_S_7_D_4 = 0\n",
      "X_S_7_D_5 = 0\n",
      "X_S_7_D_6 = 0\n",
      "X_S_7_D_7 = 0\n",
      "X_S_7_D_8 = 0\n",
      "X_S_7_D_9 = 40\n",
      "X_S_7_D_10 = 0\n"
     ]
    }
   ],
   "source": [
    "# reporting optimal allocation\n",
    "for v in prob.getVars():\n",
    "    print(v.varName, \"=\", round(v.x))"
   ]
  },
  {
   "cell_type": "code",
   "execution_count": 86,
   "metadata": {},
   "outputs": [
    {
     "name": "stdout",
     "output_type": "stream",
     "text": [
      "The minimum allocation cost is:  10670.0\n"
     ]
    }
   ],
   "source": [
    "# reporting minimum cost\n",
    "print(\"The minimum allocation cost is: \", prob.objVal)"
   ]
  },
  {
   "cell_type": "markdown",
   "metadata": {},
   "source": [
    "**Problem 3:**\n",
    "\n",
    "In the real world, with fierce competitors ready to attack *BalancedMilk*'s market share, the cost of not supplying milk to a demand center is not zero. Additionally, like Problem 2, the firm should supply all the milk provided by the remaining seven supply centers. Suppose the cost of not delivering each tonne of milk to each demand center is  20\\\\$/tone. Formulate the problem of minimizing the sum of total transportation and not supplying costs using Gurobi and solve it. Then, report the optimal allocation and the minimum cost. Now suppose instead of 20\\\\$/tone, the not supplying cost is 100\\$/tone. Again, formulate the problem of minimizing the sum of total transportation and not supplying costs using Gurobi and solve it. Then, report the optimal allocation and the minimum cost. \n",
    "\n",
    "Can you detect any patterns in the optimal allocation in this problem and the previous one? How about the difference between the minimum costs? Explain your intuition."
   ]
  },
  {
   "cell_type": "code",
   "execution_count": 3,
   "metadata": {},
   "outputs": [],
   "source": [
    "# Your solution for Problem 3:"
   ]
  },
  {
   "cell_type": "code",
   "execution_count": 42,
   "metadata": {},
   "outputs": [],
   "source": [
    "# importing data\n",
    "Cost = [[20, 49, 16, 30,  8, 35, 21, 40, 10, 12],\n",
    "        [15, 53, 7, 20, 47, 11, 16, 17, 15, 44],\n",
    "        [22, 25, 42, 22, 31, 9, 11, 29, 20, 5],\n",
    "        [45,  6, 33, 35, 49, 25, 30, 47, 32, 31],\n",
    "        [9, 12, 41, 15, 38, 14, 53, 22, 12, 13],\n",
    "        [21, 24, 32, 49, 5, 47, 30, 23, 37, 8],\n",
    "        [12, 19,  5, 28, 47, 39, 15, 35, 9, 51]]\n",
    "\n",
    "SupplyCenter = ['S_1', 'S_2', 'S_3', 'S_4', 'S_5', 'S_6', 'S_7']\n",
    "Supply = [110, 80, 100, 240, 100, 280, 130]\n",
    "DemandMarket = ['D_1', 'D_2', 'D_3', 'D_4', 'D_5', 'D_6', 'D_7', 'D_8', 'D_9', 'D_10']\n",
    "Demand = [90, 100, 150, 190, 180, 240, 210, 90, 160, 70]\n",
    "\n",
    "Undersupply_Cost = [20, 20, 20, 20, 20, 20, 20, 20, 20, 20]"
   ]
  },
  {
   "cell_type": "code",
   "execution_count": 43,
   "metadata": {},
   "outputs": [],
   "source": [
    "# importing required libraries\n",
    "import gurobipy as gb\n",
    "from gurobipy import *\n",
    "import numpy as np"
   ]
  },
  {
   "cell_type": "code",
   "execution_count": 44,
   "metadata": {},
   "outputs": [],
   "source": [
    "S = len(SupplyCenter)\n",
    "D = len(DemandMarket)\n",
    "U = len(Undersupply_Cost)"
   ]
  },
  {
   "cell_type": "code",
   "execution_count": 45,
   "metadata": {},
   "outputs": [],
   "source": [
    "# defining the problem\n",
    "prob = gb.Model(\"Fresh Milk Transportation - Undersupply Penalty\")"
   ]
  },
  {
   "cell_type": "code",
   "execution_count": 46,
   "metadata": {},
   "outputs": [],
   "source": [
    "# defining decision variables\n",
    "X = prob.addVars(S,D, lb = 0, vtype = GRB.CONTINUOUS, name = [\"X_\"+i+\"_\"+j for i in SupplyCenter for j in DemandMarket])"
   ]
  },
  {
   "cell_type": "code",
   "execution_count": 47,
   "metadata": {
    "scrolled": true
   },
   "outputs": [],
   "source": [
    "# defining the objective function\n",
    "# the objective function will change to reflect the cost of undersupplying a demand market\n",
    "# this cost will be added to the total costs\n",
    "# defining the objective function\n",
    "\n",
    "prob.setObjective(sum(Cost[i][j]*X[i,j] for i in range(S) for j in range(D)) + sum((Demand[j] - sum(X[i,j] for i in range(S)))*Undersupply_Cost[j] for j in range(D)), GRB.MINIMIZE)"
   ]
  },
  {
   "cell_type": "code",
   "execution_count": 48,
   "metadata": {},
   "outputs": [],
   "source": [
    "# defining supply constraints\n",
    "# all the milk provided by the seven remaining supply centers should still be supplied.\n",
    "for i in range(S):\n",
    "    prob.addConstr(sum(X[i,j] for j in range(D)) == Supply[i])"
   ]
  },
  {
   "cell_type": "code",
   "execution_count": 49,
   "metadata": {},
   "outputs": [],
   "source": [
    "# defining demand constraints\n",
    "# the firm can undersupply a demand market but it is not costless; \n",
    "# the cost of undersupplying a market has been considered in the revised objective function\n",
    "for j in range(D):\n",
    "    prob.addConstr(sum(X[i,j] for i in range(S)) <= Demand[j])"
   ]
  },
  {
   "cell_type": "code",
   "execution_count": 50,
   "metadata": {
    "scrolled": true
   },
   "outputs": [
    {
     "name": "stdout",
     "output_type": "stream",
     "text": [
      "Gurobi Optimizer version 9.5.2 build v9.5.2rc0 (win64)\n",
      "Thread count: 8 physical cores, 16 logical processors, using up to 16 threads\n",
      "Optimize a model with 17 rows, 70 columns and 140 nonzeros\n",
      "Model fingerprint: 0x22837572\n",
      "Coefficient statistics:\n",
      "  Matrix range     [1e+00, 1e+00]\n",
      "  Objective range  [1e+00, 3e+01]\n",
      "  Bounds range     [0e+00, 0e+00]\n",
      "  RHS range        [7e+01, 3e+02]\n",
      "Presolve time: 0.01s\n",
      "Presolved: 17 rows, 70 columns, 140 nonzeros\n",
      "\n",
      "Iteration    Objective       Primal Inf.    Dual Inf.      Time\n",
      "       0   -2.3400000e+32   4.700000e+31   2.340000e+02      0s\n",
      "      17    1.9470000e+04   0.000000e+00   0.000000e+00      0s\n",
      "\n",
      "Solved in 17 iterations and 0.02 seconds (0.00 work units)\n",
      "Optimal objective  1.947000000e+04\n"
     ]
    }
   ],
   "source": [
    "# solving the problem\n",
    "prob.optimize()"
   ]
  },
  {
   "cell_type": "code",
   "execution_count": 51,
   "metadata": {},
   "outputs": [
    {
     "name": "stdout",
     "output_type": "stream",
     "text": [
      "X_S_1_D_1 = 0\n",
      "X_S_1_D_2 = 0\n",
      "X_S_1_D_3 = 0\n",
      "X_S_1_D_4 = 0\n",
      "X_S_1_D_5 = 0\n",
      "X_S_1_D_6 = 0\n",
      "X_S_1_D_7 = 0\n",
      "X_S_1_D_8 = 0\n",
      "X_S_1_D_9 = 110\n",
      "X_S_1_D_10 = 0\n",
      "X_S_2_D_1 = 0\n",
      "X_S_2_D_2 = 0\n",
      "X_S_2_D_3 = 60\n",
      "X_S_2_D_4 = 0\n",
      "X_S_2_D_5 = 0\n",
      "X_S_2_D_6 = 20\n",
      "X_S_2_D_7 = 0\n",
      "X_S_2_D_8 = 0\n",
      "X_S_2_D_9 = 0\n",
      "X_S_2_D_10 = 0\n",
      "X_S_3_D_1 = 0\n",
      "X_S_3_D_2 = 0\n",
      "X_S_3_D_3 = 0\n",
      "X_S_3_D_4 = 0\n",
      "X_S_3_D_5 = 0\n",
      "X_S_3_D_6 = 80\n",
      "X_S_3_D_7 = 20\n",
      "X_S_3_D_8 = 0\n",
      "X_S_3_D_9 = 0\n",
      "X_S_3_D_10 = 0\n",
      "X_S_4_D_1 = 0\n",
      "X_S_4_D_2 = 100\n",
      "X_S_4_D_3 = 0\n",
      "X_S_4_D_4 = 0\n",
      "X_S_4_D_5 = 0\n",
      "X_S_4_D_6 = 140\n",
      "X_S_4_D_7 = 0\n",
      "X_S_4_D_8 = 0\n",
      "X_S_4_D_9 = 0\n",
      "X_S_4_D_10 = 0\n",
      "X_S_5_D_1 = 90\n",
      "X_S_5_D_2 = 0\n",
      "X_S_5_D_3 = 0\n",
      "X_S_5_D_4 = 0\n",
      "X_S_5_D_5 = 0\n",
      "X_S_5_D_6 = 0\n",
      "X_S_5_D_7 = 0\n",
      "X_S_5_D_8 = 0\n",
      "X_S_5_D_9 = 10\n",
      "X_S_5_D_10 = 0\n",
      "X_S_6_D_1 = 0\n",
      "X_S_6_D_2 = 0\n",
      "X_S_6_D_3 = 0\n",
      "X_S_6_D_4 = 0\n",
      "X_S_6_D_5 = 180\n",
      "X_S_6_D_6 = 0\n",
      "X_S_6_D_7 = 0\n",
      "X_S_6_D_8 = 30\n",
      "X_S_6_D_9 = 0\n",
      "X_S_6_D_10 = 70\n",
      "X_S_7_D_1 = 0\n",
      "X_S_7_D_2 = 0\n",
      "X_S_7_D_3 = 90\n",
      "X_S_7_D_4 = 0\n",
      "X_S_7_D_5 = 0\n",
      "X_S_7_D_6 = 0\n",
      "X_S_7_D_7 = 0\n",
      "X_S_7_D_8 = 0\n",
      "X_S_7_D_9 = 40\n",
      "X_S_7_D_10 = 0\n"
     ]
    }
   ],
   "source": [
    "# reporting optimal allocation\n",
    "for v in prob.getVars():\n",
    "    print(v.varName, \"=\", round(v.x))"
   ]
  },
  {
   "cell_type": "code",
   "execution_count": 52,
   "metadata": {},
   "outputs": [
    {
     "name": "stdout",
     "output_type": "stream",
     "text": [
      "The minimum allocation cost is:  19470.0\n"
     ]
    }
   ],
   "source": [
    "# reporting minimum cost\n",
    "print(\"The minimum allocation cost is: \", prob.objVal)"
   ]
  },
  {
   "cell_type": "code",
   "execution_count": 28,
   "metadata": {},
   "outputs": [],
   "source": [
    "# Solving the problem for the not supplying cost of 100$/tone\n",
    "# everything will remain unchanged from a modeling perspesctive, just the undersupply cost list will change as follows:"
   ]
  },
  {
   "cell_type": "code",
   "execution_count": 53,
   "metadata": {},
   "outputs": [],
   "source": [
    "# importing data\n",
    "Cost = [[20, 49, 16, 30,  8, 35, 21, 40, 10, 12],\n",
    "        [15, 53, 7, 20, 47, 11, 16, 17, 15, 44],\n",
    "        [22, 25, 42, 22, 31, 9, 11, 29, 20, 5],\n",
    "        [45,  6, 33, 35, 49, 25, 30, 47, 32, 31],\n",
    "        [9, 12, 41, 15, 38, 14, 53, 22, 12, 13],\n",
    "        [21, 24, 32, 49, 5, 47, 30, 23, 37, 8],\n",
    "        [12, 19,  5, 28, 47, 39, 15, 35, 9, 51]]\n",
    "\n",
    "SupplyCenter = ['S_1', 'S_2', 'S_3', 'S_4', 'S_5', 'S_6', 'S_7']\n",
    "Supply = [110, 80, 100, 240, 100, 280, 130]\n",
    "DemandMarket = ['D_1', 'D_2', 'D_3', 'D_4', 'D_5', 'D_6', 'D_7', 'D_8', 'D_9', 'D_10']\n",
    "Demand = [90, 100, 150, 190, 180, 240, 210, 90, 160, 70]\n",
    "\n",
    "Undersupply_Cost = [100, 100, 100, 100, 100, 100, 100, 100, 100, 100]"
   ]
  },
  {
   "cell_type": "code",
   "execution_count": 54,
   "metadata": {},
   "outputs": [],
   "source": [
    "# importing required libraries\n",
    "import gurobipy as gb\n",
    "from gurobipy import *\n",
    "import numpy as np"
   ]
  },
  {
   "cell_type": "code",
   "execution_count": 55,
   "metadata": {},
   "outputs": [],
   "source": [
    "S = len(SupplyCenter)\n",
    "D = len(DemandMarket)\n",
    "U = len(Undersupply_Cost)"
   ]
  },
  {
   "cell_type": "code",
   "execution_count": 56,
   "metadata": {},
   "outputs": [],
   "source": [
    "# defining the problem\n",
    "prob = gb.Model(\"Fresh Milk Transportation - Undersupply Penalty\")"
   ]
  },
  {
   "cell_type": "code",
   "execution_count": 57,
   "metadata": {},
   "outputs": [],
   "source": [
    "# defining decision variables\n",
    "X = prob.addVars(S,D, lb = 0, vtype = GRB.CONTINUOUS, name = [\"X_\"+i+\"_\"+j for i in SupplyCenter for j in DemandMarket])"
   ]
  },
  {
   "cell_type": "code",
   "execution_count": 58,
   "metadata": {},
   "outputs": [],
   "source": [
    "# defining the objective function\n",
    "# the objective function will change to reflect the cost of undersupplying a demand market\n",
    "# this cost will be added to the total costs\n",
    "# defining the objective function\n",
    "\n",
    "prob.setObjective(sum(Cost[i][j]*X[i,j] for i in range(S) for j in range(D)) + sum((Demand[j] - sum(X[i,j] for i in range(S)))*Undersupply_Cost[j] for j in range(D)), GRB.MINIMIZE)"
   ]
  },
  {
   "cell_type": "code",
   "execution_count": 59,
   "metadata": {},
   "outputs": [],
   "source": [
    "# defining supply constraints\n",
    "# all the milk provided by the seven remaining supply centers should still be supplied.\n",
    "for i in range(S):\n",
    "    prob.addConstr(sum(X[i,j] for j in range(D)) == Supply[i])"
   ]
  },
  {
   "cell_type": "code",
   "execution_count": 60,
   "metadata": {},
   "outputs": [],
   "source": [
    "# defining demand constraints\n",
    "# the firm can undersupply a demand market but it is not costless; \n",
    "# the cost of undersupplying a market has been considered in the revised objective function\n",
    "for j in range(D):\n",
    "    prob.addConstr(sum(X[i,j] for i in range(S)) <= Demand[j])"
   ]
  },
  {
   "cell_type": "code",
   "execution_count": 61,
   "metadata": {},
   "outputs": [
    {
     "name": "stdout",
     "output_type": "stream",
     "text": [
      "Gurobi Optimizer version 9.5.2 build v9.5.2rc0 (win64)\n",
      "Thread count: 8 physical cores, 16 logical processors, using up to 16 threads\n",
      "Optimize a model with 17 rows, 70 columns and 140 nonzeros\n",
      "Model fingerprint: 0xada161ca\n",
      "Coefficient statistics:\n",
      "  Matrix range     [1e+00, 1e+00]\n",
      "  Objective range  [5e+01, 1e+02]\n",
      "  Bounds range     [0e+00, 0e+00]\n",
      "  RHS range        [7e+01, 3e+02]\n",
      "Presolve time: 0.01s\n",
      "Presolved: 17 rows, 70 columns, 140 nonzeros\n",
      "\n",
      "Iteration    Objective       Primal Inf.    Dual Inf.      Time\n",
      "       0   -5.2000000e+33   1.400000e+32   5.200000e+03      0s\n",
      "      16    5.4670000e+04   0.000000e+00   0.000000e+00      0s\n",
      "\n",
      "Solved in 16 iterations and 0.02 seconds (0.00 work units)\n",
      "Optimal objective  5.467000000e+04\n"
     ]
    }
   ],
   "source": [
    "# solving the problem\n",
    "prob.optimize()"
   ]
  },
  {
   "cell_type": "code",
   "execution_count": 62,
   "metadata": {},
   "outputs": [
    {
     "name": "stdout",
     "output_type": "stream",
     "text": [
      "X_S_1_D_1 = 0\n",
      "X_S_1_D_2 = 0\n",
      "X_S_1_D_3 = 0\n",
      "X_S_1_D_4 = 0\n",
      "X_S_1_D_5 = 0\n",
      "X_S_1_D_6 = 0\n",
      "X_S_1_D_7 = 0\n",
      "X_S_1_D_8 = 0\n",
      "X_S_1_D_9 = 110\n",
      "X_S_1_D_10 = 0\n",
      "X_S_2_D_1 = 0\n",
      "X_S_2_D_2 = 0\n",
      "X_S_2_D_3 = 60\n",
      "X_S_2_D_4 = 0\n",
      "X_S_2_D_5 = 0\n",
      "X_S_2_D_6 = 20\n",
      "X_S_2_D_7 = 0\n",
      "X_S_2_D_8 = 0\n",
      "X_S_2_D_9 = 0\n",
      "X_S_2_D_10 = 0\n",
      "X_S_3_D_1 = 0\n",
      "X_S_3_D_2 = 0\n",
      "X_S_3_D_3 = 0\n",
      "X_S_3_D_4 = 0\n",
      "X_S_3_D_5 = 0\n",
      "X_S_3_D_6 = 80\n",
      "X_S_3_D_7 = 20\n",
      "X_S_3_D_8 = 0\n",
      "X_S_3_D_9 = 0\n",
      "X_S_3_D_10 = 0\n",
      "X_S_4_D_1 = 0\n",
      "X_S_4_D_2 = 100\n",
      "X_S_4_D_3 = 0\n",
      "X_S_4_D_4 = 0\n",
      "X_S_4_D_5 = 0\n",
      "X_S_4_D_6 = 140\n",
      "X_S_4_D_7 = 0\n",
      "X_S_4_D_8 = 0\n",
      "X_S_4_D_9 = 0\n",
      "X_S_4_D_10 = 0\n",
      "X_S_5_D_1 = 90\n",
      "X_S_5_D_2 = 0\n",
      "X_S_5_D_3 = 0\n",
      "X_S_5_D_4 = 0\n",
      "X_S_5_D_5 = 0\n",
      "X_S_5_D_6 = 0\n",
      "X_S_5_D_7 = 0\n",
      "X_S_5_D_8 = 0\n",
      "X_S_5_D_9 = 10\n",
      "X_S_5_D_10 = 0\n",
      "X_S_6_D_1 = 0\n",
      "X_S_6_D_2 = 0\n",
      "X_S_6_D_3 = 0\n",
      "X_S_6_D_4 = 0\n",
      "X_S_6_D_5 = 180\n",
      "X_S_6_D_6 = 0\n",
      "X_S_6_D_7 = 0\n",
      "X_S_6_D_8 = 30\n",
      "X_S_6_D_9 = 0\n",
      "X_S_6_D_10 = 70\n",
      "X_S_7_D_1 = 0\n",
      "X_S_7_D_2 = 0\n",
      "X_S_7_D_3 = 90\n",
      "X_S_7_D_4 = 0\n",
      "X_S_7_D_5 = 0\n",
      "X_S_7_D_6 = 0\n",
      "X_S_7_D_7 = 0\n",
      "X_S_7_D_8 = 0\n",
      "X_S_7_D_9 = 40\n",
      "X_S_7_D_10 = 0\n"
     ]
    }
   ],
   "source": [
    "# reporting optimal allocation\n",
    "for v in prob.getVars():\n",
    "    print(v.varName, \"=\", round(v.x))"
   ]
  },
  {
   "cell_type": "code",
   "execution_count": 63,
   "metadata": {},
   "outputs": [
    {
     "name": "stdout",
     "output_type": "stream",
     "text": [
      "The minimum allocation cost is:  54670.0\n"
     ]
    }
   ],
   "source": [
    "# reporting minimum cost\n",
    "print(\"The minimum allocation cost is: \", prob.objVal)"
   ]
  },
  {
   "cell_type": "code",
   "execution_count": null,
   "metadata": {},
   "outputs": [],
   "source": [
    "# according to the results, the transportation costs will change in comparison with problem 2 as a result of considering a cost for undersupplying a market.\n",
    "# also, since the transportation cost with $100/tone cost of not supplying is NOT 5 times the cost with $20/tone cost of not supplying,\n",
    "# it can be concluded that $100/tone is not in the allowable increase range for the cost of not supplying. "
   ]
  },
  {
   "cell_type": "markdown",
   "metadata": {},
   "source": [
    "**Problem 4:**\n",
    "\n",
    "In Problems 2 and 3, we assumed the firm is committed to distributing all the milk supplied by the seven remaining supply centers. Suppose the firm does not entertain this constraint anymore, and the cost of not supplying each tonne of milk to each demand center is  20\\\\$/tone. Formulate the problem of minimizing the sum of total transportation and not supplying costs using Gurobi and solve it. Then, report the optimal allocation and the minimum cost. Now suppose instead of 20\\\\$/tone, the not supplying cost is 100\\$/tone. Again, formulate the problem of minimizing the sum of total transportation and not supplying costs using Gurobi and solve it. Then, report the optimal allocation and the minimum cost. \n",
    "\n",
    "Do you see any difference between the optimal allocation in this problem and Problem 3? Do you have any educated guesses on why it is the case?"
   ]
  },
  {
   "cell_type": "code",
   "execution_count": 4,
   "metadata": {},
   "outputs": [],
   "source": [
    "# Your solution for Problem 4: \n",
    "# supply constraints would be <= inequalities \n",
    "# others will remain unchanged from problem 3"
   ]
  },
  {
   "cell_type": "code",
   "execution_count": 88,
   "metadata": {},
   "outputs": [],
   "source": [
    "# importing data\n",
    "Cost = [[20, 49, 16, 30,  8, 35, 21, 40, 10, 12],\n",
    "        [15, 53, 7, 20, 47, 11, 16, 17, 15, 44],\n",
    "        [22, 25, 42, 22, 31, 9, 11, 29, 20, 5],\n",
    "        [45,  6, 33, 35, 49, 25, 30, 47, 32, 31],\n",
    "        [9, 12, 41, 15, 38, 14, 53, 22, 12, 13],\n",
    "        [21, 24, 32, 49, 5, 47, 30, 23, 37, 8],\n",
    "        [12, 19,  5, 28, 47, 39, 15, 35, 9, 51]]\n",
    "\n",
    "SupplyCenter = ['S_1', 'S_2', 'S_3', 'S_4', 'S_5', 'S_6', 'S_7']\n",
    "Supply = [110, 80, 100, 240, 100, 280, 130]\n",
    "DemandMarket = ['D_1', 'D_2', 'D_3', 'D_4', 'D_5', 'D_6', 'D_7', 'D_8', 'D_9', 'D_10']\n",
    "Demand = [90, 100, 150, 190, 180, 240, 210, 90, 160, 70]\n",
    "\n",
    "Undersupply_Cost = [20, 20, 20, 20, 20, 20, 20, 20, 20, 20]"
   ]
  },
  {
   "cell_type": "code",
   "execution_count": 89,
   "metadata": {},
   "outputs": [],
   "source": [
    "# importing required libraries\n",
    "import gurobipy as gb\n",
    "from gurobipy import *\n",
    "import numpy as np"
   ]
  },
  {
   "cell_type": "code",
   "execution_count": 90,
   "metadata": {},
   "outputs": [],
   "source": [
    "S = len(SupplyCenter)\n",
    "D = len(DemandMarket)\n",
    "U = len(Undersupply_Cost)"
   ]
  },
  {
   "cell_type": "code",
   "execution_count": 91,
   "metadata": {},
   "outputs": [],
   "source": [
    "# defining the problem\n",
    "prob = gb.Model(\"Fresh Milk Transportation - Undersupply Penalty - Not necessarily supplying all the availabl production\")"
   ]
  },
  {
   "cell_type": "code",
   "execution_count": 92,
   "metadata": {},
   "outputs": [],
   "source": [
    "# defining decision variables\n",
    "X = prob.addVars(S,D, lb = 0, vtype = GRB.CONTINUOUS, name = [\"X_\"+i+\"_\"+j for i in SupplyCenter for j in DemandMarket])"
   ]
  },
  {
   "cell_type": "code",
   "execution_count": 93,
   "metadata": {},
   "outputs": [],
   "source": [
    "# defining the objective function\n",
    "# the objective function will change to reflect the cost of undersupplying a demand market\n",
    "# this cost will be added to the total costs\n",
    "# defining the objective function\n",
    "\n",
    "prob.setObjective(sum(Cost[i][j]*X[i,j] for i in range(S) for j in range(D)) + sum((Demand[j] - sum(X[i,j] for i in range(S)))*Undersupply_Cost[j] for j in range(D)), GRB.MINIMIZE)"
   ]
  },
  {
   "cell_type": "code",
   "execution_count": 94,
   "metadata": {},
   "outputs": [],
   "source": [
    "# defining supply constraints\n",
    "# the firm can choose not to supply all the produced milk.\n",
    "for i in range(S):\n",
    "    prob.addConstr(sum(X[i,j] for j in range(D)) <= Supply[i])"
   ]
  },
  {
   "cell_type": "code",
   "execution_count": 95,
   "metadata": {},
   "outputs": [],
   "source": [
    "# defining demand constraints\n",
    "# the firm can undersupply a demand market but it is not costless; \n",
    "# the cost of undersupplying a market has been considered in the revised objective function\n",
    "for j in range(D):\n",
    "    prob.addConstr(sum(X[i,j] for i in range(S)) <= Demand[j])"
   ]
  },
  {
   "cell_type": "code",
   "execution_count": 96,
   "metadata": {},
   "outputs": [
    {
     "name": "stdout",
     "output_type": "stream",
     "text": [
      "Gurobi Optimizer version 9.5.2 build v9.5.2rc0 (win64)\n",
      "Thread count: 8 physical cores, 16 logical processors, using up to 16 threads\n",
      "Optimize a model with 17 rows, 70 columns and 140 nonzeros\n",
      "Model fingerprint: 0xb37be3fc\n",
      "Coefficient statistics:\n",
      "  Matrix range     [1e+00, 1e+00]\n",
      "  Objective range  [1e+00, 3e+01]\n",
      "  Bounds range     [0e+00, 0e+00]\n",
      "  RHS range        [7e+01, 3e+02]\n",
      "Presolve removed 7 rows and 51 columns\n",
      "Presolve time: 0.02s\n",
      "Presolved: 10 rows, 19 columns, 35 nonzeros\n",
      "\n",
      "Iteration    Objective       Primal Inf.    Dual Inf.      Time\n",
      "       0    1.6649394e+04   5.748862e+01   0.000000e+00      0s\n",
      "       4    1.8640000e+04   0.000000e+00   0.000000e+00      0s\n",
      "\n",
      "Solved in 4 iterations and 0.03 seconds (0.00 work units)\n",
      "Optimal objective  1.864000000e+04\n"
     ]
    }
   ],
   "source": [
    "# solving the problem\n",
    "prob.optimize()"
   ]
  },
  {
   "cell_type": "code",
   "execution_count": 97,
   "metadata": {},
   "outputs": [
    {
     "name": "stdout",
     "output_type": "stream",
     "text": [
      "X_S_1_D_1 = 0\n",
      "X_S_1_D_2 = 0\n",
      "X_S_1_D_3 = 0\n",
      "X_S_1_D_4 = 0\n",
      "X_S_1_D_5 = 0\n",
      "X_S_1_D_6 = 0\n",
      "X_S_1_D_7 = 0\n",
      "X_S_1_D_8 = 0\n",
      "X_S_1_D_9 = 110\n",
      "X_S_1_D_10 = 0\n",
      "X_S_2_D_1 = 0\n",
      "X_S_2_D_2 = 0\n",
      "X_S_2_D_3 = 20\n",
      "X_S_2_D_4 = 0\n",
      "X_S_2_D_5 = 0\n",
      "X_S_2_D_6 = 60\n",
      "X_S_2_D_7 = 0\n",
      "X_S_2_D_8 = 0\n",
      "X_S_2_D_9 = 0\n",
      "X_S_2_D_10 = 0\n",
      "X_S_3_D_1 = 0\n",
      "X_S_3_D_2 = 0\n",
      "X_S_3_D_3 = 0\n",
      "X_S_3_D_4 = 0\n",
      "X_S_3_D_5 = 0\n",
      "X_S_3_D_6 = 100\n",
      "X_S_3_D_7 = 0\n",
      "X_S_3_D_8 = 0\n",
      "X_S_3_D_9 = 0\n",
      "X_S_3_D_10 = 0\n",
      "X_S_4_D_1 = 0\n",
      "X_S_4_D_2 = 100\n",
      "X_S_4_D_3 = 0\n",
      "X_S_4_D_4 = 0\n",
      "X_S_4_D_5 = 0\n",
      "X_S_4_D_6 = 0\n",
      "X_S_4_D_7 = 0\n",
      "X_S_4_D_8 = 0\n",
      "X_S_4_D_9 = 0\n",
      "X_S_4_D_10 = 0\n",
      "X_S_5_D_1 = 90\n",
      "X_S_5_D_2 = 0\n",
      "X_S_5_D_3 = 0\n",
      "X_S_5_D_4 = 0\n",
      "X_S_5_D_5 = 0\n",
      "X_S_5_D_6 = 0\n",
      "X_S_5_D_7 = 0\n",
      "X_S_5_D_8 = 0\n",
      "X_S_5_D_9 = 10\n",
      "X_S_5_D_10 = 0\n",
      "X_S_6_D_1 = 0\n",
      "X_S_6_D_2 = 0\n",
      "X_S_6_D_3 = 0\n",
      "X_S_6_D_4 = 0\n",
      "X_S_6_D_5 = 180\n",
      "X_S_6_D_6 = 0\n",
      "X_S_6_D_7 = 0\n",
      "X_S_6_D_8 = 0\n",
      "X_S_6_D_9 = 0\n",
      "X_S_6_D_10 = 70\n",
      "X_S_7_D_1 = 0\n",
      "X_S_7_D_2 = 0\n",
      "X_S_7_D_3 = 130\n",
      "X_S_7_D_4 = 0\n",
      "X_S_7_D_5 = 0\n",
      "X_S_7_D_6 = 0\n",
      "X_S_7_D_7 = 0\n",
      "X_S_7_D_8 = 0\n",
      "X_S_7_D_9 = 0\n",
      "X_S_7_D_10 = 0\n"
     ]
    }
   ],
   "source": [
    "# reporting optimal allocation\n",
    "for v in prob.getVars():\n",
    "    print(v.varName, \"=\", round(v.x))"
   ]
  },
  {
   "cell_type": "code",
   "execution_count": 98,
   "metadata": {},
   "outputs": [
    {
     "name": "stdout",
     "output_type": "stream",
     "text": [
      "The minimum allocation cost is:  18640.0\n"
     ]
    }
   ],
   "source": [
    "# reporting minimum cost\n",
    "print(\"The minimum allocation cost is: \", prob.objVal)"
   ]
  },
  {
   "cell_type": "code",
   "execution_count": 51,
   "metadata": {},
   "outputs": [],
   "source": [
    "# Since the cost of not supplying all the production is less than some of the transportation costs, \n",
    "# the firm can decrease the costs by not supplying a part of the production. \n",
    "# So, they will not supply all the production and the total costs would be less than the first part of problem 3."
   ]
  },
  {
   "cell_type": "code",
   "execution_count": 52,
   "metadata": {},
   "outputs": [],
   "source": [
    "# Solving the problem for the not supplying cost of $100/tone\n",
    "# like problem 3, everything will remain unchanged comparing to the previous case (problem 4 with the not supplying cost of $20/tone) from the modeling perspective\n",
    "# just the undersupply cost list will change as follows:"
   ]
  },
  {
   "cell_type": "code",
   "execution_count": 31,
   "metadata": {},
   "outputs": [],
   "source": [
    "# importing data\n",
    "Cost = [[20, 49, 16, 30,  8, 35, 21, 40, 10, 12],\n",
    "        [15, 53, 7, 20, 47, 11, 16, 17, 15, 44],\n",
    "        [22, 25, 42, 22, 31, 9, 11, 29, 20, 5],\n",
    "        [45,  6, 33, 35, 49, 25, 30, 47, 32, 31],\n",
    "        [9, 12, 41, 15, 38, 14, 53, 22, 12, 13],\n",
    "        [21, 24, 32, 49, 5, 47, 30, 23, 37, 8],\n",
    "        [12, 19,  5, 28, 47, 39, 15, 35, 9, 51]]\n",
    "\n",
    "SupplyCenter = ['S_1', 'S_2', 'S_3', 'S_4', 'S_5', 'S_6', 'S_7']\n",
    "Supply = [110, 80, 100, 240, 100, 280, 130]\n",
    "DemandMarket = ['D_1', 'D_2', 'D_3', 'D_4', 'D_5', 'D_6', 'D_7', 'D_8', 'D_9', 'D_10']\n",
    "Demand = [90, 100, 150, 190, 180, 240, 210, 90, 160, 70]\n",
    "\n",
    "Undersupply_Cost = [100, 100, 100, 100, 100, 100, 100, 100, 100, 100]"
   ]
  },
  {
   "cell_type": "code",
   "execution_count": 32,
   "metadata": {},
   "outputs": [],
   "source": [
    "# importing required libraries\n",
    "import gurobipy as gb\n",
    "from gurobipy import *\n",
    "import numpy as np"
   ]
  },
  {
   "cell_type": "code",
   "execution_count": 33,
   "metadata": {},
   "outputs": [],
   "source": [
    "S = len(SupplyCenter)\n",
    "D = len(DemandMarket)\n",
    "U = len(Undersupply_Cost)"
   ]
  },
  {
   "cell_type": "code",
   "execution_count": 34,
   "metadata": {},
   "outputs": [],
   "source": [
    "# defining the problem\n",
    "prob = gb.Model(\"Fresh Milk Transportation - Undersupply Penalty - Not necessarily supplying all the availabl production\")"
   ]
  },
  {
   "cell_type": "code",
   "execution_count": 35,
   "metadata": {},
   "outputs": [],
   "source": [
    "# defining decision variables\n",
    "X = prob.addVars(S,D, lb = 0, vtype = GRB.CONTINUOUS, name = [\"X_\"+i+\"_\"+j for i in SupplyCenter for j in DemandMarket])"
   ]
  },
  {
   "cell_type": "code",
   "execution_count": 36,
   "metadata": {},
   "outputs": [],
   "source": [
    "# defining the objective function\n",
    "# the objective function will change to reflect the cost of undersupplying a demand market\n",
    "# this cost will be added to the total costs\n",
    "# defining the objective function\n",
    "\n",
    "prob.setObjective(sum(Cost[i][j]*X[i,j] for i in range(S) for j in range(D)) + sum((Demand[j] - sum(X[i,j] for i in range(S)))*Undersupply_Cost[j] for j in range(D)), GRB.MINIMIZE)"
   ]
  },
  {
   "cell_type": "code",
   "execution_count": 37,
   "metadata": {},
   "outputs": [],
   "source": [
    "# defining supply constraints\n",
    "# the firm can choose not to supply all the produced milk.\n",
    "for i in range(S):\n",
    "    prob.addConstr(sum(X[i,j] for j in range(D)) <= Supply[i])"
   ]
  },
  {
   "cell_type": "code",
   "execution_count": 38,
   "metadata": {},
   "outputs": [],
   "source": [
    "# defining demand constraints\n",
    "# the firm can undersupply a demand market but it is not costless; \n",
    "# the cost of undersupplying a market has been considered in the revised objective function\n",
    "for j in range(D):\n",
    "    prob.addConstr(sum(X[i,j] for i in range(S)) <= Demand[j])"
   ]
  },
  {
   "cell_type": "code",
   "execution_count": 39,
   "metadata": {},
   "outputs": [
    {
     "name": "stdout",
     "output_type": "stream",
     "text": [
      "Gurobi Optimizer version 9.5.2 build v9.5.2rc0 (win64)\n",
      "Thread count: 8 physical cores, 16 logical processors, using up to 16 threads\n",
      "Optimize a model with 17 rows, 70 columns and 140 nonzeros\n",
      "Model fingerprint: 0x89cf44b1\n",
      "Coefficient statistics:\n",
      "  Matrix range     [1e+00, 1e+00]\n",
      "  Objective range  [5e+01, 1e+02]\n",
      "  Bounds range     [0e+00, 0e+00]\n",
      "  RHS range        [7e+01, 3e+02]\n",
      "Presolve time: 0.01s\n",
      "Presolved: 17 rows, 70 columns, 140 nonzeros\n",
      "\n",
      "Iteration    Objective       Primal Inf.    Dual Inf.      Time\n",
      "       0   -5.2000000e+33   1.400000e+32   5.200000e+03      0s\n",
      "      16    5.4670000e+04   0.000000e+00   0.000000e+00      0s\n",
      "\n",
      "Solved in 16 iterations and 0.02 seconds (0.00 work units)\n",
      "Optimal objective  5.467000000e+04\n"
     ]
    }
   ],
   "source": [
    "# solving the problem\n",
    "prob.optimize()"
   ]
  },
  {
   "cell_type": "code",
   "execution_count": 40,
   "metadata": {},
   "outputs": [
    {
     "name": "stdout",
     "output_type": "stream",
     "text": [
      "X_S_1_D_1 = 0\n",
      "X_S_1_D_2 = 0\n",
      "X_S_1_D_3 = 0\n",
      "X_S_1_D_4 = 0\n",
      "X_S_1_D_5 = 0\n",
      "X_S_1_D_6 = 0\n",
      "X_S_1_D_7 = 0\n",
      "X_S_1_D_8 = 0\n",
      "X_S_1_D_9 = 110\n",
      "X_S_1_D_10 = 0\n",
      "X_S_2_D_1 = 0\n",
      "X_S_2_D_2 = 0\n",
      "X_S_2_D_3 = 60\n",
      "X_S_2_D_4 = 0\n",
      "X_S_2_D_5 = 0\n",
      "X_S_2_D_6 = 20\n",
      "X_S_2_D_7 = 0\n",
      "X_S_2_D_8 = 0\n",
      "X_S_2_D_9 = 0\n",
      "X_S_2_D_10 = 0\n",
      "X_S_3_D_1 = 0\n",
      "X_S_3_D_2 = 0\n",
      "X_S_3_D_3 = 0\n",
      "X_S_3_D_4 = 0\n",
      "X_S_3_D_5 = 0\n",
      "X_S_3_D_6 = 80\n",
      "X_S_3_D_7 = 20\n",
      "X_S_3_D_8 = 0\n",
      "X_S_3_D_9 = 0\n",
      "X_S_3_D_10 = 0\n",
      "X_S_4_D_1 = 0\n",
      "X_S_4_D_2 = 100\n",
      "X_S_4_D_3 = 0\n",
      "X_S_4_D_4 = 0\n",
      "X_S_4_D_5 = 0\n",
      "X_S_4_D_6 = 140\n",
      "X_S_4_D_7 = 0\n",
      "X_S_4_D_8 = 0\n",
      "X_S_4_D_9 = 0\n",
      "X_S_4_D_10 = 0\n",
      "X_S_5_D_1 = 90\n",
      "X_S_5_D_2 = 0\n",
      "X_S_5_D_3 = 0\n",
      "X_S_5_D_4 = 0\n",
      "X_S_5_D_5 = 0\n",
      "X_S_5_D_6 = 0\n",
      "X_S_5_D_7 = 0\n",
      "X_S_5_D_8 = 0\n",
      "X_S_5_D_9 = 10\n",
      "X_S_5_D_10 = 0\n",
      "X_S_6_D_1 = 0\n",
      "X_S_6_D_2 = 0\n",
      "X_S_6_D_3 = 0\n",
      "X_S_6_D_4 = 0\n",
      "X_S_6_D_5 = 180\n",
      "X_S_6_D_6 = 0\n",
      "X_S_6_D_7 = 0\n",
      "X_S_6_D_8 = 30\n",
      "X_S_6_D_9 = 0\n",
      "X_S_6_D_10 = 70\n",
      "X_S_7_D_1 = 0\n",
      "X_S_7_D_2 = 0\n",
      "X_S_7_D_3 = 90\n",
      "X_S_7_D_4 = 0\n",
      "X_S_7_D_5 = 0\n",
      "X_S_7_D_6 = 0\n",
      "X_S_7_D_7 = 0\n",
      "X_S_7_D_8 = 0\n",
      "X_S_7_D_9 = 40\n",
      "X_S_7_D_10 = 0\n"
     ]
    }
   ],
   "source": [
    "# reporting optimal allocation\n",
    "for v in prob.getVars():\n",
    "    print(v.varName, \"=\", round(v.x))"
   ]
  },
  {
   "cell_type": "code",
   "execution_count": 41,
   "metadata": {},
   "outputs": [
    {
     "name": "stdout",
     "output_type": "stream",
     "text": [
      "The minimum allocation cost is:  54670.0\n"
     ]
    }
   ],
   "source": [
    "# reporting minimum cost\n",
    "print(\"The minimum allocation cost is: \", prob.objVal)"
   ]
  },
  {
   "cell_type": "code",
   "execution_count": 64,
   "metadata": {},
   "outputs": [],
   "source": [
    "# Since the cost of not supplying all the production is higher than all the transportation costs, \n",
    "# the firm would supply all the production despite having the choice of not doing so. \n",
    "# It means it is still more profitable for the firm to supply all the production."
   ]
  },
  {
   "cell_type": "markdown",
   "metadata": {},
   "source": [
    "**Problem 5:**\n",
    "\n",
    "In Problems 2, 3 and 4, we assumed the no-supply cost is the same for all demand centers. However, this may not be the case. The estimations by the *short-term team* indicate that the cost of not supplying a tonne of milk to each demand center is as follows:\n",
    "\n",
    "| | $D_1$| $D_2$ | $D_3$ | $D_4$ | $D_5$ | $D_6$ | $D_7$ | $D_8$ | $D_9$ | $D_{10}$|\n",
    "|--| -- | -- | -- | -- | -- | -- | -- | -- | -- | -- |\n",
    "| Cost of not supplying (\\\\$/tonne) |15|20|25|30|28|35|32|15|25|10|\n",
    "\n",
    "Additionally, like Problem 2, the firm should supply all the milk provided by the remaining seven supply centers. Formulate the problem of minimizing the sum of total transportation and not supplying costs using Gurobi and then solve it. Report the optimal allocation and the minimum cost. Is the optimal allocation the same as Problem 2? Why?"
   ]
  },
  {
   "cell_type": "code",
   "execution_count": 5,
   "metadata": {},
   "outputs": [],
   "source": [
    "# Your solution for Problem 5: "
   ]
  },
  {
   "cell_type": "code",
   "execution_count": 65,
   "metadata": {},
   "outputs": [],
   "source": [
    "# this question is very similar to problem 3. The main change is the variable cost of not supplying. \n",
    "# therefore, the undersupply cost list will change according to the provided data. \n",
    "# Also, the firm has to supply all the milk produced by the seven remaining suppliers."
   ]
  },
  {
   "cell_type": "code",
   "execution_count": 64,
   "metadata": {},
   "outputs": [],
   "source": [
    "# importing data\n",
    "Cost = [[20, 49, 16, 30,  8, 35, 21, 40, 10, 12],\n",
    "        [15, 53, 7, 20, 47, 11, 16, 17, 15, 44],\n",
    "        [22, 25, 42, 22, 31, 9, 11, 29, 20, 5],\n",
    "        [45,  6, 33, 35, 49, 25, 30, 47, 32, 31],\n",
    "        [9, 12, 41, 15, 38, 14, 53, 22, 12, 13],\n",
    "        [21, 24, 32, 49, 5, 47, 30, 23, 37, 8],\n",
    "        [12, 19,  5, 28, 47, 39, 15, 35, 9, 51]]\n",
    "\n",
    "SupplyCenter = ['S_1', 'S_2', 'S_3', 'S_4', 'S_5', 'S_6', 'S_7']\n",
    "Supply = [110, 80, 100, 240, 100, 280, 130]\n",
    "DemandMarket = ['D_1', 'D_2', 'D_3', 'D_4', 'D_5', 'D_6', 'D_7', 'D_8', 'D_9', 'D_10']\n",
    "Demand = [90, 100, 150, 190, 180, 240, 210, 90, 160, 70]\n",
    "\n",
    "Undersupply_Cost = [15, 20, 25, 30, 28, 35, 32, 15, 25, 10]"
   ]
  },
  {
   "cell_type": "code",
   "execution_count": 65,
   "metadata": {},
   "outputs": [],
   "source": [
    "# importing required libraries\n",
    "import gurobipy as gb\n",
    "from gurobipy import *\n",
    "import numpy as np"
   ]
  },
  {
   "cell_type": "code",
   "execution_count": 66,
   "metadata": {},
   "outputs": [],
   "source": [
    "S = len(SupplyCenter)\n",
    "D = len(DemandMarket)\n",
    "U = len(Undersupply_Cost)"
   ]
  },
  {
   "cell_type": "code",
   "execution_count": 67,
   "metadata": {},
   "outputs": [],
   "source": [
    "# defining the problem\n",
    "prob = gb.Model(\"Fresh Milk Transportation - Undersupply Penalty - variable cost of not supplying\")"
   ]
  },
  {
   "cell_type": "code",
   "execution_count": 68,
   "metadata": {},
   "outputs": [],
   "source": [
    "# defining decision variables\n",
    "X = prob.addVars(S,D, lb = 0, vtype = GRB.CONTINUOUS, name = [\"X_\"+i+\"_\"+j for i in SupplyCenter for j in DemandMarket])"
   ]
  },
  {
   "cell_type": "code",
   "execution_count": 69,
   "metadata": {},
   "outputs": [],
   "source": [
    "# defining the objective function\n",
    "# the objective function will change to reflect the cost of undersupplying a demand market\n",
    "# this cost will be added to the total costs\n",
    "# defining the objective function\n",
    "\n",
    "prob.setObjective(sum(Cost[i][j]*X[i,j] for i in range(S) for j in range(D)) + sum((Demand[j] - sum(X[i,j] for i in range(S)))*Undersupply_Cost[j] for j in range(D)), GRB.MINIMIZE)"
   ]
  },
  {
   "cell_type": "code",
   "execution_count": 70,
   "metadata": {},
   "outputs": [],
   "source": [
    "# defining supply constraints\n",
    "# all the milk provided by the seven remaining supply centers should still be supplied.\n",
    "for i in range(S):\n",
    "    prob.addConstr(sum(X[i,j] for j in range(D)) == Supply[i])"
   ]
  },
  {
   "cell_type": "code",
   "execution_count": 71,
   "metadata": {},
   "outputs": [],
   "source": [
    "# defining demand constraints\n",
    "# the firm can undersupply a demand market but it is not costless; \n",
    "# the cost of undersupplying a market has been considered in the revised objective function\n",
    "for j in range(D):\n",
    "    prob.addConstr(sum(X[i,j] for i in range(S)) <= Demand[j])"
   ]
  },
  {
   "cell_type": "code",
   "execution_count": 72,
   "metadata": {},
   "outputs": [
    {
     "name": "stdout",
     "output_type": "stream",
     "text": [
      "Gurobi Optimizer version 9.5.2 build v9.5.2rc0 (win64)\n",
      "Thread count: 8 physical cores, 16 logical processors, using up to 16 threads\n",
      "Optimize a model with 17 rows, 70 columns and 140 nonzeros\n",
      "Model fingerprint: 0x6fa7bd58\n",
      "Coefficient statistics:\n",
      "  Matrix range     [1e+00, 1e+00]\n",
      "  Objective range  [1e+00, 4e+01]\n",
      "  Bounds range     [0e+00, 0e+00]\n",
      "  RHS range        [7e+01, 3e+02]\n",
      "Presolve time: 0.02s\n",
      "Presolved: 17 rows, 70 columns, 140 nonzeros\n",
      "\n",
      "Iteration    Objective       Primal Inf.    Dual Inf.      Time\n",
      "       0   -3.7300000e+32   5.600000e+31   3.730000e+02      0s\n",
      "      14    2.1980000e+04   0.000000e+00   0.000000e+00      0s\n",
      "\n",
      "Solved in 14 iterations and 0.03 seconds (0.00 work units)\n",
      "Optimal objective  2.198000000e+04\n"
     ]
    }
   ],
   "source": [
    "# solving the problem\n",
    "prob.optimize()"
   ]
  },
  {
   "cell_type": "code",
   "execution_count": 73,
   "metadata": {},
   "outputs": [
    {
     "name": "stdout",
     "output_type": "stream",
     "text": [
      "X_S_1_D_1 = 0\n",
      "X_S_1_D_2 = 0\n",
      "X_S_1_D_3 = 0\n",
      "X_S_1_D_4 = 0\n",
      "X_S_1_D_5 = 0\n",
      "X_S_1_D_6 = 0\n",
      "X_S_1_D_7 = 0\n",
      "X_S_1_D_8 = 0\n",
      "X_S_1_D_9 = 110\n",
      "X_S_1_D_10 = 0\n",
      "X_S_2_D_1 = 0\n",
      "X_S_2_D_2 = 0\n",
      "X_S_2_D_3 = 20\n",
      "X_S_2_D_4 = 0\n",
      "X_S_2_D_5 = 0\n",
      "X_S_2_D_6 = 60\n",
      "X_S_2_D_7 = 0\n",
      "X_S_2_D_8 = 0\n",
      "X_S_2_D_9 = 0\n",
      "X_S_2_D_10 = 0\n",
      "X_S_3_D_1 = 0\n",
      "X_S_3_D_2 = 0\n",
      "X_S_3_D_3 = 0\n",
      "X_S_3_D_4 = 0\n",
      "X_S_3_D_5 = 0\n",
      "X_S_3_D_6 = 0\n",
      "X_S_3_D_7 = 100\n",
      "X_S_3_D_8 = 0\n",
      "X_S_3_D_9 = 0\n",
      "X_S_3_D_10 = 0\n",
      "X_S_4_D_1 = 0\n",
      "X_S_4_D_2 = 100\n",
      "X_S_4_D_3 = 0\n",
      "X_S_4_D_4 = 0\n",
      "X_S_4_D_5 = 0\n",
      "X_S_4_D_6 = 140\n",
      "X_S_4_D_7 = 0\n",
      "X_S_4_D_8 = 0\n",
      "X_S_4_D_9 = 0\n",
      "X_S_4_D_10 = 0\n",
      "X_S_5_D_1 = 0\n",
      "X_S_5_D_2 = 0\n",
      "X_S_5_D_3 = 0\n",
      "X_S_5_D_4 = 60\n",
      "X_S_5_D_5 = 0\n",
      "X_S_5_D_6 = 40\n",
      "X_S_5_D_7 = 0\n",
      "X_S_5_D_8 = 0\n",
      "X_S_5_D_9 = 0\n",
      "X_S_5_D_10 = 0\n",
      "X_S_6_D_1 = 0\n",
      "X_S_6_D_2 = 0\n",
      "X_S_6_D_3 = 0\n",
      "X_S_6_D_4 = 0\n",
      "X_S_6_D_5 = 180\n",
      "X_S_6_D_6 = 0\n",
      "X_S_6_D_7 = 30\n",
      "X_S_6_D_8 = 0\n",
      "X_S_6_D_9 = 0\n",
      "X_S_6_D_10 = 70\n",
      "X_S_7_D_1 = 0\n",
      "X_S_7_D_2 = 0\n",
      "X_S_7_D_3 = 130\n",
      "X_S_7_D_4 = 0\n",
      "X_S_7_D_5 = 0\n",
      "X_S_7_D_6 = 0\n",
      "X_S_7_D_7 = 0\n",
      "X_S_7_D_8 = 0\n",
      "X_S_7_D_9 = 0\n",
      "X_S_7_D_10 = 0\n"
     ]
    }
   ],
   "source": [
    "# reporting optimal allocation\n",
    "for v in prob.getVars():\n",
    "    print(v.varName, \"=\", round(v.x))"
   ]
  },
  {
   "cell_type": "code",
   "execution_count": 74,
   "metadata": {},
   "outputs": [
    {
     "name": "stdout",
     "output_type": "stream",
     "text": [
      "The minimum allocation cost is:  21980.0\n"
     ]
    }
   ],
   "source": [
    "# reporting minimum cost\n",
    "print(\"The minimum allocation cost is: \", prob.objVal)"
   ]
  },
  {
   "cell_type": "code",
   "execution_count": null,
   "metadata": {},
   "outputs": [],
   "source": [
    "# since undersupplying a demand market is not costless, the minimum cost is different from problem 2.\n",
    "# the firm can choose to undersupply a market but the cost associated with this decision will be considered in the objective function.\n",
    "# since the cost of not supplying the milk produced by different supply centers are different, the firm can choose supplier(s) from which they are not going to deliver all the production.\n",
    "# so, they will choose not to supply all the production from those supplier with lower cost of not supplying.\n",
    "# therefore, they can lower the cost of not supplying; hence, lowering the total cost."
   ]
  },
  {
   "cell_type": "markdown",
   "metadata": {},
   "source": [
    "**Problem 6:**\n",
    "\n",
    "Again, suppose not supplying milk to a demand market is costless (like Problem 2,) but the firm is still committed to supplying all the available milk. This time, the firm decides to supply the milk so that each demand center receives at least 50% of its demand. Formulate the problem of minimizing the total transportation costs using Gurobi and solve it. Then, report the optimal allocation and the minimum cost. \n",
    "\n",
    "Compare the optimal cost with your answer to Problem 2. Is it more or less? Why?\n",
    "\n",
    "Suppose the firm sets this bar to 90% - each demand center should receive at least 90% of its demand. Is it possible? What is the maximum possible percentage?"
   ]
  },
  {
   "cell_type": "code",
   "execution_count": 8,
   "metadata": {},
   "outputs": [],
   "source": [
    "# Your solution for Problem 6:"
   ]
  },
  {
   "cell_type": "code",
   "execution_count": 39,
   "metadata": {},
   "outputs": [],
   "source": [
    "# importing data\n",
    "Cost = [[20, 49, 16, 30,  8, 35, 21, 40, 10, 12],\n",
    "        [15, 53, 7, 20, 47, 11, 16, 17, 15, 44],\n",
    "        [22, 25, 42, 22, 31, 9, 11, 29, 20, 5],\n",
    "        [45,  6, 33, 35, 49, 25, 30, 47, 32, 31],\n",
    "        [9, 12, 41, 15, 38, 14, 53, 22, 12, 13],\n",
    "        [21, 24, 32, 49, 5, 47, 30, 23, 37, 8],\n",
    "        [12, 19,  5, 28, 47, 39, 15, 35, 9, 51]]\n",
    "\n",
    "SupplyCenter = ['S_1', 'S_2', 'S_3', 'S_4', 'S_5', 'S_6', 'S_7']\n",
    "Supply = [110, 80, 100, 240, 100, 280, 130]\n",
    "DemandMarket = ['D_1', 'D_2', 'D_3', 'D_4', 'D_5', 'D_6', 'D_7', 'D_8', 'D_9', 'D_10']\n",
    "Demand = [90, 100, 150, 190, 180, 240, 210, 90, 160, 70]\n"
   ]
  },
  {
   "cell_type": "code",
   "execution_count": 40,
   "metadata": {},
   "outputs": [],
   "source": [
    "# importing required libraries\n",
    "import gurobipy as gb\n",
    "from gurobipy import *\n",
    "import numpy as np"
   ]
  },
  {
   "cell_type": "code",
   "execution_count": 41,
   "metadata": {},
   "outputs": [],
   "source": [
    "S = len(SupplyCenter)\n",
    "D = len(DemandMarket)"
   ]
  },
  {
   "cell_type": "code",
   "execution_count": 42,
   "metadata": {},
   "outputs": [],
   "source": [
    "# defining the problem\n",
    "prob = gb.Model(\"Fresh Milk Transportation - Min 50% Supply\")"
   ]
  },
  {
   "cell_type": "code",
   "execution_count": 43,
   "metadata": {},
   "outputs": [],
   "source": [
    "# defining decision variables\n",
    "X = prob.addVars(S,D, lb = 0, vtype = GRB.CONTINUOUS, name = [\"X_\"+i+\"_\"+j for i in SupplyCenter for j in DemandMarket])"
   ]
  },
  {
   "cell_type": "code",
   "execution_count": 44,
   "metadata": {},
   "outputs": [],
   "source": [
    "# defining the objective function\n",
    "prob.setObjective(sum(Cost[i][j]*X[i,j] for i in range(S) for j in range(D)), GRB.MINIMIZE)"
   ]
  },
  {
   "cell_type": "code",
   "execution_count": 45,
   "metadata": {},
   "outputs": [],
   "source": [
    "# defining supply constraints\n",
    "# all the milk provided by the seven remaining supply centers should be supplied.\n",
    "for i in range(S):\n",
    "    prob.addConstr(sum(X[i,j] for j in range(D)) == Supply[i])"
   ]
  },
  {
   "cell_type": "code",
   "execution_count": 47,
   "metadata": {},
   "outputs": [],
   "source": [
    "# defining demand constraints\n",
    "# not supplying to a demand market is costless.\n",
    "# since not supplying to a demand market at all is costless, it can be concluded that partial supplying to a demand market is also costless.\n",
    "for j in range(D):\n",
    "    prob.addConstr(sum(X[i,j] for i in range(S)) <= Demand[j])"
   ]
  },
  {
   "cell_type": "code",
   "execution_count": 48,
   "metadata": {},
   "outputs": [],
   "source": [
    "# but the supply to each market is at least 50% of the market's demand.\n",
    "for j in range(D):\n",
    "    prob.addConstr(sum(X[i,j] for i in range(S)) >= 0.5*Demand[j])"
   ]
  },
  {
   "cell_type": "code",
   "execution_count": 49,
   "metadata": {},
   "outputs": [
    {
     "name": "stdout",
     "output_type": "stream",
     "text": [
      "Gurobi Optimizer version 9.5.2 build v9.5.2rc0 (win64)\n",
      "Thread count: 8 physical cores, 16 logical processors, using up to 16 threads\n",
      "Optimize a model with 27 rows, 70 columns and 210 nonzeros\n",
      "Model fingerprint: 0x9102bf9e\n",
      "Coefficient statistics:\n",
      "  Matrix range     [1e+00, 1e+00]\n",
      "  Objective range  [5e+00, 5e+01]\n",
      "  Bounds range     [0e+00, 0e+00]\n",
      "  RHS range        [4e+01, 3e+02]\n",
      "Presolve removed 10 rows and 0 columns\n",
      "Presolve time: 0.01s\n",
      "Presolved: 17 rows, 80 columns, 150 nonzeros\n",
      "\n",
      "Iteration    Objective       Primal Inf.    Dual Inf.      Time\n",
      "       0    0.0000000e+00   2.225000e+02   0.000000e+00      0s\n",
      "      22    1.1605000e+04   0.000000e+00   0.000000e+00      0s\n",
      "\n",
      "Solved in 22 iterations and 0.01 seconds (0.00 work units)\n",
      "Optimal objective  1.160500000e+04\n"
     ]
    }
   ],
   "source": [
    "# solving the problem\n",
    "prob.optimize()"
   ]
  },
  {
   "cell_type": "code",
   "execution_count": 50,
   "metadata": {},
   "outputs": [
    {
     "name": "stdout",
     "output_type": "stream",
     "text": [
      "X_S_1_D_1 = 0\n",
      "X_S_1_D_2 = 0\n",
      "X_S_1_D_3 = 0\n",
      "X_S_1_D_4 = 0\n",
      "X_S_1_D_5 = 0\n",
      "X_S_1_D_6 = 0\n",
      "X_S_1_D_7 = 0\n",
      "X_S_1_D_8 = 0\n",
      "X_S_1_D_9 = 110\n",
      "X_S_1_D_10 = 0\n",
      "X_S_2_D_1 = 0\n",
      "X_S_2_D_2 = 0\n",
      "X_S_2_D_3 = 65\n",
      "X_S_2_D_4 = 0\n",
      "X_S_2_D_5 = 0\n",
      "X_S_2_D_6 = 0\n",
      "X_S_2_D_7 = 0\n",
      "X_S_2_D_8 = 15\n",
      "X_S_2_D_9 = 0\n",
      "X_S_2_D_10 = 0\n",
      "X_S_3_D_1 = 0\n",
      "X_S_3_D_2 = 0\n",
      "X_S_3_D_3 = 0\n",
      "X_S_3_D_4 = 0\n",
      "X_S_3_D_5 = 0\n",
      "X_S_3_D_6 = 0\n",
      "X_S_3_D_7 = 100\n",
      "X_S_3_D_8 = 0\n",
      "X_S_3_D_9 = 0\n",
      "X_S_3_D_10 = 0\n",
      "X_S_4_D_1 = 0\n",
      "X_S_4_D_2 = 100\n",
      "X_S_4_D_3 = 0\n",
      "X_S_4_D_4 = 0\n",
      "X_S_4_D_5 = 0\n",
      "X_S_4_D_6 = 135\n",
      "X_S_4_D_7 = 5\n",
      "X_S_4_D_8 = 0\n",
      "X_S_4_D_9 = 0\n",
      "X_S_4_D_10 = 0\n",
      "X_S_5_D_1 = 5\n",
      "X_S_5_D_2 = 0\n",
      "X_S_5_D_3 = 0\n",
      "X_S_5_D_4 = 95\n",
      "X_S_5_D_5 = 0\n",
      "X_S_5_D_6 = 0\n",
      "X_S_5_D_7 = 0\n",
      "X_S_5_D_8 = 0\n",
      "X_S_5_D_9 = 0\n",
      "X_S_5_D_10 = 0\n",
      "X_S_6_D_1 = 0\n",
      "X_S_6_D_2 = 0\n",
      "X_S_6_D_3 = 0\n",
      "X_S_6_D_4 = 0\n",
      "X_S_6_D_5 = 180\n",
      "X_S_6_D_6 = 0\n",
      "X_S_6_D_7 = 0\n",
      "X_S_6_D_8 = 30\n",
      "X_S_6_D_9 = 0\n",
      "X_S_6_D_10 = 70\n",
      "X_S_7_D_1 = 40\n",
      "X_S_7_D_2 = 0\n",
      "X_S_7_D_3 = 85\n",
      "X_S_7_D_4 = 0\n",
      "X_S_7_D_5 = 0\n",
      "X_S_7_D_6 = 0\n",
      "X_S_7_D_7 = 0\n",
      "X_S_7_D_8 = 0\n",
      "X_S_7_D_9 = 5\n",
      "X_S_7_D_10 = 0\n"
     ]
    }
   ],
   "source": [
    "# reporting optimal allocation\n",
    "for v in prob.getVars():\n",
    "    print(v.varName, \"=\", round(v.x))"
   ]
  },
  {
   "cell_type": "code",
   "execution_count": 51,
   "metadata": {},
   "outputs": [
    {
     "name": "stdout",
     "output_type": "stream",
     "text": [
      "The minimum allocation cost is:  11605.0\n"
     ]
    }
   ],
   "source": [
    "# reporting minimum cost\n",
    "print(\"The minimum allocation cost is: \", prob.objVal)"
   ]
  },
  {
   "cell_type": "code",
   "execution_count": 75,
   "metadata": {},
   "outputs": [],
   "source": [
    "# in comparison with problem 2, the transportation costs are higher in this case because the firm commits to supply at least\n",
    "# 50 percent of the demand in each market. However, in problem 2, they could supplier less than 50% of the demand \n",
    "# to a certain market to lower the total transportation costs. "
   ]
  },
  {
   "cell_type": "code",
   "execution_count": 52,
   "metadata": {},
   "outputs": [],
   "source": [
    "# importing data\n",
    "Cost = [[20, 49, 16, 30,  8, 35, 21, 40, 10, 12],\n",
    "        [15, 53, 7, 20, 47, 11, 16, 17, 15, 44],\n",
    "        [22, 25, 42, 22, 31, 9, 11, 29, 20, 5],\n",
    "        [45,  6, 33, 35, 49, 25, 30, 47, 32, 31],\n",
    "        [9, 12, 41, 15, 38, 14, 53, 22, 12, 13],\n",
    "        [21, 24, 32, 49, 5, 47, 30, 23, 37, 8],\n",
    "        [12, 19,  5, 28, 47, 39, 15, 35, 9, 51]]\n",
    "\n",
    "SupplyCenter = ['S_1', 'S_2', 'S_3', 'S_4', 'S_5', 'S_6', 'S_7']\n",
    "Supply = [110, 80, 100, 240, 100, 280, 130]\n",
    "DemandMarket = ['D_1', 'D_2', 'D_3', 'D_4', 'D_5', 'D_6', 'D_7', 'D_8', 'D_9', 'D_10']\n",
    "Demand = [90, 100, 150, 190, 180, 240, 210, 90, 160, 70]\n"
   ]
  },
  {
   "cell_type": "code",
   "execution_count": 53,
   "metadata": {},
   "outputs": [],
   "source": [
    "# importing required libraries\n",
    "import gurobipy as gb\n",
    "from gurobipy import *\n",
    "import numpy as np"
   ]
  },
  {
   "cell_type": "code",
   "execution_count": 54,
   "metadata": {},
   "outputs": [],
   "source": [
    "S = len(SupplyCenter)\n",
    "D = len(DemandMarket)"
   ]
  },
  {
   "cell_type": "code",
   "execution_count": 55,
   "metadata": {},
   "outputs": [],
   "source": [
    "# defining the problem\n",
    "prob = gb.Model(\"Fresh Milk Transportation - Min 90% Supply\")"
   ]
  },
  {
   "cell_type": "code",
   "execution_count": 56,
   "metadata": {},
   "outputs": [],
   "source": [
    "# defining decision variables\n",
    "X = prob.addVars(S,D, lb = 0, vtype = GRB.CONTINUOUS, name = [\"X_\"+i+\"_\"+j for i in SupplyCenter for j in DemandMarket])"
   ]
  },
  {
   "cell_type": "code",
   "execution_count": 57,
   "metadata": {},
   "outputs": [],
   "source": [
    "# defining the objective function\n",
    "prob.setObjective(sum(Cost[i][j]*X[i,j] for i in range(S) for j in range(D)), GRB.MINIMIZE)"
   ]
  },
  {
   "cell_type": "code",
   "execution_count": 58,
   "metadata": {},
   "outputs": [],
   "source": [
    "# defining supply constraints\n",
    "# all the milk provided by the seven remaining supply centers should be supplied.\n",
    "for i in range(S):\n",
    "    prob.addConstr(sum(X[i,j] for j in range(D)) == Supply[i])"
   ]
  },
  {
   "cell_type": "code",
   "execution_count": 59,
   "metadata": {},
   "outputs": [],
   "source": [
    "# defining demand constraints\n",
    "# not supplying to a demand market is costless.\n",
    "# since not supplying to a demand market at all is costless, it can be concluded that partial supplying to a demand market is also costless.\n",
    "for j in range(D):\n",
    "    prob.addConstr(sum(X[i,j] for i in range(S)) <= Demand[j])"
   ]
  },
  {
   "cell_type": "code",
   "execution_count": 60,
   "metadata": {},
   "outputs": [],
   "source": [
    "# but the supply to each market is at least 50% of the market's demand.\n",
    "for j in range(D):\n",
    "    prob.addConstr(sum(X[i,j] for i in range(S)) >= 0.9*Demand[j])"
   ]
  },
  {
   "cell_type": "code",
   "execution_count": 61,
   "metadata": {},
   "outputs": [
    {
     "name": "stdout",
     "output_type": "stream",
     "text": [
      "Gurobi Optimizer version 9.5.2 build v9.5.2rc0 (win64)\n",
      "Thread count: 8 physical cores, 16 logical processors, using up to 16 threads\n",
      "Optimize a model with 27 rows, 70 columns and 210 nonzeros\n",
      "Model fingerprint: 0xe19f8cf7\n",
      "Coefficient statistics:\n",
      "  Matrix range     [1e+00, 1e+00]\n",
      "  Objective range  [5e+00, 5e+01]\n",
      "  Bounds range     [0e+00, 0e+00]\n",
      "  RHS range        [6e+01, 3e+02]\n",
      "Presolve removed 10 rows and 0 columns\n",
      "Presolve time: 0.00s\n",
      "Presolved: 17 rows, 80 columns, 150 nonzeros\n",
      "\n",
      "Iteration    Objective       Primal Inf.    Dual Inf.      Time\n",
      "       0    0.0000000e+00   2.965000e+02   0.000000e+00      0s\n",
      "\n",
      "Solved in 15 iterations and 0.01 seconds (0.00 work units)\n",
      "Infeasible model\n"
     ]
    }
   ],
   "source": [
    "# solving the problem\n",
    "prob.optimize()"
   ]
  },
  {
   "cell_type": "code",
   "execution_count": null,
   "metadata": {},
   "outputs": [],
   "source": [
    "# According to the output, this is not possible to keep everything similar to the previous question\n",
    "# meanwhile supplying at least 90% of each market's demand"
   ]
  },
  {
   "cell_type": "markdown",
   "metadata": {},
   "source": [
    "**Problem 7:**\n",
    "\n",
    "Suppose the cost of not supplying each tonne of milk to each demand center is 70\\\\$/tone. As a short-term solution, the firm can ask one of the seven remaining suppliers to add 100 tonnes of milk to its supplying capacity by paying the selected supplier 1000\\\\$. Which supplier should the firm ask for this capacity boost to minimize costs? What is the change in the costs due to this boost? Can you solve this problem without redefining the problem for each supplier?"
   ]
  },
  {
   "cell_type": "code",
   "execution_count": 9,
   "metadata": {},
   "outputs": [],
   "source": [
    "# Your solution for Problem 7:\n",
    "# to solve this problem, we can basically solve problem 3 changing the undersupply cost to $70/tone for each market.\n",
    "# then, we will utilize sensitivity analysis to answer the remaining parts of the question. "
   ]
  },
  {
   "cell_type": "code",
   "execution_count": 76,
   "metadata": {},
   "outputs": [],
   "source": [
    "# importing data\n",
    "Cost = [[20, 49, 16, 30,  8, 35, 21, 40, 10, 12],\n",
    "        [15, 53, 7, 20, 47, 11, 16, 17, 15, 44],\n",
    "        [22, 25, 42, 22, 31, 9, 11, 29, 20, 5],\n",
    "        [45,  6, 33, 35, 49, 25, 30, 47, 32, 31],\n",
    "        [9, 12, 41, 15, 38, 14, 53, 22, 12, 13],\n",
    "        [21, 24, 32, 49, 5, 47, 30, 23, 37, 8],\n",
    "        [12, 19,  5, 28, 47, 39, 15, 35, 9, 51]]\n",
    "\n",
    "SupplyCenter = ['S_1', 'S_2', 'S_3', 'S_4', 'S_5', 'S_6', 'S_7']\n",
    "Supply = [110, 80, 100, 240, 100, 280, 130]\n",
    "DemandMarket = ['D_1', 'D_2', 'D_3', 'D_4', 'D_5', 'D_6', 'D_7', 'D_8', 'D_9', 'D_10']\n",
    "Demand = [90, 100, 150, 190, 180, 240, 210, 90, 160, 70]\n",
    "\n",
    "Undersupply_Cost = [70, 70, 70, 70, 70, 70, 70, 70, 70, 70]"
   ]
  },
  {
   "cell_type": "code",
   "execution_count": 77,
   "metadata": {},
   "outputs": [],
   "source": [
    "# importing required libraries\n",
    "import gurobipy as gb\n",
    "from gurobipy import *\n",
    "import numpy as np"
   ]
  },
  {
   "cell_type": "code",
   "execution_count": 78,
   "metadata": {},
   "outputs": [],
   "source": [
    "S = len(SupplyCenter)\n",
    "D = len(DemandMarket)\n",
    "U = len(Undersupply_Cost)"
   ]
  },
  {
   "cell_type": "code",
   "execution_count": 79,
   "metadata": {},
   "outputs": [],
   "source": [
    "# defining the problem\n",
    "prob = gb.Model(\"Fresh Milk Transportation - Undersupply Penalty\")"
   ]
  },
  {
   "cell_type": "code",
   "execution_count": 80,
   "metadata": {},
   "outputs": [],
   "source": [
    "# defining decision variables\n",
    "X = prob.addVars(S,D, lb = 0, vtype = GRB.CONTINUOUS, name = [\"X_\"+i+\"_\"+j for i in SupplyCenter for j in DemandMarket])"
   ]
  },
  {
   "cell_type": "code",
   "execution_count": 81,
   "metadata": {},
   "outputs": [],
   "source": [
    "# defining the objective function\n",
    "# the objective function will change to reflect the cost of undersupplying a demand market\n",
    "# this cost will be added to the total costs\n",
    "# defining the objective function\n",
    "\n",
    "prob.setObjective(sum(Cost[i][j]*X[i,j] for i in range(S) for j in range(D)) + sum((Demand[j] - sum(X[i,j] for i in range(S)))*Undersupply_Cost[j] for j in range(D)), GRB.MINIMIZE)"
   ]
  },
  {
   "cell_type": "code",
   "execution_count": 82,
   "metadata": {},
   "outputs": [],
   "source": [
    "# defining supply constraints\n",
    "# all the milk provided by the seven remaining supply centers should still be supplied.\n",
    "for i in range(S):\n",
    "    prob.addConstr(sum(X[i,j] for j in range(D)) == Supply[i])"
   ]
  },
  {
   "cell_type": "code",
   "execution_count": 83,
   "metadata": {},
   "outputs": [],
   "source": [
    "# defining demand constraints\n",
    "# the firm can undersupply a demand market but it is not costless; \n",
    "# the cost of undersupplying a market has been considered in the revised objective function\n",
    "for j in range(D):\n",
    "    prob.addConstr(sum(X[i,j] for i in range(S)) <= Demand[j])"
   ]
  },
  {
   "cell_type": "code",
   "execution_count": 84,
   "metadata": {},
   "outputs": [
    {
     "name": "stdout",
     "output_type": "stream",
     "text": [
      "Gurobi Optimizer version 9.5.2 build v9.5.2rc0 (win64)\n",
      "Thread count: 8 physical cores, 16 logical processors, using up to 16 threads\n",
      "Optimize a model with 17 rows, 70 columns and 140 nonzeros\n",
      "Model fingerprint: 0xe2f22c2d\n",
      "Coefficient statistics:\n",
      "  Matrix range     [1e+00, 1e+00]\n",
      "  Objective range  [2e+01, 7e+01]\n",
      "  Bounds range     [0e+00, 0e+00]\n",
      "  RHS range        [7e+01, 3e+02]\n",
      "Presolve time: 0.02s\n",
      "Presolved: 17 rows, 70 columns, 140 nonzeros\n",
      "\n",
      "Iteration    Objective       Primal Inf.    Dual Inf.      Time\n",
      "       0   -3.1000000e+33   1.400000e+32   3.100000e+03      0s\n",
      "      16    4.1470000e+04   0.000000e+00   0.000000e+00      0s\n",
      "\n",
      "Solved in 16 iterations and 0.02 seconds (0.00 work units)\n",
      "Optimal objective  4.147000000e+04\n"
     ]
    }
   ],
   "source": [
    "# solving the problem\n",
    "prob.optimize()"
   ]
  },
  {
   "cell_type": "code",
   "execution_count": 85,
   "metadata": {},
   "outputs": [
    {
     "name": "stdout",
     "output_type": "stream",
     "text": [
      "X_S_1_D_1 = 0\n",
      "X_S_1_D_2 = 0\n",
      "X_S_1_D_3 = 0\n",
      "X_S_1_D_4 = 0\n",
      "X_S_1_D_5 = 0\n",
      "X_S_1_D_6 = 0\n",
      "X_S_1_D_7 = 0\n",
      "X_S_1_D_8 = 0\n",
      "X_S_1_D_9 = 110\n",
      "X_S_1_D_10 = 0\n",
      "X_S_2_D_1 = 0\n",
      "X_S_2_D_2 = 0\n",
      "X_S_2_D_3 = 60\n",
      "X_S_2_D_4 = 0\n",
      "X_S_2_D_5 = 0\n",
      "X_S_2_D_6 = 20\n",
      "X_S_2_D_7 = 0\n",
      "X_S_2_D_8 = 0\n",
      "X_S_2_D_9 = 0\n",
      "X_S_2_D_10 = 0\n",
      "X_S_3_D_1 = 0\n",
      "X_S_3_D_2 = 0\n",
      "X_S_3_D_3 = 0\n",
      "X_S_3_D_4 = 0\n",
      "X_S_3_D_5 = 0\n",
      "X_S_3_D_6 = 80\n",
      "X_S_3_D_7 = 20\n",
      "X_S_3_D_8 = 0\n",
      "X_S_3_D_9 = 0\n",
      "X_S_3_D_10 = 0\n",
      "X_S_4_D_1 = 0\n",
      "X_S_4_D_2 = 100\n",
      "X_S_4_D_3 = 0\n",
      "X_S_4_D_4 = 0\n",
      "X_S_4_D_5 = 0\n",
      "X_S_4_D_6 = 140\n",
      "X_S_4_D_7 = 0\n",
      "X_S_4_D_8 = 0\n",
      "X_S_4_D_9 = 0\n",
      "X_S_4_D_10 = 0\n",
      "X_S_5_D_1 = 90\n",
      "X_S_5_D_2 = 0\n",
      "X_S_5_D_3 = 0\n",
      "X_S_5_D_4 = 0\n",
      "X_S_5_D_5 = 0\n",
      "X_S_5_D_6 = 0\n",
      "X_S_5_D_7 = 0\n",
      "X_S_5_D_8 = 0\n",
      "X_S_5_D_9 = 10\n",
      "X_S_5_D_10 = 0\n",
      "X_S_6_D_1 = 0\n",
      "X_S_6_D_2 = 0\n",
      "X_S_6_D_3 = 0\n",
      "X_S_6_D_4 = 0\n",
      "X_S_6_D_5 = 180\n",
      "X_S_6_D_6 = 0\n",
      "X_S_6_D_7 = 0\n",
      "X_S_6_D_8 = 30\n",
      "X_S_6_D_9 = 0\n",
      "X_S_6_D_10 = 70\n",
      "X_S_7_D_1 = 0\n",
      "X_S_7_D_2 = 0\n",
      "X_S_7_D_3 = 90\n",
      "X_S_7_D_4 = 0\n",
      "X_S_7_D_5 = 0\n",
      "X_S_7_D_6 = 0\n",
      "X_S_7_D_7 = 0\n",
      "X_S_7_D_8 = 0\n",
      "X_S_7_D_9 = 40\n",
      "X_S_7_D_10 = 0\n"
     ]
    }
   ],
   "source": [
    "# reporting optimal allocation\n",
    "for v in prob.getVars():\n",
    "    print(v.varName, \"=\", round(v.x))"
   ]
  },
  {
   "cell_type": "code",
   "execution_count": 86,
   "metadata": {},
   "outputs": [
    {
     "name": "stdout",
     "output_type": "stream",
     "text": [
      "The minimum allocation cost is:  41470.0\n"
     ]
    }
   ],
   "source": [
    "# reporting minimum cost\n",
    "print(\"The minimum allocation cost is: \", prob.objVal)"
   ]
  },
  {
   "cell_type": "code",
   "execution_count": 87,
   "metadata": {},
   "outputs": [
    {
     "name": "stdout",
     "output_type": "stream",
     "text": [
      "Sensitivity Analysis (SA)\n",
      " ObjVal = 41470.0\n",
      "\n",
      "    Variable            X          Obj     SAObjLow      SAObjUp \n",
      "----------------------------------------------------------------\n",
      "   X_S_1_D_1            0          -50          -63          inf \n",
      "   X_S_1_D_2            0          -21          -79          inf \n",
      "   X_S_1_D_3            0          -54          -64          inf \n",
      "   X_S_1_D_4            0          -40          -58          inf \n",
      "   X_S_1_D_5            0          -62          -76          inf \n",
      "   X_S_1_D_6            0          -35          -60          inf \n",
      "   X_S_1_D_7            0          -49          -58          inf \n",
      "   X_S_1_D_8            0          -30          -58          inf \n",
      "   X_S_1_D_9          110          -60         -inf          -51 \n",
      "  X_S_1_D_10            0          -58          -73          inf \n",
      "   X_S_2_D_1            0          -55          -62          inf \n",
      "   X_S_2_D_2            0          -17          -78          inf \n",
      "   X_S_2_D_3           60          -63          -64          -61 \n",
      "   X_S_2_D_4            0          -50          -57          inf \n",
      "   X_S_2_D_5            0          -23          -75          inf \n",
      "   X_S_2_D_6           20          -59          -61          -58 \n",
      "   X_S_2_D_7            0          -54          -57          inf \n",
      "   X_S_2_D_8            0          -53          -57          inf \n",
      "   X_S_2_D_9            0          -55          -59          inf \n",
      "  X_S_2_D_10            0          -26          -72          inf \n",
      "   X_S_3_D_1            0          -48          -64          inf \n",
      "   X_S_3_D_2            0          -45          -80          inf \n",
      "   X_S_3_D_3            0          -28          -65          inf \n",
      "   X_S_3_D_4            0          -48          -59          inf \n",
      "   X_S_3_D_5            0          -39          -77          inf \n",
      "   X_S_3_D_6           80          -61          -62          -59 \n",
      "   X_S_3_D_7           20          -59          -61          -58 \n",
      "   X_S_3_D_8            0          -41          -59          inf \n",
      "   X_S_3_D_9            0          -50          -61          inf \n",
      "  X_S_3_D_10            0          -65          -74          inf \n",
      "   X_S_4_D_1            0          -25          -48          inf \n",
      "   X_S_4_D_2          100          -64         -inf          -45 \n",
      "   X_S_4_D_3            0          -37          -49          inf \n",
      "   X_S_4_D_4            0          -35          -43          inf \n",
      "   X_S_4_D_5            0          -21          -61          inf \n",
      "   X_S_4_D_6          140          -45          -64          -42 \n",
      "   X_S_4_D_7            0          -40          -43          inf \n",
      "   X_S_4_D_8            0          -23          -43          inf \n",
      "   X_S_4_D_9            0          -38          -45          inf \n",
      "  X_S_4_D_10            0          -39          -58          inf \n",
      "   X_S_5_D_1           90          -61         -inf          -58 \n",
      "   X_S_5_D_2            0          -58          -77          inf \n",
      "   X_S_5_D_3            0          -29          -62          inf \n",
      "   X_S_5_D_4            0          -55          -56          inf \n",
      "   X_S_5_D_5            0          -32          -74          inf \n",
      "   X_S_5_D_6            0          -56          -58          inf \n",
      "   X_S_5_D_7            0          -17          -56          inf \n",
      "   X_S_5_D_8            0          -48          -56          inf \n",
      "   X_S_5_D_9           10          -58          -61          -57 \n",
      "  X_S_5_D_10            0          -57          -71          inf \n",
      "   X_S_6_D_1            0          -49          -52          inf \n",
      "   X_S_6_D_2            0          -46          -68          inf \n",
      "   X_S_6_D_3            0          -38          -53          inf \n",
      "   X_S_6_D_4            0          -21          -47          inf \n",
      "   X_S_6_D_5          180          -65         -inf          -51 \n",
      "   X_S_6_D_6            0          -23          -49          inf \n",
      "   X_S_6_D_7            0          -40          -47          inf \n",
      "   X_S_6_D_8           30          -47          -56          -44 \n",
      "   X_S_6_D_9            0          -33          -49          inf \n",
      "  X_S_6_D_10           70          -62         -inf          -53 \n",
      "   X_S_7_D_1            0          -58          -64          inf \n",
      "   X_S_7_D_2            0          -51          -80          inf \n",
      "   X_S_7_D_3           90          -65          -67          -64 \n",
      "   X_S_7_D_4            0          -42          -59          inf \n",
      "   X_S_7_D_5            0          -23          -77          inf \n",
      "   X_S_7_D_6            0          -31          -61          inf \n",
      "   X_S_7_D_7            0          -55          -59          inf \n",
      "   X_S_7_D_8            0          -35          -59          inf \n",
      "   X_S_7_D_9           40          -61          -62          -59 \n",
      "  X_S_7_D_10            0          -19          -74          inf \n",
      "\n",
      "    Variable            X           RC           LB      SALBLow       SALBUp           UB      SAUBLow       SAUBUp \n",
      "--------------------------------------------------------------------------------------------------------------------\n",
      "   X_S_1_D_1            0           13            0          -10           90          inf            0          inf \n",
      "   X_S_1_D_2            0           58            0          -40           20          inf            0          inf \n",
      "   X_S_1_D_3            0           10            0          -40           90          inf            0          inf \n",
      "   X_S_1_D_4            0           18            0          -40           20          inf            0          inf \n",
      "   X_S_1_D_5            0           14            0          -30           20          inf            0          inf \n",
      "   X_S_1_D_6            0           25            0          -40           20          inf            0          inf \n",
      "   X_S_1_D_7            0            9            0          -40           20          inf            0          inf \n",
      "   X_S_1_D_8            0           28            0          -40           20          inf            0          inf \n",
      "   X_S_1_D_9          110            0            0         -inf          110          inf          110          inf \n",
      "  X_S_1_D_10            0           15            0          -30           20          inf            0          inf \n",
      "   X_S_2_D_1            0            7            0          -10           40          inf            0          inf \n",
      "   X_S_2_D_2            0           61            0         -140           20          inf            0          inf \n",
      "   X_S_2_D_3           60            0            0         -inf           60          inf           60          inf \n",
      "   X_S_2_D_4            0            7            0          -80           20          inf            0          inf \n",
      "   X_S_2_D_5            0           52            0          -30           20          inf            0          inf \n",
      "   X_S_2_D_6           20            0            0         -inf           20          inf           20          inf \n",
      "   X_S_2_D_7            0            3            0          -80           20          inf            0          inf \n",
      "   X_S_2_D_8            0            4            0          -80           20          inf            0          inf \n",
      "   X_S_2_D_9            0            4            0          -90           40          inf            0          inf \n",
      "  X_S_2_D_10            0           46            0          -30           20          inf            0          inf \n",
      "   X_S_3_D_1            0           16            0          -10           40          inf            0          inf \n",
      "   X_S_3_D_2            0           35            0         -140           80          inf            0          inf \n",
      "   X_S_3_D_3            0           37            0          -20           60          inf            0          inf \n",
      "   X_S_3_D_4            0           11            0         -190           20          inf            0          inf \n",
      "   X_S_3_D_5            0           38            0          -30           20          inf            0          inf \n",
      "   X_S_3_D_6           80            0            0         -inf           80          inf           80          inf \n",
      "   X_S_3_D_7           20            0            0         -inf           20          inf           20          inf \n"
     ]
    },
    {
     "name": "stdout",
     "output_type": "stream",
     "text": [
      "   X_S_3_D_8            0           18            0         -190           20          inf            0          inf \n",
      "   X_S_3_D_9            0           11            0          -20           40          inf            0          inf \n",
      "  X_S_3_D_10            0            9            0          -30           20          inf            0          inf \n",
      "   X_S_4_D_1            0           23            0          -10           40          inf            0          inf \n",
      "   X_S_4_D_2          100            0            0         -inf          100          inf          100          inf \n",
      "   X_S_4_D_3            0           12            0          -20           60          inf            0          inf \n",
      "   X_S_4_D_4            0            8            0          -80           20          inf            0          inf \n",
      "   X_S_4_D_5            0           40            0          -30           20          inf            0          inf \n",
      "   X_S_4_D_6          140            0            0         -inf          140          inf          140          inf \n",
      "   X_S_4_D_7            0            3            0          -80           20          inf            0          inf \n",
      "   X_S_4_D_8            0           20            0          -80           20          inf            0          inf \n",
      "   X_S_4_D_9            0            7            0          -20           40          inf            0          inf \n",
      "  X_S_4_D_10            0           19            0          -30           20          inf            0          inf \n",
      "   X_S_5_D_1           90            0            0         -inf           90          inf           90          inf \n",
      "   X_S_5_D_2            0           19            0          -40           10          inf            0          inf \n",
      "   X_S_5_D_3            0           33            0          -40           10          inf            0          inf \n",
      "   X_S_5_D_4            0            1            0          -40           10          inf            0          inf \n",
      "   X_S_5_D_5            0           42            0          -30           10          inf            0          inf \n",
      "   X_S_5_D_6            0            2            0          -40           10          inf            0          inf \n",
      "   X_S_5_D_7            0           39            0          -40           10          inf            0          inf \n",
      "   X_S_5_D_8            0            8            0          -40           10          inf            0          inf \n",
      "   X_S_5_D_9           10            0            0         -inf           10          inf           10          inf \n",
      "  X_S_5_D_10            0           14            0          -30           10          inf            0          inf \n",
      "   X_S_6_D_1            0            3            0          -10           30          inf            0          inf \n",
      "   X_S_6_D_2            0           22            0          -20           30          inf            0          inf \n",
      "   X_S_6_D_3            0           15            0          -20           30          inf            0          inf \n",
      "   X_S_6_D_4            0           26            0          -60           30          inf            0          inf \n",
      "   X_S_6_D_5          180            0            0         -inf          180          inf          180          inf \n",
      "   X_S_6_D_6            0           26            0          -20           30          inf            0          inf \n",
      "   X_S_6_D_7            0            7            0          -60           30          inf            0          inf \n",
      "   X_S_6_D_8           30            0            0         -inf           30          inf           30          inf \n",
      "   X_S_6_D_9            0           16            0          -20           30          inf            0          inf \n",
      "  X_S_6_D_10           70            0            0         -inf           70          inf           70          inf \n",
      "   X_S_7_D_1            0            6            0          -10           40          inf            0          inf \n",
      "   X_S_7_D_2            0           29            0          -60           20          inf            0          inf \n",
      "   X_S_7_D_3           90            0            0         -inf           90          inf           90          inf \n",
      "   X_S_7_D_4            0           17            0          -60           20          inf            0          inf \n",
      "   X_S_7_D_5            0           54            0          -30           20          inf            0          inf \n",
      "   X_S_7_D_6            0           30            0          -60           20          inf            0          inf \n",
      "   X_S_7_D_7            0            4            0          -60           20          inf            0          inf \n",
      "   X_S_7_D_8            0           24            0          -60           20          inf            0          inf \n",
      "   X_S_7_D_9           40            0            0         -inf           40          inf           40          inf \n",
      "  X_S_7_D_10            0           55            0          -30           20          inf            0          inf \n",
      "\n",
      "  Constraint        Sense        Slack           Pi          RHS     SARHSLow      SARHSUp \n",
      "------------------------------------------------------------------------------------------\n",
      "          R0            =            0          -58          110           90          150 \n",
      "          R1            =            0          -57           80           60          160 \n",
      "          R2            =            0          -59          100           80          290 \n",
      "          R3            =            0          -43          240          220          320 \n",
      "          R4            =            0          -56          100           90          140 \n",
      "          R5            =            0          -47          280          250          340 \n",
      "          R6            =            0          -59          130          110          190 \n",
      "          R7            <            0           -5           90           50          100 \n",
      "          R8            <            0          -21          100           20          120 \n",
      "          R9            <            0           -6          150           90          170 \n",
      "         R10            <          190            0          190            0          inf \n",
      "         R11            <            0          -18          180          120          210 \n",
      "         R12            <            0           -2          240          160          260 \n",
      "         R13            <          190            0          210           20          inf \n",
      "         R14            <           60            0           90           30          inf \n",
      "         R15            <            0           -2          160          120          180 \n",
      "         R16            <            0          -15           70           10          100 \n"
     ]
    }
   ],
   "source": [
    "# sensitivity analysis\n",
    "print('Sensitivity Analysis (SA)\\n ObjVal =', prob.ObjVal)\n",
    "prob.printAttr(['X', 'Obj', 'SAObjLow', 'SAObjUp'])\n",
    "prob.printAttr(['X', 'RC', 'LB', 'SALBLow', 'SALBUp', 'UB', 'SAUBLow', 'SAUBUp'])\n",
    "prob.printAttr(['Sense', 'Slack', 'Pi', 'RHS', 'SARHSLow', 'SARHSUp']) # Pi = shadow price "
   ]
  },
  {
   "cell_type": "code",
   "execution_count": 1,
   "metadata": {},
   "outputs": [],
   "source": [
    "# Constraints R0 to R6 are representing supply constraints. So, to increase the amount of supply,\n",
    "# we should select the supplier that its associated contraint has the lowest shadow price. \n",
    "# In this case, we start with supplier 6 or 3 since the shadow prices for these supplier are the lowest. \n",
    "# However, we cannot add 100 tonnes to the total supply by only asking supplier 6 to increase their production without resolving the problem.\n",
    "# Since the allowable increase for this supplier is 60 (SARHSUp - RHS = 190-130), we can ask them to increase their production\n",
    "# by only 60 tonnes. To further increase the production, if we want to receive more milk from this supplier, \n",
    "# we have to solve the problem again with a revised formulation. \n",
    "# Otherwise, we can ask the other supplier with the lowest associated shadow price (supplier 3) to increase their production.\n",
    "# In this case, if we want to receive 100 tonnes more milk from only one supplier without solving the problem again,\n",
    "# we have to go with supplier 3 because the allowable increase for this supplier's production is larger than 100.\n",
    "# Since the shadow price for this supplier is also -59, the increased cost would be 100*59-1000=4900$."
   ]
  },
  {
   "cell_type": "code",
   "execution_count": null,
   "metadata": {},
   "outputs": [],
   "source": []
  }
 ],
 "metadata": {
  "kernelspec": {
   "display_name": "Python 3",
   "language": "python",
   "name": "python3"
  },
  "language_info": {
   "codemirror_mode": {
    "name": "ipython",
    "version": 3
   },
   "file_extension": ".py",
   "mimetype": "text/x-python",
   "name": "python",
   "nbconvert_exporter": "python",
   "pygments_lexer": "ipython3",
   "version": "3.8.8"
  }
 },
 "nbformat": 4,
 "nbformat_minor": 4
}
