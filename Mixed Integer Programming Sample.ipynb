{
 "cells": [
  {
   "cell_type": "markdown",
   "metadata": {
    "id": "7O9D0ALMbGPx"
   },
   "source": [
    "# MMA 662 - Assignment 2\n",
    "\n",
    "\n",
    "\n"
   ]
  },
  {
   "cell_type": "markdown",
   "metadata": {
    "id": "3liDbd-MmTCS"
   },
   "source": [
    "Installing Gurobi package:"
   ]
  },
  {
   "cell_type": "code",
   "execution_count": 116,
   "metadata": {
    "id": "8NlqZHVPcuJ3"
   },
   "outputs": [],
   "source": [
    "# Uncomment if working with Colab:\n",
    "# !pip install gurobipy \n",
    "import gurobipy as gp\n",
    "from gurobipy import *\n",
    "\n",
    "import numpy as np"
   ]
  },
  {
   "cell_type": "markdown",
   "metadata": {},
   "source": [
    "## 1: The Apportionment Problem."
   ]
  },
  {
   "cell_type": "markdown",
   "metadata": {
    "id": "B9FQv4V4tXih"
   },
   "source": [
    "Dataset:\n"
   ]
  },
  {
   "cell_type": "code",
   "execution_count": 88,
   "metadata": {
    "id": "hllyMorz5Sx-"
   },
   "outputs": [],
   "source": [
    "# Population list:\n",
    "Pop = np.array([5300000, 9200000, 5400000, 8000000, 3200000, \n",
    "                8800000, 8100000, 10100000, 3600000, 6200000, \n",
    "                11700000, 5800000, 7000000, 6300000, 4800000, \n",
    "                10700000, 7000000, 9400000, 6400000, 9100000])\n",
    "\n",
    "# Quota (q_i) list:\n",
    "Quota = np.array([21.80219, 37.84531, 22.21355, 32.90897, 13.16359, \n",
    "                  36.19986, 33.32033, 41.54757, 14.80903, 25.50445, \n",
    "                  48.12936, 23.859, 28.79535, 25.91581, 19.74538, \n",
    "                  44.01574, 28.79535, 38.66804, 26.32717, 37.43395])\n",
    "\n",
    "# Province list:\n",
    "Province = np.array(['P0', 'P1', 'P2', 'P3', 'P4', \n",
    "                      'P5', 'P6', 'P7', 'P8', 'P9', \n",
    "                      'P10', 'P11', 'P12', 'P13', 'P14', \n",
    "                      'P15', 'P16', 'P17', 'P18', 'P19'])\n",
    "\n",
    "# Total seats:\n",
    "s = 601"
   ]
  },
  {
   "cell_type": "markdown",
   "metadata": {
    "id": "JxTSsVbIDjpA"
   },
   "source": [
    "### 1.1: Minimize the sum of absolute gaps."
   ]
  },
  {
   "cell_type": "code",
   "execution_count": 3,
   "metadata": {},
   "outputs": [],
   "source": [
    "# Your solution for 1.1"
   ]
  },
  {
   "cell_type": "code",
   "execution_count": 33,
   "metadata": {},
   "outputs": [],
   "source": [
    "prob1 = gp.Model(\"Min Sum Abs gaps\")"
   ]
  },
  {
   "cell_type": "code",
   "execution_count": 34,
   "metadata": {},
   "outputs": [],
   "source": [
    "L = len(Province)"
   ]
  },
  {
   "cell_type": "code",
   "execution_count": 35,
   "metadata": {},
   "outputs": [],
   "source": [
    "z = prob1.addVars(L, lb = 0, vtype = GRB.CONTINUOUS, name = [\"Devation from fair # Seats for provice \"+str(i) for i in range(L)])\n",
    "a = prob1.addVars(L, lb = 0, vtype = GRB.INTEGER, name = [\"Fair # Seats for provice \"+str(i) for i in range(L)])"
   ]
  },
  {
   "cell_type": "code",
   "execution_count": 36,
   "metadata": {},
   "outputs": [],
   "source": [
    "prob1.setObjective(sum(z[i] for i in range(L)), GRB.MINIMIZE)"
   ]
  },
  {
   "cell_type": "code",
   "execution_count": 37,
   "metadata": {},
   "outputs": [],
   "source": [
    "for i in range(L):\n",
    "    prob1.addConstr(z[i] >= Quota[i] - a[i])\n",
    "    prob1.addConstr(z[i] >= a[i] - Quota[i])"
   ]
  },
  {
   "cell_type": "code",
   "execution_count": 38,
   "metadata": {},
   "outputs": [
    {
     "data": {
      "text/plain": [
       "<gurobi.Constr *Awaiting Model Update*>"
      ]
     },
     "execution_count": 38,
     "metadata": {},
     "output_type": "execute_result"
    }
   ],
   "source": [
    "prob1.addConstr(sum(a[i] for i in range(L)) == s)"
   ]
  },
  {
   "cell_type": "code",
   "execution_count": 39,
   "metadata": {},
   "outputs": [
    {
     "name": "stdout",
     "output_type": "stream",
     "text": [
      "Gurobi Optimizer version 9.5.2 build v9.5.2rc0 (win64)\n",
      "Thread count: 8 physical cores, 16 logical processors, using up to 16 threads\n",
      "Optimize a model with 41 rows, 40 columns and 100 nonzeros\n",
      "Model fingerprint: 0x0ac73334\n",
      "Variable types: 20 continuous, 20 integer (0 binary)\n",
      "Coefficient statistics:\n",
      "  Matrix range     [1e+00, 1e+00]\n",
      "  Objective range  [1e+00, 1e+00]\n",
      "  Bounds range     [0e+00, 0e+00]\n",
      "  RHS range        [1e+01, 6e+02]\n",
      "Found heuristic solution: objective 1149.3456604\n",
      "Presolve time: 0.00s\n",
      "Presolved: 41 rows, 40 columns, 100 nonzeros\n",
      "Variable types: 20 continuous, 20 integer (0 binary)\n",
      "\n",
      "Root relaxation: objective 0.000000e+00, 24 iterations, 0.00 seconds (0.00 work units)\n",
      "\n",
      "    Nodes    |    Current Node    |     Objective Bounds      |     Work\n",
      " Expl Unexpl |  Obj  Depth IntInf | Incumbent    BestBd   Gap | It/Node Time\n",
      "\n",
      "     0     0    0.00000    0   20 1149.34566    0.00000   100%     -    0s\n",
      "H    0     0                       5.2114800    0.00000   100%     -    0s\n",
      "H    0     0                       4.7535800    3.23601  31.9%     -    0s\n",
      "H    0     0                       4.6160000    3.23601  29.9%     -    0s\n",
      "     0     0    3.23601    0   20    4.61600    3.23601  29.9%     -    0s\n",
      "\n",
      "Cutting planes:\n",
      "  Gomory: 1\n",
      "  MIR: 71\n",
      "\n",
      "Explored 1 nodes (80 simplex iterations) in 0.03 seconds (0.00 work units)\n",
      "Thread count was 16 (of 16 available processors)\n",
      "\n",
      "Solution count 3: 4.616 5.21148 1149.35 \n",
      "\n",
      "Optimal solution found (tolerance 1.00e-04)\n",
      "Best objective 4.615999999960e+00, best bound 4.615999999960e+00, gap 0.0000%\n"
     ]
    }
   ],
   "source": [
    "prob1.optimize()"
   ]
  },
  {
   "cell_type": "code",
   "execution_count": 41,
   "metadata": {},
   "outputs": [
    {
     "name": "stdout",
     "output_type": "stream",
     "text": [
      "Devation from fair # Seats for provice 0 = 0\n",
      "Devation from fair # Seats for provice 1 = 0\n",
      "Devation from fair # Seats for provice 2 = 0\n",
      "Devation from fair # Seats for provice 3 = 0\n",
      "Devation from fair # Seats for provice 4 = 0\n",
      "Devation from fair # Seats for provice 5 = 0\n",
      "Devation from fair # Seats for provice 6 = 0\n",
      "Devation from fair # Seats for provice 7 = 0\n",
      "Devation from fair # Seats for provice 8 = 0\n",
      "Devation from fair # Seats for provice 9 = 1\n",
      "Devation from fair # Seats for provice 10 = 0\n",
      "Devation from fair # Seats for provice 11 = 0\n",
      "Devation from fair # Seats for provice 12 = 0\n",
      "Devation from fair # Seats for provice 13 = 0\n",
      "Devation from fair # Seats for provice 14 = 0\n",
      "Devation from fair # Seats for provice 15 = 0\n",
      "Devation from fair # Seats for provice 16 = 0\n",
      "Devation from fair # Seats for provice 17 = 0\n",
      "Devation from fair # Seats for provice 18 = 0\n",
      "Devation from fair # Seats for provice 19 = 0\n",
      "Fair # Seats for provice 0 = 22\n",
      "Fair # Seats for provice 1 = 38\n",
      "Fair # Seats for provice 2 = 22\n",
      "Fair # Seats for provice 3 = 33\n",
      "Fair # Seats for provice 4 = 13\n",
      "Fair # Seats for provice 5 = 36\n",
      "Fair # Seats for provice 6 = 33\n",
      "Fair # Seats for provice 7 = 42\n",
      "Fair # Seats for provice 8 = 15\n",
      "Fair # Seats for provice 9 = 25\n",
      "Fair # Seats for provice 10 = 48\n",
      "Fair # Seats for provice 11 = 24\n",
      "Fair # Seats for provice 12 = 29\n",
      "Fair # Seats for provice 13 = 26\n",
      "Fair # Seats for provice 14 = 20\n",
      "Fair # Seats for provice 15 = 44\n",
      "Fair # Seats for provice 16 = 29\n",
      "Fair # Seats for provice 17 = 39\n",
      "Fair # Seats for provice 18 = 26\n",
      "Fair # Seats for provice 19 = 37\n"
     ]
    }
   ],
   "source": [
    "for v in prob1.getVars():\n",
    "    print(v.varName, \"=\", round(v.x))"
   ]
  },
  {
   "cell_type": "code",
   "execution_count": null,
   "metadata": {},
   "outputs": [],
   "source": [
    "# This linearization is valid because it does not change the model. It holds all the model's considerations and do not add any additional constraints.\n",
    "# Having the combination of z[i] >= Quota[i] - a[i] and z[i] >= -(Quota[i] - a[i]), the only possible value for z[i] is\n",
    "# equal to abs(Quota[i] - a[i]). Also, all the constraints and the objective function is linear; so, the problem would become\n",
    "# a linear optimization problem.\n",
    "\n",
    "# The number of decision variables is twice the number of provinces; one for the difference between the allocated seats and\n",
    "# the fair number of seats which may not be integer (z[i]), and one the final number of allocated seats to each province that has to be\n",
    "# an integer (a[i]). Therefore, in this problem, we will have 2*20=40 decision variables.\n",
    "\n",
    "# In this problem, we have a constraint for the total number of seats. \n",
    "# Also, for each province, we will have two constraints resulting from the z[i] = abs(Quota[i] - a[i]).\n",
    "# Therefore, the total number of constraints is 2*20 + 1 = 41."
   ]
  },
  {
   "cell_type": "markdown",
   "metadata": {
    "id": "6IJZLC6JohOS"
   },
   "source": [
    "### 1.2: Min-max."
   ]
  },
  {
   "cell_type": "code",
   "execution_count": 4,
   "metadata": {},
   "outputs": [],
   "source": [
    "# Your solution for 1.2"
   ]
  },
  {
   "cell_type": "code",
   "execution_count": 42,
   "metadata": {},
   "outputs": [],
   "source": [
    "prob2 = gp.Model(\"Min Max\")"
   ]
  },
  {
   "cell_type": "code",
   "execution_count": 43,
   "metadata": {},
   "outputs": [],
   "source": [
    "L = len(Province)"
   ]
  },
  {
   "cell_type": "code",
   "execution_count": 44,
   "metadata": {},
   "outputs": [],
   "source": [
    "a = prob2.addVars(L, lb = 0, vtype = GRB.INTEGER, name = [\"Fair # Seats for provice \"+str(i) for i in range(L)])\n",
    "z = prob2.addVar(lb = 0, vtype = GRB.CONTINUOUS, name = \"max difference between fair # seats and allocated # seats\")"
   ]
  },
  {
   "cell_type": "code",
   "execution_count": 45,
   "metadata": {},
   "outputs": [],
   "source": [
    "prob2.setObjective(z, GRB.MINIMIZE)"
   ]
  },
  {
   "cell_type": "code",
   "execution_count": 46,
   "metadata": {},
   "outputs": [],
   "source": [
    "for i in range(L):\n",
    "    prob2.addConstr(z >= Quota[i] - a[i])\n",
    "    prob2.addConstr(z >= a[i] - Quota[i])"
   ]
  },
  {
   "cell_type": "code",
   "execution_count": 47,
   "metadata": {},
   "outputs": [
    {
     "data": {
      "text/plain": [
       "<gurobi.Constr *Awaiting Model Update*>"
      ]
     },
     "execution_count": 47,
     "metadata": {},
     "output_type": "execute_result"
    }
   ],
   "source": [
    "prob2.addConstr(sum(a[i] for i in range(L)) == s)"
   ]
  },
  {
   "cell_type": "code",
   "execution_count": 48,
   "metadata": {},
   "outputs": [
    {
     "name": "stdout",
     "output_type": "stream",
     "text": [
      "Gurobi Optimizer version 9.5.2 build v9.5.2rc0 (win64)\n",
      "Thread count: 8 physical cores, 16 logical processors, using up to 16 threads\n",
      "Optimize a model with 41 rows, 21 columns and 100 nonzeros\n",
      "Model fingerprint: 0x5c9ced0b\n",
      "Variable types: 1 continuous, 20 integer (0 binary)\n",
      "Coefficient statistics:\n",
      "  Matrix range     [1e+00, 1e+00]\n",
      "  Objective range  [1e+00, 1e+00]\n",
      "  Bounds range     [0e+00, 0e+00]\n",
      "  RHS range        [1e+01, 6e+02]\n",
      "Found heuristic solution: objective 574.6728301\n",
      "Presolve time: 0.00s\n",
      "Presolved: 41 rows, 21 columns, 100 nonzeros\n",
      "Variable types: 1 continuous, 20 integer (0 binary)\n",
      "\n",
      "Root relaxation: objective 0.000000e+00, 24 iterations, 0.00 seconds (0.00 work units)\n",
      "\n",
      "    Nodes    |    Current Node    |     Objective Bounds      |     Work\n",
      " Expl Unexpl |  Obj  Depth IntInf | Incumbent    BestBd   Gap | It/Node Time\n",
      "\n",
      "     0     0    0.00000    0   20  574.67283    0.00000   100%     -    0s\n",
      "H    0     0                       0.5475700    0.00000   100%     -    0s\n",
      "H    0     0                       0.5044500    0.00000   100%     -    0s\n",
      "     0     0     cutoff    0         0.50445    0.50445  0.00%     -    0s\n",
      "\n",
      "Explored 1 nodes (43 simplex iterations) in 0.01 seconds (0.00 work units)\n",
      "Thread count was 16 (of 16 available processors)\n",
      "\n",
      "Solution count 3: 0.50445 0.54757 574.673 \n",
      "\n",
      "Optimal solution found (tolerance 1.00e-04)\n",
      "Best objective 5.044500000000e-01, best bound 5.044500000000e-01, gap 0.0000%\n"
     ]
    }
   ],
   "source": [
    "prob2.optimize()"
   ]
  },
  {
   "cell_type": "code",
   "execution_count": 49,
   "metadata": {},
   "outputs": [
    {
     "name": "stdout",
     "output_type": "stream",
     "text": [
      "Fair # Seats for provice 0 = 22\n",
      "Fair # Seats for provice 1 = 38\n",
      "Fair # Seats for provice 2 = 22\n",
      "Fair # Seats for provice 3 = 33\n",
      "Fair # Seats for provice 4 = 13\n",
      "Fair # Seats for provice 5 = 36\n",
      "Fair # Seats for provice 6 = 33\n",
      "Fair # Seats for provice 7 = 42\n",
      "Fair # Seats for provice 8 = 15\n",
      "Fair # Seats for provice 9 = 25\n",
      "Fair # Seats for provice 10 = 48\n",
      "Fair # Seats for provice 11 = 24\n",
      "Fair # Seats for provice 12 = 29\n",
      "Fair # Seats for provice 13 = 26\n",
      "Fair # Seats for provice 14 = 20\n",
      "Fair # Seats for provice 15 = 44\n",
      "Fair # Seats for provice 16 = 29\n",
      "Fair # Seats for provice 17 = 39\n",
      "Fair # Seats for provice 18 = 26\n",
      "Fair # Seats for provice 19 = 37\n",
      "max difference between fair # seats and allocated # seats = 1\n"
     ]
    }
   ],
   "source": [
    "for v in prob2.getVars():\n",
    "    print(v.varName, \"=\", round(v.x))"
   ]
  },
  {
   "cell_type": "code",
   "execution_count": 31,
   "metadata": {},
   "outputs": [],
   "source": [
    "# This linearization is valid since it keeps all the consideration of the model without adding or removing any points.\n",
    "# Since we have z >= Quota[i] - a[i] for i in range(L), it would result in z >= max(Quota[i] - a[i]).\n",
    "# Also, z <= a[i] - Quota[i] for i in range(L) constraints would result in z <= max(Quota[i] - a[i]).\n",
    "# Therefore, these two sets of constraints would force z to be equal to z = max(Quota[i] - a[i] for i in range(L))\n",
    "\n",
    "# In this formulation, we have a single decision variable z, which we try to minimize in addition to the fair number of\n",
    "# seats for each province. Therefore, the model would have a total of 20+1=21 decision variables.\n",
    "\n",
    "# Similar to the previous formulation, we will have two constraints for z per province. \n",
    "# We also have a constraint for the total number of seats.\n",
    "# Therefore, the model would have 2*20 + 1 = 41 constraints."
   ]
  },
  {
   "cell_type": "markdown",
   "metadata": {
    "id": "39ms3yyFbtZf"
   },
   "source": [
    "### 1.3: Political considerations."
   ]
  },
  {
   "cell_type": "code",
   "execution_count": 5,
   "metadata": {},
   "outputs": [],
   "source": [
    "# Your solution for 1.3"
   ]
  },
  {
   "cell_type": "code",
   "execution_count": null,
   "metadata": {},
   "outputs": [],
   "source": [
    "# Generally, the formulation for this problem would be similar to the problem 1.1. \n",
    "# We will have a new constraint to capture requirement (i) added to the problem (a[i] == a[j])\n",
    "# , 3 new constraints to capture requirement (ii) (a[i] <= Quota[i]),\n",
    "# and one new constraint to capture requirement (iii)"
   ]
  },
  {
   "cell_type": "code",
   "execution_count": 89,
   "metadata": {},
   "outputs": [],
   "source": [
    "prob3 = gp.Model(\"Political Considerations\")"
   ]
  },
  {
   "cell_type": "code",
   "execution_count": 90,
   "metadata": {},
   "outputs": [],
   "source": [
    "L = len(Province)"
   ]
  },
  {
   "cell_type": "code",
   "execution_count": 91,
   "metadata": {},
   "outputs": [],
   "source": [
    "z = prob3.addVars(L, lb = 0, vtype = GRB.CONTINUOUS, name = [\"Devation from fair # Seats for provice \"+str(i) for i in range(L)])\n",
    "a = prob3.addVars(L, lb = 0, vtype = GRB.INTEGER, name = [\"Fair # Seats for provice \"+str(i) for i in range(L)])"
   ]
  },
  {
   "cell_type": "code",
   "execution_count": 92,
   "metadata": {},
   "outputs": [],
   "source": [
    "prob3.setObjective(sum(z[i] for i in range(L)), GRB.MINIMIZE)"
   ]
  },
  {
   "cell_type": "code",
   "execution_count": 93,
   "metadata": {},
   "outputs": [],
   "source": [
    "for i in range(L):\n",
    "    prob3.addConstr(z[i] >= Quota[i] - a[i])\n",
    "    prob3.addConstr(z[i] >= a[i] - Quota[i])"
   ]
  },
  {
   "cell_type": "code",
   "execution_count": 94,
   "metadata": {},
   "outputs": [
    {
     "data": {
      "text/plain": [
       "<gurobi.Constr *Awaiting Model Update*>"
      ]
     },
     "execution_count": 94,
     "metadata": {},
     "output_type": "execute_result"
    }
   ],
   "source": [
    "prob3.addConstr(sum(a[i] for i in range(L)) == s)"
   ]
  },
  {
   "cell_type": "code",
   "execution_count": 95,
   "metadata": {},
   "outputs": [
    {
     "data": {
      "text/plain": [
       "<gurobi.Constr *Awaiting Model Update*>"
      ]
     },
     "execution_count": 95,
     "metadata": {},
     "output_type": "execute_result"
    }
   ],
   "source": [
    "prob3.addConstr(a[4] == a[8])"
   ]
  },
  {
   "cell_type": "code",
   "execution_count": 96,
   "metadata": {},
   "outputs": [],
   "source": [
    "for i in [7, 10, 15]:\n",
    "    prob3.addConstr(a[i] <= Quota[i])"
   ]
  },
  {
   "cell_type": "code",
   "execution_count": 98,
   "metadata": {},
   "outputs": [
    {
     "data": {
      "text/plain": [
       "<gurobi.Constr *Awaiting Model Update*>"
      ]
     },
     "execution_count": 98,
     "metadata": {},
     "output_type": "execute_result"
    }
   ],
   "source": [
    "prob3.addConstr(a[2] - Quota[2] >= a[0] - Quota[0])"
   ]
  },
  {
   "cell_type": "code",
   "execution_count": 99,
   "metadata": {},
   "outputs": [
    {
     "name": "stdout",
     "output_type": "stream",
     "text": [
      "Gurobi Optimizer version 9.5.2 build v9.5.2rc0 (win64)\n",
      "Thread count: 8 physical cores, 16 logical processors, using up to 16 threads\n",
      "Optimize a model with 46 rows, 40 columns and 107 nonzeros\n",
      "Model fingerprint: 0x801a3e34\n",
      "Variable types: 20 continuous, 20 integer (0 binary)\n",
      "Coefficient statistics:\n",
      "  Matrix range     [1e+00, 1e+00]\n",
      "  Objective range  [1e+00, 1e+00]\n",
      "  Bounds range     [0e+00, 0e+00]\n",
      "  RHS range        [4e-01, 6e+02]\n",
      "Found heuristic solution: objective 1147.3456604\n",
      "Presolve removed 10 rows and 6 columns\n",
      "Presolve time: 0.00s\n",
      "Presolved: 36 rows, 34 columns, 87 nonzeros\n",
      "Found heuristic solution: objective 1146.3456606\n",
      "Variable types: 17 continuous, 17 integer (0 binary)\n",
      "Found heuristic solution: objective 1145.3456606\n",
      "\n",
      "Root relaxation: objective 2.926750e+00, 34 iterations, 0.00 seconds (0.00 work units)\n",
      "\n",
      "    Nodes    |    Current Node    |     Objective Bounds      |     Work\n",
      " Expl Unexpl |  Obj  Depth IntInf | Incumbent    BestBd   Gap | It/Node Time\n",
      "\n",
      "     0     0    2.92675    0   16 1145.34566    2.92675   100%     -    0s\n",
      "H    0     0                       7.6700600    2.92675  61.8%     -    0s\n",
      "     0     0    6.56602    0    1    7.67006    6.56602  14.4%     -    0s\n",
      "H    0     0                       7.5660200    6.56602  13.2%     -    0s\n",
      "H    0     0                       6.5749200    6.56602  0.14%     -    0s\n",
      "\n",
      "Cutting planes:\n",
      "  Gomory: 15\n",
      "  MIR: 16\n",
      "\n",
      "Explored 1 nodes (49 simplex iterations) in 0.01 seconds (0.00 work units)\n",
      "Thread count was 16 (of 16 available processors)\n",
      "\n",
      "Solution count 6: 6.57492 7.56602 7.67006 ... 1147.35\n",
      "\n",
      "Optimal solution found (tolerance 1.00e-04)\n",
      "Best objective 6.574920000000e+00, best bound 6.574920000000e+00, gap 0.0000%\n"
     ]
    }
   ],
   "source": [
    "prob3.optimize()"
   ]
  },
  {
   "cell_type": "code",
   "execution_count": 100,
   "metadata": {},
   "outputs": [
    {
     "name": "stdout",
     "output_type": "stream",
     "text": [
      "Devation from fair # Seats for provice 0 = 0\n",
      "Devation from fair # Seats for provice 1 = 0\n",
      "Devation from fair # Seats for provice 2 = 1\n",
      "Devation from fair # Seats for provice 3 = 0\n",
      "Devation from fair # Seats for provice 4 = 1\n",
      "Devation from fair # Seats for provice 5 = 0\n",
      "Devation from fair # Seats for provice 6 = 0\n",
      "Devation from fair # Seats for provice 7 = 1\n",
      "Devation from fair # Seats for provice 8 = 1\n",
      "Devation from fair # Seats for provice 9 = 1\n",
      "Devation from fair # Seats for provice 10 = 0\n",
      "Devation from fair # Seats for provice 11 = 0\n",
      "Devation from fair # Seats for provice 12 = 0\n",
      "Devation from fair # Seats for provice 13 = 0\n",
      "Devation from fair # Seats for provice 14 = 0\n",
      "Devation from fair # Seats for provice 15 = 0\n",
      "Devation from fair # Seats for provice 16 = 0\n",
      "Devation from fair # Seats for provice 17 = 0\n",
      "Devation from fair # Seats for provice 18 = 0\n",
      "Devation from fair # Seats for provice 19 = 0\n",
      "Fair # Seats for provice 0 = 22\n",
      "Fair # Seats for provice 1 = 38\n",
      "Fair # Seats for provice 2 = 23\n",
      "Fair # Seats for provice 3 = 33\n",
      "Fair # Seats for provice 4 = 14\n",
      "Fair # Seats for provice 5 = 36\n",
      "Fair # Seats for provice 6 = 33\n",
      "Fair # Seats for provice 7 = 41\n",
      "Fair # Seats for provice 8 = 14\n",
      "Fair # Seats for provice 9 = 25\n",
      "Fair # Seats for provice 10 = 48\n",
      "Fair # Seats for provice 11 = 24\n",
      "Fair # Seats for provice 12 = 29\n",
      "Fair # Seats for provice 13 = 26\n",
      "Fair # Seats for provice 14 = 20\n",
      "Fair # Seats for provice 15 = 44\n",
      "Fair # Seats for provice 16 = 29\n",
      "Fair # Seats for provice 17 = 39\n",
      "Fair # Seats for provice 18 = 26\n",
      "Fair # Seats for provice 19 = 37\n"
     ]
    }
   ],
   "source": [
    "for v in prob3.getVars():\n",
    "    print(v.varName, \"=\", round(v.x))"
   ]
  },
  {
   "cell_type": "markdown",
   "metadata": {},
   "source": [
    "### 1.4: Opinions."
   ]
  },
  {
   "cell_type": "code",
   "execution_count": 69,
   "metadata": {},
   "outputs": [],
   "source": [
    "# Your opinion\n",
    "# In my opinion, it does not erode the democracy because of the unique structure of the government in the USA. \n",
    "# The two mentioned states have the same number of representatives in the US Senate, however, \n",
    "# California has 55 electoral votes in the presidential election while South Dakota has only 3. \n",
    "# Since democracy is the product of the whole structure (not any single entity) and society, the unfair number of representatives \n",
    "# in the US Senate could be compensated by the higher impact of the states in selecting the president. \n",
    "\n",
    "# They might have decided to give all the states the same number of representatives in the US Senate to initially keep\n",
    "# all of them united together. "
   ]
  },
  {
   "cell_type": "markdown",
   "metadata": {},
   "source": [
    "## 2: Did You Miss BalancedMilk Co. and Ms. Fraser?"
   ]
  },
  {
   "cell_type": "markdown",
   "metadata": {},
   "source": [
    "### 2.1: The salesforce problem."
   ]
  },
  {
   "cell_type": "code",
   "execution_count": 387,
   "metadata": {},
   "outputs": [],
   "source": [
    "B = [[1, 0.3, -0.1, 0, 0, -0.2, 0, -0.3, 0.4, 0.1],\n",
    "              [0.2, 1, 0.1, 0.1, -0.1, 0, -0.1, 0.1, 0.3, -0.2],\n",
    "              [0.2, 0, 1, 0.1, -0.1, 0.2, 0.2, 0, -0.3, 0],\n",
    "              [-0.1, 0.2, 0, 1, 0.2, 0, 0.2, 0, 0.1, -0.1],\n",
    "              [0.1, -0.1, -0.1, 0.1, 1, 0.1, 0.1, 0.3, 0, 0.1], \n",
    "              [-0.2, -0.2, -0.1, 0.2, 0.2, 1, 0.3, -0.1, 0, -0.2],\n",
    "              [0.1, 0.2, -0.1, -0.1, 0.2, -0.1, 1, 0.2, 0.1, 0.3],\n",
    "              [0.1, 0.1, 0.3, -0.1, 0.1, 0.2, 0.2, 1, 0.2, 0.1],\n",
    "              [0.3, 0.4, -0.2, 0.2, 0.1, 0, 0.1, -0.1, 1, -0.1],\n",
    "              [-0.1, -0.2, 0.1, 0.1, 0, -0.1, 0.2, 0.2, 0.3, 1]]\n",
    "\n",
    "# Your solution for 2.1"
   ]
  },
  {
   "cell_type": "code",
   "execution_count": 388,
   "metadata": {},
   "outputs": [],
   "source": [
    "prob5 = gp.Model(\"Salesforce\")"
   ]
  },
  {
   "cell_type": "code",
   "execution_count": 389,
   "metadata": {},
   "outputs": [],
   "source": [
    "SalesPeople = ['S1', 'S2', 'S3', 'S4', 'S5', 'S6', 'S7', 'S8', 'S9', 'S10']\n",
    "P = len(SalesPeople)"
   ]
  },
  {
   "cell_type": "code",
   "execution_count": 390,
   "metadata": {},
   "outputs": [],
   "source": [
    "X = prob5.addVars(P, lb = 0, vtype = GRB.CONTINUOUS, name = [\"Award for Salesperson_\"+str(i+1) for i in range(P)])\n",
    "Y = prob5.addVars(P, vtype = GRB.BINARY, name = [\"Decreased limit for Salesperson_\"+str(i+1) for i in range(P)])\n",
    "Z = prob5.addVars(P, vtype = GRB.BINARY, name = [\"Increased limit for Salesperson_\"+str(i+1) for i in range(P)])\n",
    "T = prob5.addVars(P, vtype = GRB.BINARY, name = [\"Normal limit for Salesperson_\"+str(i+1) for i in range(P)])"
   ]
  },
  {
   "cell_type": "code",
   "execution_count": 391,
   "metadata": {},
   "outputs": [],
   "source": [
    "prob5.setObjective(sum(B[i][j] * X[j] for j in range(P) for i in range(P))/P, GRB.MAXIMIZE)"
   ]
  },
  {
   "cell_type": "code",
   "execution_count": 392,
   "metadata": {},
   "outputs": [
    {
     "data": {
      "text/plain": [
       "<gurobi.Constr *Awaiting Model Update*>"
      ]
     },
     "execution_count": 392,
     "metadata": {},
     "output_type": "execute_result"
    }
   ],
   "source": [
    "# Defining the budget constraint\n",
    "prob5.addConstr(sum(X[i] for i in range(P)) <= 10000)"
   ]
  },
  {
   "cell_type": "code",
   "execution_count": 393,
   "metadata": {},
   "outputs": [],
   "source": [
    "# Defining the minimum payoff constraint\n",
    "for i in range(P):\n",
    "    prob5.addConstr(sum(B[i][j]*X[j] for j in range(P)) >= 1500*T[i])"
   ]
  },
  {
   "cell_type": "code",
   "execution_count": 394,
   "metadata": {},
   "outputs": [
    {
     "data": {
      "text/plain": [
       "<gurobi.Constr *Awaiting Model Update*>"
      ]
     },
     "execution_count": 394,
     "metadata": {},
     "output_type": "execute_result"
    }
   ],
   "source": [
    "# At most 3 people's payoff can be dropped to 1000.\n",
    "for i in range(P):\n",
    "    prob5.addConstr(sum(B[i][j]*X[j] for j in range(P)) >= 1000*Y[i])\n",
    "    \n",
    "prob5.addConstr(sum(Y[i] for i in range(P)) <= 3)"
   ]
  },
  {
   "cell_type": "code",
   "execution_count": 395,
   "metadata": {},
   "outputs": [
    {
     "data": {
      "text/plain": [
       "<gurobi.Constr *Awaiting Model Update*>"
      ]
     },
     "execution_count": 395,
     "metadata": {},
     "output_type": "execute_result"
    }
   ],
   "source": [
    "# At least 3 people should receive 2500 or higher payoff.\n",
    "for i in range(P):\n",
    "    prob5.addConstr(sum(B[i][j]*X[j] for j in range(P)) >= 2500*Z[i])\n",
    "    \n",
    "prob5.addConstr(sum(Z[i] for i in range(P)) >= 3)"
   ]
  },
  {
   "cell_type": "code",
   "execution_count": 396,
   "metadata": {},
   "outputs": [],
   "source": [
    "for i in range(P):\n",
    "    prob5.addConstr(Y[i] + Z[i] + T[i] == 1)"
   ]
  },
  {
   "cell_type": "code",
   "execution_count": 397,
   "metadata": {},
   "outputs": [
    {
     "name": "stdout",
     "output_type": "stream",
     "text": [
      "Gurobi Optimizer version 9.5.2 build v9.5.2rc0 (win64)\n",
      "Thread count: 8 physical cores, 16 logical processors, using up to 16 threads\n",
      "Optimize a model with 43 rows, 40 columns and 348 nonzeros\n",
      "Model fingerprint: 0x48f9e83f\n",
      "Variable types: 10 continuous, 30 integer (30 binary)\n",
      "Coefficient statistics:\n",
      "  Matrix range     [1e-01, 3e+03]\n",
      "  Objective range  [9e-02, 2e-01]\n",
      "  Bounds range     [1e+00, 1e+00]\n",
      "  RHS range        [1e+00, 1e+04]\n",
      "Presolve time: 0.00s\n",
      "Presolved: 43 rows, 40 columns, 348 nonzeros\n",
      "Variable types: 10 continuous, 30 integer (30 binary)\n",
      "\n",
      "Root relaxation: objective 2.156417e+03, 33 iterations, 0.00 seconds (0.00 work units)\n",
      "\n",
      "    Nodes    |    Current Node    |     Objective Bounds      |     Work\n",
      " Expl Unexpl |  Obj  Depth IntInf | Incumbent    BestBd   Gap | It/Node Time\n",
      "\n",
      "     0     0 2156.41730    0   11          - 2156.41730      -     -    0s\n",
      "H    0     0                    1910.5778450 2156.41730  12.9%     -    0s\n",
      "     0     0 2111.70213    0   13 1910.57785 2111.70213  10.5%     -    0s\n",
      "     0     0 2092.36111    0   12 1910.57785 2092.36111  9.51%     -    0s\n",
      "H    0     0                    1935.4940594 2092.36111  8.10%     -    0s\n",
      "     0     0 2061.80556    0    8 1935.49406 2061.80556  6.53%     -    0s\n",
      "H    0     0                    1950.1036225 2061.80556  5.73%     -    0s\n",
      "     0     0 2023.38530    0   14 1950.10362 2023.38530  3.76%     -    0s\n",
      "     0     0 2018.75000    0   13 1950.10362 2018.75000  3.52%     -    0s\n",
      "     0     0 1985.06944    0   19 1950.10362 1985.06944  1.79%     -    0s\n",
      "     0     0 1983.75000    0   19 1950.10362 1983.75000  1.73%     -    0s\n",
      "     0     2 1983.75000    0   19 1950.10362 1983.75000  1.73%     -    0s\n",
      "\n",
      "Cutting planes:\n",
      "  Gomory: 2\n",
      "  MIR: 20\n",
      "\n",
      "Explored 122 nodes (648 simplex iterations) in 0.16 seconds (0.01 work units)\n",
      "Thread count was 16 (of 16 available processors)\n",
      "\n",
      "Solution count 3: 1950.1 1935.49 1910.58 \n",
      "\n",
      "Optimal solution found (tolerance 1.00e-04)\n",
      "Best objective 1.950103622550e+03, best bound 1.950103622550e+03, gap 0.0000%\n"
     ]
    }
   ],
   "source": [
    "prob5.optimize()"
   ]
  },
  {
   "cell_type": "code",
   "execution_count": 398,
   "metadata": {},
   "outputs": [
    {
     "name": "stdout",
     "output_type": "stream",
     "text": [
      "Award for Salesperson_1 = 747\n",
      "Award for Salesperson_2 = 1491\n",
      "Award for Salesperson_3 = 27\n",
      "Award for Salesperson_4 = 1095\n",
      "Award for Salesperson_5 = 416\n",
      "Award for Salesperson_6 = 152\n",
      "Award for Salesperson_7 = 5024\n",
      "Award for Salesperson_8 = 114\n",
      "Award for Salesperson_9 = 933\n",
      "Award for Salesperson_10 = 0\n",
      "Decreased limit for Salesperson_1 = 0\n",
      "Decreased limit for Salesperson_2 = 0\n",
      "Decreased limit for Salesperson_3 = 1\n",
      "Decreased limit for Salesperson_4 = 0\n",
      "Decreased limit for Salesperson_5 = 1\n",
      "Decreased limit for Salesperson_6 = 0\n",
      "Decreased limit for Salesperson_7 = 0\n",
      "Decreased limit for Salesperson_8 = 0\n",
      "Decreased limit for Salesperson_9 = 0\n",
      "Decreased limit for Salesperson_10 = 1\n",
      "Increased limit for Salesperson_1 = 0\n",
      "Increased limit for Salesperson_2 = 0\n",
      "Increased limit for Salesperson_3 = 0\n",
      "Increased limit for Salesperson_4 = 1\n",
      "Increased limit for Salesperson_5 = 0\n",
      "Increased limit for Salesperson_6 = 0\n",
      "Increased limit for Salesperson_7 = 1\n",
      "Increased limit for Salesperson_8 = 0\n",
      "Increased limit for Salesperson_9 = 1\n",
      "Increased limit for Salesperson_10 = 0\n",
      "Normal limit for Salesperson_1 = 1\n",
      "Normal limit for Salesperson_2 = 1\n",
      "Normal limit for Salesperson_3 = 0\n",
      "Normal limit for Salesperson_4 = 0\n",
      "Normal limit for Salesperson_5 = 0\n",
      "Normal limit for Salesperson_6 = 1\n",
      "Normal limit for Salesperson_7 = 0\n",
      "Normal limit for Salesperson_8 = 1\n",
      "Normal limit for Salesperson_9 = 0\n",
      "Normal limit for Salesperson_10 = 0\n"
     ]
    }
   ],
   "source": [
    "for v in prob5.getVars():\n",
    "    print(v.varName, \"=\", round(v.x))"
   ]
  },
  {
   "cell_type": "markdown",
   "metadata": {},
   "source": [
    "### 2.2: BalancedMilk in the middle of the crisis."
   ]
  },
  {
   "cell_type": "code",
   "execution_count": 2,
   "metadata": {},
   "outputs": [],
   "source": [
    "# importing data\n",
    "Cost = [[20, 49, 16, 30,  8, 35, 21, 40, 10, 12],\n",
    "        [15, 53, 7, 20, 47, 11, 16, 17, 15, 44],\n",
    "        [22, 25, 42, 22, 31, 9, 11, 29, 20, 5],\n",
    "        [45,  6, 33, 35, 49, 25, 30, 47, 32, 31],\n",
    "        [9, 12, 41, 15, 38, 14, 53, 22, 12, 13],\n",
    "        [21, 24, 32, 49, 5, 47, 30, 23, 37, 8],\n",
    "        [12, 19,  5, 28, 47, 39, 15, 35, 9, 51]]\n",
    "\n",
    "SupplyCenter = ['S_1', 'S_2', 'S_3', 'S_4', 'S_5', 'S_6', 'S_7']\n",
    "Supply = [110, 80, 100, 240, 100, 280, 130]\n",
    "DemandMarket = ['D_1', 'D_2', 'D_3', 'D_4', 'D_5', 'D_6', 'D_7', 'D_8', 'D_9', 'D_10']\n",
    "Demand = [90, 100, 150, 190, 180, 240, 210, 90, 160, 70]\n",
    "\n",
    "Undersupply_Cost = [15, 15, 15, 15, 15, 15, 15, 15, 15, 15]"
   ]
  },
  {
   "cell_type": "code",
   "execution_count": 3,
   "metadata": {},
   "outputs": [
    {
     "name": "stdout",
     "output_type": "stream",
     "text": [
      "Set parameter Username\n",
      "Academic license - for non-commercial use only - expires 2023-09-10\n"
     ]
    }
   ],
   "source": [
    "prob6 = gp.Model(\"mid-crisis\")"
   ]
  },
  {
   "cell_type": "code",
   "execution_count": 4,
   "metadata": {},
   "outputs": [],
   "source": [
    "S = len(SupplyCenter)\n",
    "D = len(DemandMarket)\n",
    "U = len(Undersupply_Cost)"
   ]
  },
  {
   "cell_type": "code",
   "execution_count": 5,
   "metadata": {},
   "outputs": [],
   "source": [
    "X = prob6.addVars(S,D, lb = 0, vtype = GRB.CONTINUOUS, name = [\"X_\"+i+\"_\"+j for i in SupplyCenter for j in DemandMarket])"
   ]
  },
  {
   "cell_type": "code",
   "execution_count": 6,
   "metadata": {},
   "outputs": [],
   "source": [
    "prob6.setObjective(sum(Cost[i][j]*X[i,j] for i in range(S) for j in range(D)) + sum((Demand[j] - sum(X[i,j] for i in range(S)))*Undersupply_Cost[j] for j in range(D)), GRB.MINIMIZE)"
   ]
  },
  {
   "cell_type": "code",
   "execution_count": 7,
   "metadata": {},
   "outputs": [],
   "source": [
    "# defining supply constraints\n",
    "# the firm can choose not to supply all the produced milk.\n",
    "for i in range(S):\n",
    "    prob6.addConstr(sum(X[i,j] for j in range(D)) <= Supply[i])"
   ]
  },
  {
   "cell_type": "code",
   "execution_count": 8,
   "metadata": {},
   "outputs": [],
   "source": [
    "# defining demand constraints\n",
    "# the firm can undersupply a demand market but it is not costless; \n",
    "# the cost of undersupplying a market has been considered in the revised objective function\n",
    "for j in range(D):\n",
    "    prob6.addConstr(sum(X[i,j] for i in range(S)) <= Demand[j])"
   ]
  },
  {
   "cell_type": "code",
   "execution_count": 9,
   "metadata": {},
   "outputs": [],
   "source": [
    "Y = prob6.addVars(S, vtype=GRB.BINARY, name = [\"Additional constraint for supply center \"+j for j in SupplyCenter])\n",
    "Z = prob6.addVars(D, vtype=GRB.BINARY, name = [\"Additional constraint for demand market \"+j for j in DemandMarket])"
   ]
  },
  {
   "cell_type": "code",
   "execution_count": 10,
   "metadata": {},
   "outputs": [
    {
     "data": {
      "text/plain": [
       "<gurobi.Constr *Awaiting Model Update*>"
      ]
     },
     "execution_count": 10,
     "metadata": {},
     "output_type": "execute_result"
    }
   ],
   "source": [
    "prob6.addConstr(sum(X[2,j] for j in range(D)) >= 0.5*Supply[2]*Y[2])\n",
    "prob6.addConstr(sum(X[3,j] for j in range(D)) >= 0.5*Supply[3]*Y[3])\n",
    "prob6.addConstr(sum(X[4,j] for j in range(D)) >= 0.5*Supply[4]*Y[4])\n",
    "prob6.addConstr(Y[2] + Y[3] + Y[4] >= 2)"
   ]
  },
  {
   "cell_type": "code",
   "execution_count": 11,
   "metadata": {},
   "outputs": [
    {
     "data": {
      "text/plain": [
       "<gurobi.Constr *Awaiting Model Update*>"
      ]
     },
     "execution_count": 11,
     "metadata": {},
     "output_type": "execute_result"
    }
   ],
   "source": [
    "prob6.addConstr(sum(X[i,4] for i in range(S)) >= 0.8*Demand[4] - 150*Z[4])\n",
    "prob6.addConstr(sum(X[i,5] for i in range(S)) >= 0.6*Demand[5] - 150*(1 - Z[4]))\n",
    "# Since 0.8*D5 = 0.6*D6 = 144, M = 150 is a proper choice (large enough)"
   ]
  },
  {
   "cell_type": "code",
   "execution_count": 15,
   "metadata": {},
   "outputs": [
    {
     "data": {
      "text/plain": [
       "<gurobi.Constr *Awaiting Model Update*>"
      ]
     },
     "execution_count": 15,
     "metadata": {},
     "output_type": "execute_result"
    }
   ],
   "source": [
    "prob6.addConstr(sum(X[i,1] for i in range(S)) >= 0.5*Demand[1] - 90*Z[1])\n",
    "prob6.addConstr(sum(X[i,7] for i in range(S)) >= 0.5*Demand[7] - 90*(1-Z[1]))\n",
    "prob6.addConstr(sum(X[i,8] for i in range(S)) >= 0.5*Demand[8] - 90*(1-Z[1]))\n",
    "# Since D2 = 100, D8 = 90, and D9 = 160, M = 90 is a proper choice (large enough)"
   ]
  },
  {
   "cell_type": "code",
   "execution_count": 16,
   "metadata": {},
   "outputs": [
    {
     "name": "stdout",
     "output_type": "stream",
     "text": [
      "Gurobi Optimizer version 9.5.2 build v9.5.2rc0 (win64)\n",
      "Thread count: 8 physical cores, 16 logical processors, using up to 16 threads\n",
      "Optimize a model with 29 rows, 87 columns and 240 nonzeros\n",
      "Model fingerprint: 0x0f1e5312\n",
      "Variable types: 70 continuous, 17 integer (17 binary)\n",
      "Coefficient statistics:\n",
      "  Matrix range     [1e+00, 2e+02]\n",
      "  Objective range  [1e+00, 4e+01]\n",
      "  Bounds range     [1e+00, 1e+00]\n",
      "  RHS range        [2e+00, 3e+02]\n",
      "\n",
      "MIP start from previous solve produced solution with objective 15860 (0.01s)\n",
      "Loaded MIP start from previous solve with objective 15860\n",
      "\n",
      "Presolve removed 1 rows and 27 columns\n",
      "Presolve time: 0.00s\n",
      "Presolved: 28 rows, 60 columns, 202 nonzeros\n",
      "Variable types: 55 continuous, 5 integer (5 binary)\n",
      "\n",
      "Root relaxation: objective 1.572500e+04, 10 iterations, 0.00 seconds (0.00 work units)\n",
      "\n",
      "    Nodes    |    Current Node    |     Objective Bounds      |     Work\n",
      " Expl Unexpl |  Obj  Depth IntInf | Incumbent    BestBd   Gap | It/Node Time\n",
      "\n",
      "     0     0 15725.0000    0    1 15860.0000 15725.0000  0.85%     -    0s\n",
      "\n",
      "Cutting planes:\n",
      "  MIR: 1\n",
      "\n",
      "Explored 1 nodes (10 simplex iterations) in 0.04 seconds (0.00 work units)\n",
      "Thread count was 16 (of 16 available processors)\n",
      "\n",
      "Solution count 1: 15860 \n",
      "\n",
      "Optimal solution found (tolerance 1.00e-04)\n",
      "Best objective 1.586000000000e+04, best bound 1.586000000000e+04, gap 0.0000%\n"
     ]
    }
   ],
   "source": [
    "prob6.optimize()"
   ]
  },
  {
   "cell_type": "code",
   "execution_count": 17,
   "metadata": {},
   "outputs": [
    {
     "name": "stdout",
     "output_type": "stream",
     "text": [
      "X_S_1_D_1 = 0\n",
      "X_S_1_D_2 = 0\n",
      "X_S_1_D_3 = 0\n",
      "X_S_1_D_4 = 0\n",
      "X_S_1_D_5 = 0\n",
      "X_S_1_D_6 = 0\n",
      "X_S_1_D_7 = 0\n",
      "X_S_1_D_8 = 0\n",
      "X_S_1_D_9 = 110\n",
      "X_S_1_D_10 = 0\n",
      "X_S_2_D_1 = 0\n",
      "X_S_2_D_2 = 0\n",
      "X_S_2_D_3 = 35\n",
      "X_S_2_D_4 = 0\n",
      "X_S_2_D_5 = 0\n",
      "X_S_2_D_6 = 0\n",
      "X_S_2_D_7 = 0\n",
      "X_S_2_D_8 = 45\n",
      "X_S_2_D_9 = 0\n",
      "X_S_2_D_10 = 0\n",
      "X_S_3_D_1 = 0\n",
      "X_S_3_D_2 = 0\n",
      "X_S_3_D_3 = 0\n",
      "X_S_3_D_4 = 0\n",
      "X_S_3_D_5 = 0\n",
      "X_S_3_D_6 = 100\n",
      "X_S_3_D_7 = 0\n",
      "X_S_3_D_8 = 0\n",
      "X_S_3_D_9 = 0\n",
      "X_S_3_D_10 = 0\n",
      "X_S_4_D_1 = 0\n",
      "X_S_4_D_2 = 100\n",
      "X_S_4_D_3 = 0\n",
      "X_S_4_D_4 = 0\n",
      "X_S_4_D_5 = 0\n",
      "X_S_4_D_6 = 0\n",
      "X_S_4_D_7 = 0\n",
      "X_S_4_D_8 = 0\n",
      "X_S_4_D_9 = 0\n",
      "X_S_4_D_10 = 0\n",
      "X_S_5_D_1 = 90\n",
      "X_S_5_D_2 = 0\n",
      "X_S_5_D_3 = 0\n",
      "X_S_5_D_4 = 0\n",
      "X_S_5_D_5 = 0\n",
      "X_S_5_D_6 = 0\n",
      "X_S_5_D_7 = 0\n",
      "X_S_5_D_8 = 0\n",
      "X_S_5_D_9 = 10\n",
      "X_S_5_D_10 = 0\n",
      "X_S_6_D_1 = 0\n",
      "X_S_6_D_2 = 0\n",
      "X_S_6_D_3 = 0\n",
      "X_S_6_D_4 = 0\n",
      "X_S_6_D_5 = 180\n",
      "X_S_6_D_6 = 0\n",
      "X_S_6_D_7 = 0\n",
      "X_S_6_D_8 = 0\n",
      "X_S_6_D_9 = 0\n",
      "X_S_6_D_10 = 70\n",
      "X_S_7_D_1 = 0\n",
      "X_S_7_D_2 = 0\n",
      "X_S_7_D_3 = 115\n",
      "X_S_7_D_4 = 0\n",
      "X_S_7_D_5 = 0\n",
      "X_S_7_D_6 = 0\n",
      "X_S_7_D_7 = 0\n",
      "X_S_7_D_8 = 0\n",
      "X_S_7_D_9 = 15\n",
      "X_S_7_D_10 = 0\n",
      "Additional constraint for supply center S_1 = 0\n",
      "Additional constraint for supply center S_2 = 0\n",
      "Additional constraint for supply center S_3 = 1\n",
      "Additional constraint for supply center S_4 = 0\n",
      "Additional constraint for supply center S_5 = 1\n",
      "Additional constraint for supply center S_6 = 0\n",
      "Additional constraint for supply center S_7 = 0\n",
      "Additional constraint for demand market D_1 = 0\n",
      "Additional constraint for demand market D_2 = 1\n",
      "Additional constraint for demand market D_3 = 0\n",
      "Additional constraint for demand market D_4 = 0\n",
      "Additional constraint for demand market D_5 = 0\n",
      "Additional constraint for demand market D_6 = 0\n",
      "Additional constraint for demand market D_7 = 0\n",
      "Additional constraint for demand market D_8 = 0\n",
      "Additional constraint for demand market D_9 = 0\n",
      "Additional constraint for demand market D_10 = 0\n"
     ]
    }
   ],
   "source": [
    "for v in prob6.getVars():\n",
    "    print(v.varName, \"=\", round(v.x))"
   ]
  },
  {
   "cell_type": "markdown",
   "metadata": {},
   "source": [
    "### 2.3 - BalancedMilk before the next crisis."
   ]
  },
  {
   "cell_type": "code",
   "execution_count": 74,
   "metadata": {},
   "outputs": [],
   "source": [
    "# importing data\n",
    "Cost = [[20, 49, 16, 30,  8, 35, 21, 40, 10, 12],\n",
    "        [15, 53, 7, 20, 47, 11, 16, 17, 15, 44],\n",
    "        [22, 25, 42, 22, 31, 9, 11, 29, 20, 5],\n",
    "        [45,  6, 33, 35, 49, 25, 30, 47, 32, 31],\n",
    "        [9, 12, 41, 15, 38, 14, 53, 22, 12, 13],\n",
    "        [21, 24, 32, 49, 5, 47, 30, 23, 37, 8],\n",
    "        [12, 19,  5, 28, 47, 39, 15, 35, 9, 51],\n",
    "        [34, 17, 10, 21, 9, 33, 14, 26, 19, 45]]\n",
    "\n",
    "SupplyCenter = ['S_1', 'S_2', 'S_3', 'S_4', 'S_5', 'S_6', 'S_7', 'S_8']\n",
    "Supply = [110, 80, 100, 240, 100, 280, 130, 440]\n",
    "DemandMarket = ['D_1', 'D_2', 'D_3', 'D_4', 'D_5', 'D_6', 'D_7', 'D_8', 'D_9', 'D_10']\n",
    "Demand = [90, 100, 150, 190, 180, 240, 210, 90, 160, 70]\n",
    "\n",
    "Undersupply_Cost = [30, 30, 30, 30, 30, 30, 30, 30, 30, 30]\n",
    "# Your solution for 2.3"
   ]
  },
  {
   "cell_type": "code",
   "execution_count": 75,
   "metadata": {},
   "outputs": [],
   "source": [
    "prob7 = gp.Model(\"post-crisis\")"
   ]
  },
  {
   "cell_type": "code",
   "execution_count": 76,
   "metadata": {},
   "outputs": [],
   "source": [
    "S = len(SupplyCenter)\n",
    "D = len(DemandMarket)\n",
    "U = len(Undersupply_Cost)"
   ]
  },
  {
   "cell_type": "code",
   "execution_count": 77,
   "metadata": {},
   "outputs": [],
   "source": [
    "X = prob7.addVars(S,D, lb = 0, vtype = GRB.CONTINUOUS, name = [\"X_\"+i+\"_\"+j for i in SupplyCenter for j in DemandMarket])"
   ]
  },
  {
   "cell_type": "code",
   "execution_count": 78,
   "metadata": {},
   "outputs": [],
   "source": [
    "Y = prob7.addVars(S, vtype = GRB.BINARY, name = [\"Supply Center \"+str(i+1)+\" open\" for i in range(S)])"
   ]
  },
  {
   "cell_type": "code",
   "execution_count": 79,
   "metadata": {},
   "outputs": [],
   "source": [
    "prob7.setObjective(sum(Cost[i][j]*X[i,j] for i in range(S) for j in range(D)) + sum((Demand[j] - sum(X[i,j] for i in range(S)))*Undersupply_Cost[j] for j in range(D)), GRB.MINIMIZE)"
   ]
  },
  {
   "cell_type": "code",
   "execution_count": 80,
   "metadata": {},
   "outputs": [
    {
     "data": {
      "text/plain": [
       "<gurobi.Constr *Awaiting Model Update*>"
      ]
     },
     "execution_count": 80,
     "metadata": {},
     "output_type": "execute_result"
    }
   ],
   "source": [
    "# Defining the constraint for limiting the number of shut down supply centers for the best case scenario.\n",
    "prob7.addConstr(sum(Y[i] for i in range(S)) == 7)"
   ]
  },
  {
   "cell_type": "code",
   "execution_count": 81,
   "metadata": {},
   "outputs": [],
   "source": [
    "# defining supply constraints\n",
    "# The firm is committed to distributing all the milk supplied by the active supply centers.\n",
    "for i in range(S):\n",
    "    prob7.addConstr(sum(X[i,j] for j in range(D)) == Supply[i]*Y[i])"
   ]
  },
  {
   "cell_type": "code",
   "execution_count": 82,
   "metadata": {},
   "outputs": [],
   "source": [
    "# defining demand constraints\n",
    "# the firm can undersupply a demand market but it is not costless;\n",
    "# the cost of undersupplying a market has been considered in the revised objective function\n",
    "for j in range(D):\n",
    "    prob7.addConstr(sum(X[i,j] for i in range(S)) <= Demand[j])"
   ]
  },
  {
   "cell_type": "code",
   "execution_count": 83,
   "metadata": {},
   "outputs": [
    {
     "name": "stdout",
     "output_type": "stream",
     "text": [
      "Gurobi Optimizer version 9.5.2 build v9.5.2rc0 (win64)\n",
      "Thread count: 8 physical cores, 16 logical processors, using up to 16 threads\n",
      "Optimize a model with 19 rows, 88 columns and 176 nonzeros\n",
      "Model fingerprint: 0x00535f13\n",
      "Variable types: 80 continuous, 8 integer (8 binary)\n",
      "Coefficient statistics:\n",
      "  Matrix range     [1e+00, 4e+02]\n",
      "  Objective range  [1e+00, 3e+01]\n",
      "  Bounds range     [1e+00, 1e+00]\n",
      "  RHS range        [7e+00, 2e+02]\n",
      "Presolve time: 0.01s\n",
      "Presolved: 19 rows, 88 columns, 176 nonzeros\n",
      "Variable types: 80 continuous, 8 integer (8 binary)\n",
      "Found heuristic solution: objective 19990.000000\n",
      "\n",
      "Root relaxation: objective 1.922583e+04, 19 iterations, 0.00 seconds (0.00 work units)\n",
      "\n",
      "    Nodes    |    Current Node    |     Objective Bounds      |     Work\n",
      " Expl Unexpl |  Obj  Depth IntInf | Incumbent    BestBd   Gap | It/Node Time\n",
      "\n",
      "*    0     0               0    19460.000000 19460.0000  0.00%     -    0s\n",
      "\n",
      "Explored 1 nodes (23 simplex iterations) in 0.02 seconds (0.00 work units)\n",
      "Thread count was 16 (of 16 available processors)\n",
      "\n",
      "Solution count 2: 19460 19990 \n",
      "\n",
      "Optimal solution found (tolerance 1.00e-04)\n",
      "Best objective 1.946000000000e+04, best bound 1.946000000000e+04, gap 0.0000%\n"
     ]
    }
   ],
   "source": [
    "prob7.optimize()"
   ]
  },
  {
   "cell_type": "code",
   "execution_count": 84,
   "metadata": {},
   "outputs": [
    {
     "name": "stdout",
     "output_type": "stream",
     "text": [
      "X_S_1_D_1 = 0\n",
      "X_S_1_D_2 = 0\n",
      "X_S_1_D_3 = 0\n",
      "X_S_1_D_4 = 0\n",
      "X_S_1_D_5 = 0\n",
      "X_S_1_D_6 = 0\n",
      "X_S_1_D_7 = 0\n",
      "X_S_1_D_8 = 0\n",
      "X_S_1_D_9 = 110\n",
      "X_S_1_D_10 = 0\n",
      "X_S_2_D_1 = 0\n",
      "X_S_2_D_2 = 0\n",
      "X_S_2_D_3 = 0\n",
      "X_S_2_D_4 = 0\n",
      "X_S_2_D_5 = 0\n",
      "X_S_2_D_6 = 0\n",
      "X_S_2_D_7 = 0\n",
      "X_S_2_D_8 = 0\n",
      "X_S_2_D_9 = 0\n",
      "X_S_2_D_10 = 0\n",
      "X_S_3_D_1 = 0\n",
      "X_S_3_D_2 = 0\n",
      "X_S_3_D_3 = 0\n",
      "X_S_3_D_4 = 0\n",
      "X_S_3_D_5 = 0\n",
      "X_S_3_D_6 = 100\n",
      "X_S_3_D_7 = 0\n",
      "X_S_3_D_8 = 0\n",
      "X_S_3_D_9 = 0\n",
      "X_S_3_D_10 = 0\n",
      "X_S_4_D_1 = 0\n",
      "X_S_4_D_2 = 100\n",
      "X_S_4_D_3 = 0\n",
      "X_S_4_D_4 = 0\n",
      "X_S_4_D_5 = 0\n",
      "X_S_4_D_6 = 140\n",
      "X_S_4_D_7 = 0\n",
      "X_S_4_D_8 = 0\n",
      "X_S_4_D_9 = 0\n",
      "X_S_4_D_10 = 0\n",
      "X_S_5_D_1 = 90\n",
      "X_S_5_D_2 = 0\n",
      "X_S_5_D_3 = 0\n",
      "X_S_5_D_4 = 10\n",
      "X_S_5_D_5 = 0\n",
      "X_S_5_D_6 = 0\n",
      "X_S_5_D_7 = 0\n",
      "X_S_5_D_8 = 0\n",
      "X_S_5_D_9 = 0\n",
      "X_S_5_D_10 = 0\n",
      "X_S_6_D_1 = 0\n",
      "X_S_6_D_2 = 0\n",
      "X_S_6_D_3 = 0\n",
      "X_S_6_D_4 = 0\n",
      "X_S_6_D_5 = 180\n",
      "X_S_6_D_6 = 0\n",
      "X_S_6_D_7 = 0\n",
      "X_S_6_D_8 = 30\n",
      "X_S_6_D_9 = 0\n",
      "X_S_6_D_10 = 70\n",
      "X_S_7_D_1 = 0\n",
      "X_S_7_D_2 = 0\n",
      "X_S_7_D_3 = 80\n",
      "X_S_7_D_4 = 0\n",
      "X_S_7_D_5 = 0\n",
      "X_S_7_D_6 = 0\n",
      "X_S_7_D_7 = 0\n",
      "X_S_7_D_8 = 0\n",
      "X_S_7_D_9 = 50\n",
      "X_S_7_D_10 = 0\n",
      "X_S_8_D_1 = 0\n",
      "X_S_8_D_2 = 0\n",
      "X_S_8_D_3 = 70\n",
      "X_S_8_D_4 = 160\n",
      "X_S_8_D_5 = 0\n",
      "X_S_8_D_6 = 0\n",
      "X_S_8_D_7 = 210\n",
      "X_S_8_D_8 = 0\n",
      "X_S_8_D_9 = 0\n",
      "X_S_8_D_10 = 0\n",
      "Supply Center 1 open = 1\n",
      "Supply Center 2 open = 0\n",
      "Supply Center 3 open = 1\n",
      "Supply Center 4 open = 1\n",
      "Supply Center 5 open = 1\n",
      "Supply Center 6 open = 1\n",
      "Supply Center 7 open = 1\n",
      "Supply Center 8 open = 1\n"
     ]
    }
   ],
   "source": [
    "for v in prob7.getVars():\n",
    "    print(v.varName, \"=\", round(v.x))"
   ]
  },
  {
   "cell_type": "code",
   "execution_count": 50,
   "metadata": {},
   "outputs": [],
   "source": [
    "# Solving the problem for the worst case scenario.\n",
    "# In comparison with the previous part, the only difference is the sum of Y[i] should be equal to 5 instead of 7"
   ]
  },
  {
   "cell_type": "code",
   "execution_count": 63,
   "metadata": {},
   "outputs": [],
   "source": [
    "# importing data\n",
    "Cost = [[20, 49, 16, 30,  8, 35, 21, 40, 10, 12],\n",
    "        [15, 53, 7, 20, 47, 11, 16, 17, 15, 44],\n",
    "        [22, 25, 42, 22, 31, 9, 11, 29, 20, 5],\n",
    "        [45,  6, 33, 35, 49, 25, 30, 47, 32, 31],\n",
    "        [9, 12, 41, 15, 38, 14, 53, 22, 12, 13],\n",
    "        [21, 24, 32, 49, 5, 47, 30, 23, 37, 8],\n",
    "        [12, 19,  5, 28, 47, 39, 15, 35, 9, 51],\n",
    "        [34, 17, 10, 21, 9, 33, 14, 26, 19, 45]]\n",
    "\n",
    "SupplyCenter = ['S_1', 'S_2', 'S_3', 'S_4', 'S_5', 'S_6', 'S_7', 'S_8']\n",
    "Supply = [110, 80, 100, 240, 100, 280, 130, 440]\n",
    "DemandMarket = ['D_1', 'D_2', 'D_3', 'D_4', 'D_5', 'D_6', 'D_7', 'D_8', 'D_9', 'D_10']\n",
    "Demand = [90, 100, 150, 190, 180, 240, 210, 90, 160, 70]\n",
    "\n",
    "Undersupply_Cost = [30, 30, 30, 30, 30, 30, 30, 30, 30, 30]\n",
    "# Your solution for 2.3"
   ]
  },
  {
   "cell_type": "code",
   "execution_count": 64,
   "metadata": {},
   "outputs": [],
   "source": [
    "prob8 = gp.Model(\"post-crisis\")"
   ]
  },
  {
   "cell_type": "code",
   "execution_count": 65,
   "metadata": {},
   "outputs": [],
   "source": [
    "S = len(SupplyCenter)\n",
    "D = len(DemandMarket)\n",
    "U = len(Undersupply_Cost)"
   ]
  },
  {
   "cell_type": "code",
   "execution_count": 66,
   "metadata": {},
   "outputs": [],
   "source": [
    "X = prob8.addVars(S,D, lb = 0, vtype = GRB.CONTINUOUS, name = [\"X_\"+i+\"_\"+j for i in SupplyCenter for j in DemandMarket])"
   ]
  },
  {
   "cell_type": "code",
   "execution_count": 67,
   "metadata": {},
   "outputs": [],
   "source": [
    "Y = prob8.addVars(S, vtype = GRB.BINARY, name = [\"Supply Center \"+str(i+1)+\" open\" for i in range(S)])"
   ]
  },
  {
   "cell_type": "code",
   "execution_count": 68,
   "metadata": {},
   "outputs": [],
   "source": [
    "prob8.setObjective(sum(Cost[i][j]*X[i,j] for i in range(S) for j in range(D)) + sum((Demand[j] - sum(X[i,j] for i in range(S)))*Undersupply_Cost[j] for j in range(D)), GRB.MINIMIZE)"
   ]
  },
  {
   "cell_type": "code",
   "execution_count": 69,
   "metadata": {},
   "outputs": [
    {
     "data": {
      "text/plain": [
       "<gurobi.Constr *Awaiting Model Update*>"
      ]
     },
     "execution_count": 69,
     "metadata": {},
     "output_type": "execute_result"
    }
   ],
   "source": [
    "# Defining the constraint for limiting the number of shut down supply centers for the worst case scenario.\n",
    "prob8.addConstr(sum(Y[i] for i in range(S)) == 5)"
   ]
  },
  {
   "cell_type": "code",
   "execution_count": 70,
   "metadata": {},
   "outputs": [],
   "source": [
    "# defining supply constraints\n",
    "# The firm is committed to distributing all the milk supplied by the active supply centers.\n",
    "for i in range(S):\n",
    "    prob8.addConstr(sum(X[i,j] for j in range(D)) == Supply[i]*Y[i])"
   ]
  },
  {
   "cell_type": "code",
   "execution_count": 71,
   "metadata": {},
   "outputs": [],
   "source": [
    "# defining demand constraints\n",
    "# the firm can undersupply a demand market but it is not costless;\n",
    "# the cost of undersupplying a market has been considered in the revised objective function\n",
    "for j in range(D):\n",
    "    prob8.addConstr(sum(X[i,j] for i in range(S)) <= Demand[j])"
   ]
  },
  {
   "cell_type": "code",
   "execution_count": 72,
   "metadata": {},
   "outputs": [
    {
     "name": "stdout",
     "output_type": "stream",
     "text": [
      "Gurobi Optimizer version 9.5.2 build v9.5.2rc0 (win64)\n",
      "Thread count: 8 physical cores, 16 logical processors, using up to 16 threads\n",
      "Optimize a model with 19 rows, 88 columns and 176 nonzeros\n",
      "Model fingerprint: 0xb5a61460\n",
      "Variable types: 80 continuous, 8 integer (8 binary)\n",
      "Coefficient statistics:\n",
      "  Matrix range     [1e+00, 4e+02]\n",
      "  Objective range  [1e+00, 3e+01]\n",
      "  Bounds range     [1e+00, 1e+00]\n",
      "  RHS range        [5e+00, 2e+02]\n",
      "Presolve time: 0.00s\n",
      "Presolved: 19 rows, 88 columns, 176 nonzeros\n",
      "Variable types: 80 continuous, 8 integer (8 binary)\n",
      "Found heuristic solution: objective 23130.000000\n",
      "\n",
      "Root relaxation: objective 2.249500e+04, 24 iterations, 0.00 seconds (0.00 work units)\n",
      "\n",
      "    Nodes    |    Current Node    |     Objective Bounds      |     Work\n",
      " Expl Unexpl |  Obj  Depth IntInf | Incumbent    BestBd   Gap | It/Node Time\n",
      "\n",
      "*    0     0               0    23020.000000 23020.0000  0.00%     -    0s\n",
      "\n",
      "Explored 1 nodes (25 simplex iterations) in 0.02 seconds (0.00 work units)\n",
      "Thread count was 16 (of 16 available processors)\n",
      "\n",
      "Solution count 2: 23020 23130 \n",
      "\n",
      "Optimal solution found (tolerance 1.00e-04)\n",
      "Best objective 2.302000000000e+04, best bound 2.302000000000e+04, gap 0.0000%\n"
     ]
    }
   ],
   "source": [
    "prob8.optimize()"
   ]
  },
  {
   "cell_type": "code",
   "execution_count": 73,
   "metadata": {},
   "outputs": [
    {
     "name": "stdout",
     "output_type": "stream",
     "text": [
      "X_S_1_D_1 = 0\n",
      "X_S_1_D_2 = 0\n",
      "X_S_1_D_3 = 0\n",
      "X_S_1_D_4 = 0\n",
      "X_S_1_D_5 = 0\n",
      "X_S_1_D_6 = 0\n",
      "X_S_1_D_7 = 0\n",
      "X_S_1_D_8 = 0\n",
      "X_S_1_D_9 = 0\n",
      "X_S_1_D_10 = 0\n",
      "X_S_2_D_1 = 0\n",
      "X_S_2_D_2 = 0\n",
      "X_S_2_D_3 = 0\n",
      "X_S_2_D_4 = 0\n",
      "X_S_2_D_5 = 0\n",
      "X_S_2_D_6 = 0\n",
      "X_S_2_D_7 = 0\n",
      "X_S_2_D_8 = 0\n",
      "X_S_2_D_9 = 0\n",
      "X_S_2_D_10 = 0\n",
      "X_S_3_D_1 = 0\n",
      "X_S_3_D_2 = 0\n",
      "X_S_3_D_3 = 0\n",
      "X_S_3_D_4 = 0\n",
      "X_S_3_D_5 = 0\n",
      "X_S_3_D_6 = 100\n",
      "X_S_3_D_7 = 0\n",
      "X_S_3_D_8 = 0\n",
      "X_S_3_D_9 = 0\n",
      "X_S_3_D_10 = 0\n",
      "X_S_4_D_1 = 0\n",
      "X_S_4_D_2 = 100\n",
      "X_S_4_D_3 = 0\n",
      "X_S_4_D_4 = 0\n",
      "X_S_4_D_5 = 0\n",
      "X_S_4_D_6 = 140\n",
      "X_S_4_D_7 = 0\n",
      "X_S_4_D_8 = 0\n",
      "X_S_4_D_9 = 0\n",
      "X_S_4_D_10 = 0\n",
      "X_S_5_D_1 = 0\n",
      "X_S_5_D_2 = 0\n",
      "X_S_5_D_3 = 0\n",
      "X_S_5_D_4 = 0\n",
      "X_S_5_D_5 = 0\n",
      "X_S_5_D_6 = 0\n",
      "X_S_5_D_7 = 0\n",
      "X_S_5_D_8 = 0\n",
      "X_S_5_D_9 = 0\n",
      "X_S_5_D_10 = 0\n",
      "X_S_6_D_1 = 30\n",
      "X_S_6_D_2 = 0\n",
      "X_S_6_D_3 = 0\n",
      "X_S_6_D_4 = 0\n",
      "X_S_6_D_5 = 180\n",
      "X_S_6_D_6 = 0\n",
      "X_S_6_D_7 = 0\n",
      "X_S_6_D_8 = 0\n",
      "X_S_6_D_9 = 0\n",
      "X_S_6_D_10 = 70\n",
      "X_S_7_D_1 = 0\n",
      "X_S_7_D_2 = 0\n",
      "X_S_7_D_3 = 0\n",
      "X_S_7_D_4 = 0\n",
      "X_S_7_D_5 = 0\n",
      "X_S_7_D_6 = 0\n",
      "X_S_7_D_7 = 0\n",
      "X_S_7_D_8 = 0\n",
      "X_S_7_D_9 = 130\n",
      "X_S_7_D_10 = 0\n",
      "X_S_8_D_1 = 0\n",
      "X_S_8_D_2 = 0\n",
      "X_S_8_D_3 = 150\n",
      "X_S_8_D_4 = 50\n",
      "X_S_8_D_5 = 0\n",
      "X_S_8_D_6 = 0\n",
      "X_S_8_D_7 = 210\n",
      "X_S_8_D_8 = 0\n",
      "X_S_8_D_9 = 30\n",
      "X_S_8_D_10 = 0\n",
      "Supply Center 1 open = 0\n",
      "Supply Center 2 open = 0\n",
      "Supply Center 3 open = 1\n",
      "Supply Center 4 open = 1\n",
      "Supply Center 5 open = 0\n",
      "Supply Center 6 open = 1\n",
      "Supply Center 7 open = 1\n",
      "Supply Center 8 open = 1\n"
     ]
    }
   ],
   "source": [
    "for v in prob8.getVars():\n",
    "    print(v.varName, \"=\", round(v.x))"
   ]
  },
  {
   "cell_type": "code",
   "execution_count": null,
   "metadata": {},
   "outputs": [],
   "source": []
  }
 ],
 "metadata": {
  "colab": {
   "collapsed_sections": [],
   "name": "Quiz 2-Solution.ipynb",
   "provenance": []
  },
  "kernelspec": {
   "display_name": "Python 3",
   "language": "python",
   "name": "python3"
  },
  "language_info": {
   "codemirror_mode": {
    "name": "ipython",
    "version": 3
   },
   "file_extension": ".py",
   "mimetype": "text/x-python",
   "name": "python",
   "nbconvert_exporter": "python",
   "pygments_lexer": "ipython3",
   "version": "3.8.8"
  }
 },
 "nbformat": 4,
 "nbformat_minor": 4
}
