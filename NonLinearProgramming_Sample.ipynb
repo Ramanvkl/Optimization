{
 "cells": [
  {
   "cell_type": "code",
   "execution_count": 1,
   "id": "8808bdcc",
   "metadata": {},
   "outputs": [],
   "source": [
    "import gurobipy as gb\n",
    "from gurobipy import *\n",
    "import numpy as np"
   ]
  },
  {
   "cell_type": "markdown",
   "id": "6f3540d9",
   "metadata": {},
   "source": [
    "# Problem 1"
   ]
  },
  {
   "cell_type": "markdown",
   "id": "bb849477",
   "metadata": {},
   "source": [
    "In this problem, the aim is to find the optimal stock portfolio that minimizes the portfolio risk subject to non-negative return. \n",
    "\n",
    "To do so, Non-Linear Programming will be utilized. \n",
    "\n",
    "The performance of different stock options, including their average monthly return and average monthly risk, based on which the optimization will be done, are obtained from historical data."
   ]
  },
  {
   "cell_type": "code",
   "execution_count": 2,
   "id": "59e962f3",
   "metadata": {},
   "outputs": [
    {
     "name": "stdout",
     "output_type": "stream",
     "text": [
      "Set parameter Username\n",
      "Academic license - for non-commercial use only - expires 2023-09-10\n"
     ]
    }
   ],
   "source": [
    "prob1 = gb.Model(\"Portfolio - Minimize Risk\")"
   ]
  },
  {
   "cell_type": "code",
   "execution_count": 3,
   "id": "0ff0a5fa",
   "metadata": {},
   "outputs": [],
   "source": [
    "stocks = ['FTSE 100', 'DAX', 'DJIA', 'DJ Asian Titans 50', 'Russell 2000']\n",
    "S = len(stocks)\n",
    "average_monthly_return = [0.000694877, 0.006401712, 0.006930841, -0.000107527, 0.006875194]\n",
    "average_monthly_risk = [0.032548849, 0.052860756, 0.032889991, 0.045223062, 0.046334125]\n",
    "correlation_matrix = [[1, 0.755266863, 0.772833013, 0.687467487, 0.649829211], \n",
    "              [0.755266863, 1, 0.703816057, 0.668049744, 0.694259257], \n",
    "             [0.772833013, 0.703816057, 1, 0.721454487, 0.8484989], \n",
    "             [0.687467487, 0.668049744, 0.721454487, 1, 0.67030134],\n",
    "             [0.649829211, 0.694259257, 0.8484989, 0.67030134, 1]]"
   ]
  },
  {
   "cell_type": "code",
   "execution_count": 4,
   "id": "fcb045a9",
   "metadata": {},
   "outputs": [
    {
     "data": {
      "text/plain": [
       "{0: <gurobi.Var *Awaiting Model Update*>,\n",
       " 1: <gurobi.Var *Awaiting Model Update*>,\n",
       " 2: <gurobi.Var *Awaiting Model Update*>,\n",
       " 3: <gurobi.Var *Awaiting Model Update*>,\n",
       " 4: <gurobi.Var *Awaiting Model Update*>}"
      ]
     },
     "execution_count": 4,
     "metadata": {},
     "output_type": "execute_result"
    }
   ],
   "source": [
    "X = prob1.addVars(S, lb = 0, vtype = GRB.CONTINUOUS, name = [\"share of \"+i for i in stocks])\n",
    "X"
   ]
  },
  {
   "cell_type": "code",
   "execution_count": 5,
   "id": "8c1d5eba",
   "metadata": {},
   "outputs": [],
   "source": [
    "# Defining the objective function to minimize risk\n",
    "prob1.setObjective(sum(X[i]*average_monthly_risk[i]*X[j]*average_monthly_risk[j]*correlation_matrix[i][j] for i in range(S) for j in range(S)), GRB.MINIMIZE)"
   ]
  },
  {
   "cell_type": "code",
   "execution_count": 6,
   "id": "ce1285c1",
   "metadata": {},
   "outputs": [
    {
     "data": {
      "text/plain": [
       "<gurobi.Constr *Awaiting Model Update*>"
      ]
     },
     "execution_count": 6,
     "metadata": {},
     "output_type": "execute_result"
    }
   ],
   "source": [
    "# Defining the budget constraint\n",
    "prob1.addConstr(sum(X[i] for i in range(S)) == 1)"
   ]
  },
  {
   "cell_type": "code",
   "execution_count": 7,
   "id": "a7b0ffb2",
   "metadata": {},
   "outputs": [
    {
     "data": {
      "text/plain": [
       "<gurobi.Constr *Awaiting Model Update*>"
      ]
     },
     "execution_count": 7,
     "metadata": {},
     "output_type": "execute_result"
    }
   ],
   "source": [
    "# Defining non-negative overall return contraint\n",
    "prob1.addConstr(sum(X[i]*average_monthly_return[i] for i in range(S)) >= 0)"
   ]
  },
  {
   "cell_type": "code",
   "execution_count": 8,
   "id": "1cc4d23d",
   "metadata": {},
   "outputs": [
    {
     "name": "stdout",
     "output_type": "stream",
     "text": [
      "Gurobi Optimizer version 9.5.2 build v9.5.2rc0 (win64)\n",
      "Thread count: 8 physical cores, 16 logical processors, using up to 16 threads\n",
      "Optimize a model with 2 rows, 5 columns and 10 nonzeros\n",
      "Model fingerprint: 0x5763c502\n",
      "Model has 15 quadratic objective terms\n",
      "Coefficient statistics:\n",
      "  Matrix range     [1e-04, 1e+00]\n",
      "  Objective range  [0e+00, 0e+00]\n",
      "  QObjective range [2e-03, 7e-03]\n",
      "  Bounds range     [0e+00, 0e+00]\n",
      "  RHS range        [1e+00, 1e+00]\n",
      "Presolve time: 0.03s\n",
      "Presolved: 2 rows, 5 columns, 10 nonzeros\n",
      "Presolved model has 15 quadratic objective terms\n",
      "Ordering time: 0.00s\n",
      "\n",
      "Barrier statistics:\n",
      " Free vars  : 4\n",
      " AA' NZ     : 1.500e+01\n",
      " Factor NZ  : 2.100e+01\n",
      " Factor Ops : 9.100e+01 (less than 1 second per iteration)\n",
      " Threads    : 1\n",
      "\n",
      "                  Objective                Residual\n",
      "Iter       Primal          Dual         Primal    Dual     Compl     Time\n",
      "   0   2.47487651e+05 -2.47487651e+05  5.00e+03 1.07e-06  1.00e+06     0s\n",
      "   1   4.06845580e+03 -4.14932416e+03  3.51e+02 7.52e-08  7.07e+04     0s\n",
      "   2   5.08202234e-03 -8.99563328e+01  3.47e-01 7.44e-11  8.49e+01     0s\n",
      "   3   1.39851661e-03 -6.01185074e+01  3.47e-07 6.94e-17  1.00e+01     0s\n",
      "   4   1.39849313e-03 -5.96598896e-02  5.42e-12 6.94e-18  1.02e-02     0s\n",
      "   5   1.37760904e-03  6.01963454e-04  2.66e-14 6.94e-18  1.29e-04     0s\n",
      "   6   1.01095874e-03  7.79055153e-04  1.73e-17 4.77e-18  3.87e-05     0s\n",
      "   7   9.54064153e-04  9.47769080e-04  2.78e-17 3.47e-18  1.05e-06     0s\n",
      "   8   9.48737407e-04  9.48708580e-04  2.34e-16 4.77e-18  4.80e-09     0s\n",
      "   9   9.48709686e-04  9.48709657e-04  2.53e-16 1.73e-18  4.81e-12     0s\n",
      "\n",
      "Barrier solved model in 9 iterations and 0.07 seconds (0.00 work units)\n",
      "Optimal objective 9.48709686e-04\n",
      "\n"
     ]
    }
   ],
   "source": [
    "prob1.optimize()"
   ]
  },
  {
   "cell_type": "code",
   "execution_count": 10,
   "id": "98ebc466",
   "metadata": {},
   "outputs": [
    {
     "name": "stdout",
     "output_type": "stream",
     "text": [
      "0.030801131246480293\n",
      "share of FTSE 100 = 0.5229435905708266\n",
      "share of DAX = 4.019429819458159e-09\n",
      "share of DJIA = 0.477056278332486\n",
      "share of DJ Asian Titans 50 = 1.1694744401191377e-07\n",
      "share of Russell 2000 = 1.0129816815051385e-08\n"
     ]
    }
   ],
   "source": [
    "print(np.sqrt(prob1.ObjVal))\n",
    "for v in prob1.getVars():\n",
    "    print(v.varName, \"=\", v.x)"
   ]
  },
  {
   "cell_type": "markdown",
   "id": "7d3f0ddf",
   "metadata": {},
   "source": [
    "According to the results, 52 percent of the available funds should be invested in FTSE 100 and the remaining 48 percent should be invested in DJIA to minimize the risk of the portfolio according to the historical performance of the studies stocks."
   ]
  },
  {
   "cell_type": "markdown",
   "id": "408671a9",
   "metadata": {},
   "source": [
    "# Problem 1b"
   ]
  },
  {
   "cell_type": "markdown",
   "id": "c9638e62",
   "metadata": {},
   "source": [
    "Now we assume there is already an existing portfolio and try to optimize it. Currently, 20 percent of the available funds is invested in each of the 5 stock options. Changing the allocation requires incurring transaction costs.\n",
    "\n",
    "Similar to the previous case, the aim is to minimize the risk of the portfolio.\n",
    "\n",
    "Contrary to the previous case, we are not starting to invest in this example. Rather, we want to improve the performance of an existing portfolio by minimizing its risk.\n",
    "\n",
    "Again, Non-Linear Programming will be used to solve the problem. "
   ]
  },
  {
   "cell_type": "code",
   "execution_count": 11,
   "id": "e1aab16f",
   "metadata": {},
   "outputs": [],
   "source": [
    "prob1b = gb.Model(\"Portfolio - Minimize Risk - Initial Allocation\")"
   ]
  },
  {
   "cell_type": "code",
   "execution_count": 12,
   "id": "053dc251",
   "metadata": {},
   "outputs": [],
   "source": [
    "stocks = ['FTSE 100', 'DAX', 'DJIA', 'DJ Asian Titans 50', 'Russell 2000']\n",
    "S = len(stocks)\n",
    "average_monthly_return = [0.000694877, 0.006401712, 0.006930841, -0.000107527, 0.006875194]\n",
    "average_monthly_risk = [0.032548849, 0.052860756, 0.032889991, 0.045223062, 0.046334125]\n",
    "correlation_matrix = [[1, 0.755266863, 0.772833013, 0.687467487, 0.649829211], \n",
    "              [0.755266863, 1, 0.703816057, 0.668049744, 0.694259257], \n",
    "             [0.772833013, 0.703816057, 1, 0.721454487, 0.8484989], \n",
    "             [0.687467487, 0.668049744, 0.721454487, 1, 0.67030134],\n",
    "             [0.649829211, 0.694259257, 0.8484989, 0.67030134, 1]]\n",
    "initial_allocation = [0.2, 0.2, 0.2, 0.2, 0.2]"
   ]
  },
  {
   "cell_type": "code",
   "execution_count": 13,
   "id": "b2f8a061",
   "metadata": {},
   "outputs": [
    {
     "data": {
      "text/plain": [
       "{0: <gurobi.Var *Awaiting Model Update*>,\n",
       " 1: <gurobi.Var *Awaiting Model Update*>,\n",
       " 2: <gurobi.Var *Awaiting Model Update*>,\n",
       " 3: <gurobi.Var *Awaiting Model Update*>,\n",
       " 4: <gurobi.Var *Awaiting Model Update*>}"
      ]
     },
     "execution_count": 13,
     "metadata": {},
     "output_type": "execute_result"
    }
   ],
   "source": [
    "X = prob1b.addVars(S, lb = 0, vtype = GRB.CONTINUOUS, name = [\"share of \"+i for i in stocks])\n",
    "X"
   ]
  },
  {
   "cell_type": "code",
   "execution_count": 14,
   "id": "0872e410",
   "metadata": {},
   "outputs": [],
   "source": [
    "# Defining the objective function to minimize risk\n",
    "prob1b.setObjective(sum(X[i]*average_monthly_risk[i]*X[j]*average_monthly_risk[j]*correlation_matrix[i][j] for i in range(S) for j in range(S)), GRB.MINIMIZE)"
   ]
  },
  {
   "cell_type": "code",
   "execution_count": 15,
   "id": "6281e947",
   "metadata": {},
   "outputs": [
    {
     "data": {
      "text/plain": [
       "<gurobi.Constr *Awaiting Model Update*>"
      ]
     },
     "execution_count": 15,
     "metadata": {},
     "output_type": "execute_result"
    }
   ],
   "source": [
    "# Defining the budget constraint\n",
    "prob1b.addConstr(sum(X[i] for i in range(S)) == 1)"
   ]
  },
  {
   "cell_type": "code",
   "execution_count": 16,
   "id": "0ea25d87",
   "metadata": {},
   "outputs": [
    {
     "data": {
      "text/plain": [
       "{0: <gurobi.Var *Awaiting Model Update*>,\n",
       " 1: <gurobi.Var *Awaiting Model Update*>,\n",
       " 2: <gurobi.Var *Awaiting Model Update*>,\n",
       " 3: <gurobi.Var *Awaiting Model Update*>,\n",
       " 4: <gurobi.Var *Awaiting Model Update*>}"
      ]
     },
     "execution_count": 16,
     "metadata": {},
     "output_type": "execute_result"
    }
   ],
   "source": [
    "# Defining new variables to model absolute function in the upcoming return constraint\n",
    "D = prob1b.addVars(S, vtype = GRB.CONTINUOUS, name = [\"change in share of \"+i for i in stocks])\n",
    "D"
   ]
  },
  {
   "cell_type": "markdown",
   "id": "fdc9c0f8",
   "metadata": {},
   "source": [
    "In this problem, we should also consider the transaction cost since we have an initial allocation \n",
    "\n",
    "Therefore, we would subtract the transaction cost from the overall return"
   ]
  },
  {
   "cell_type": "code",
   "execution_count": 17,
   "id": "ad9008c7",
   "metadata": {},
   "outputs": [
    {
     "data": {
      "text/plain": [
       "<gurobi.Constr *Awaiting Model Update*>"
      ]
     },
     "execution_count": 17,
     "metadata": {},
     "output_type": "execute_result"
    }
   ],
   "source": [
    "# Defining non-negative overall return contraint \n",
    "\n",
    "prob1b.addConstr(sum(X[i]*average_monthly_return[i] for i in range(S)) - sum(D[i] for i in range(S)) >= 0)"
   ]
  },
  {
   "cell_type": "code",
   "execution_count": 18,
   "id": "600ba54f",
   "metadata": {},
   "outputs": [],
   "source": [
    "for i in range(S):\n",
    "    prob1b.addConstr(np.power((X[i] - initial_allocation[i]), 2) == D[i])"
   ]
  },
  {
   "cell_type": "code",
   "execution_count": 19,
   "id": "34c8580b",
   "metadata": {},
   "outputs": [
    {
     "name": "stdout",
     "output_type": "stream",
     "text": [
      "Set parameter NonConvex to value 2\n"
     ]
    }
   ],
   "source": [
    "# setting non-convex parameter\n",
    "prob1b.params.NonConvex = 2"
   ]
  },
  {
   "cell_type": "code",
   "execution_count": 20,
   "id": "b936046b",
   "metadata": {},
   "outputs": [
    {
     "name": "stdout",
     "output_type": "stream",
     "text": [
      "Gurobi Optimizer version 9.5.2 build v9.5.2rc0 (win64)\n",
      "Thread count: 8 physical cores, 16 logical processors, using up to 16 threads\n",
      "Optimize a model with 2 rows, 10 columns and 15 nonzeros\n",
      "Model fingerprint: 0xc16ecc77\n",
      "Model has 15 quadratic objective terms\n",
      "Model has 5 quadratic constraints\n",
      "Coefficient statistics:\n",
      "  Matrix range     [1e-04, 1e+00]\n",
      "  QMatrix range    [1e+00, 1e+00]\n",
      "  QLMatrix range   [4e-01, 1e+00]\n",
      "  Objective range  [0e+00, 0e+00]\n",
      "  QObjective range [2e-03, 7e-03]\n",
      "  Bounds range     [0e+00, 0e+00]\n",
      "  RHS range        [1e+00, 1e+00]\n",
      "  QRHS range       [4e-02, 4e-02]\n",
      "\n",
      "Continuous model is non-convex -- solving as a MIP\n",
      "\n",
      "Presolve time: 0.01s\n",
      "Presolved: 17 rows, 10 columns, 40 nonzeros\n",
      "Presolved model has 15 quadratic objective terms\n",
      "Presolved model has 5 bilinear constraint(s)\n",
      "Variable types: 10 continuous, 0 integer (0 binary)\n",
      "\n",
      "Root relaxation: objective 1.260001e-03, 27 iterations, 0.00 seconds (0.00 work units)\n",
      "\n",
      "    Nodes    |    Current Node    |     Objective Bounds      |     Work\n",
      " Expl Unexpl |  Obj  Depth IntInf | Incumbent    BestBd   Gap | It/Node Time\n",
      "\n",
      "     0     0    0.00126    0    5          -    0.00126      -     -    0s\n",
      "H    0     0                       0.0012878    0.00126  2.16%     -    0s\n",
      "     0     0    0.00127    0    5    0.00129    0.00127  1.68%     -    0s\n",
      "     0     2    0.00127    0    5    0.00129    0.00127  1.68%     -    0s\n",
      "*  163    21              15       0.0012878    0.00128  0.80%   3.3    0s\n",
      "*  190    15              16       0.0012878    0.00128  0.80%   3.2    0s\n",
      "*  258     5              19       0.0012878    0.00129  0.18%   3.2    0s\n",
      "\n",
      "Explored 275 nodes (913 simplex iterations) in 0.09 seconds (0.00 work units)\n",
      "Thread count was 16 (of 16 available processors)\n",
      "\n",
      "Solution count 4: 0.0012878 0.0012878 0.0012878 0.00128781 \n",
      "\n",
      "Optimal solution found (tolerance 1.00e-04)\n",
      "Best objective 1.287798495432e-03, best bound 1.287798495432e-03, gap 0.0000%\n"
     ]
    }
   ],
   "source": [
    "prob1b.optimize()"
   ]
  },
  {
   "cell_type": "code",
   "execution_count": 21,
   "id": "36133991",
   "metadata": {},
   "outputs": [
    {
     "name": "stdout",
     "output_type": "stream",
     "text": [
      "0.03588590942740207\n",
      "share of FTSE 100 = 0.23520946331820236\n",
      "share of DAX = 0.1608507656394297\n",
      "share of DJIA = 0.2301438086960881\n",
      "share of DJ Asian Titans 50 = 0.18945448905852297\n",
      "share of Russell 2000 = 0.18434147328775682\n",
      "change in share of FTSE 100 = 0.0012392801663399025\n",
      "change in share of DAX = 0.001532052959102746\n",
      "change in share of DJIA = 0.0009081677204066853\n",
      "change in share of DJ Asian Titans 50 = 0.00011119001710135044\n",
      "change in share of Russell 2000 = 0.00024457312335575843\n"
     ]
    }
   ],
   "source": [
    "print(np.sqrt(prob1b.ObjVal))\n",
    "for v in prob1b.getVars():\n",
    "    print(v.varName, \"=\", v.x)"
   ]
  },
  {
   "cell_type": "markdown",
   "id": "a955b73f",
   "metadata": {},
   "source": [
    "According to the results, the optimal allocation would be as follows:\n",
    "\n",
    "FTSE 100 = 0.235 (+0.035)\n",
    "\n",
    "DAX = 0.161 (-0.039)\n",
    "\n",
    "DJIA = 0.23 (+0.03)\n",
    "\n",
    "DJ Asian Titans 50 = 0.189 (-0.011)\n",
    "\n",
    "DJ Asian Titans 50 = 0.185 (-0.015)"
   ]
  },
  {
   "cell_type": "markdown",
   "id": "09c4135a",
   "metadata": {},
   "source": [
    "# Problem 2"
   ]
  },
  {
   "cell_type": "markdown",
   "id": "838d04da",
   "metadata": {},
   "source": [
    "Now, we want to optimize resource allocation for an R&D department. There are 6 projects available but only 25 employees to work on them. \n",
    "\n",
    "Each project requires an initial investment.\n",
    "\n",
    "The probability of success for each project is a non-linear function of the number of individuals working on the project.\n",
    "\n",
    "The expected profit of each project in case of success in also known. \n",
    "\n",
    "Engineers can also work on multiple projects meaning that, for example, it is possible for an employee to dedicate 20 percent of his/her time to one project and 80 percent of it on another one. \n",
    "\n",
    "Also, it is worth mentioning that the company does not necessarily have to assign all employees to a project.\n",
    "\n",
    "Non-Linear Programming is utilized to find the optimal allocation of employees to maximize the total profit."
   ]
  },
  {
   "cell_type": "code",
   "execution_count": 2,
   "id": "8fd95085",
   "metadata": {},
   "outputs": [
    {
     "name": "stdout",
     "output_type": "stream",
     "text": [
      "Set parameter Username\n",
      "Academic license - for non-commercial use only - expires 2023-09-10\n"
     ]
    }
   ],
   "source": [
    "prob2 = gb.Model(\"Allocation - Maximize Profit\")"
   ]
  },
  {
   "cell_type": "code",
   "execution_count": 3,
   "id": "3d0b7257",
   "metadata": {},
   "outputs": [],
   "source": [
    "cost = [325000, 200000, 490000, 125000, 710000, 240000]\n",
    "profit = [1750000, 700000, 1300000, 800000, 1450000, 1300000]\n",
    "constant = [1.1, 0.5, 2.5, 1.6, 2.2, 2.4]\n",
    "N = len(profit)"
   ]
  },
  {
   "cell_type": "code",
   "execution_count": 4,
   "id": "5f01c1fe",
   "metadata": {},
   "outputs": [
    {
     "data": {
      "text/plain": [
       "{0: <gurobi.Var *Awaiting Model Update*>,\n",
       " 1: <gurobi.Var *Awaiting Model Update*>,\n",
       " 2: <gurobi.Var *Awaiting Model Update*>,\n",
       " 3: <gurobi.Var *Awaiting Model Update*>,\n",
       " 4: <gurobi.Var *Awaiting Model Update*>,\n",
       " 5: <gurobi.Var *Awaiting Model Update*>}"
      ]
     },
     "execution_count": 4,
     "metadata": {},
     "output_type": "execute_result"
    }
   ],
   "source": [
    "X = prob2.addVars(N, lb = 0, vtype = GRB.CONTINUOUS, name = [\"Engineers for project \"+str(i) for i in range(N)])\n",
    "X"
   ]
  },
  {
   "cell_type": "code",
   "execution_count": 5,
   "id": "dae02b05",
   "metadata": {},
   "outputs": [
    {
     "data": {
      "text/plain": [
       "{0: <gurobi.Var *Awaiting Model Update*>,\n",
       " 1: <gurobi.Var *Awaiting Model Update*>,\n",
       " 2: <gurobi.Var *Awaiting Model Update*>,\n",
       " 3: <gurobi.Var *Awaiting Model Update*>,\n",
       " 4: <gurobi.Var *Awaiting Model Update*>,\n",
       " 5: <gurobi.Var *Awaiting Model Update*>}"
      ]
     },
     "execution_count": 5,
     "metadata": {},
     "output_type": "execute_result"
    }
   ],
   "source": [
    "# Add new variables to linearize the objective function / model variables in denominators in a different way\n",
    "Z = prob2.addVars(N, vtype = GRB.CONTINUOUS, name = [\"Denominator \"+str(i) for i in range(N)])\n",
    "Z"
   ]
  },
  {
   "cell_type": "markdown",
   "id": "71dc4112",
   "metadata": {},
   "source": [
    "The objective funtion would be the profit for each project multiplied by its success probability subracted by the cost for each project multiplied by its failure probability and the total cost of engineers."
   ]
  },
  {
   "cell_type": "code",
   "execution_count": 6,
   "id": "5af42fec",
   "metadata": {},
   "outputs": [],
   "source": [
    "# Defining the objective function to maximize profit\n",
    "\n",
    "prob2.setObjective(sum(X[i]*Z[i]*profit[i] for i in range(N)) - sum(constant[i]*Z[i]*cost[i] for i in range(N)) - 150000*sum(X[i] for i in range(N)), GRB.MAXIMIZE)"
   ]
  },
  {
   "cell_type": "code",
   "execution_count": 7,
   "id": "16f0c85c",
   "metadata": {},
   "outputs": [],
   "source": [
    "for i in range(N):\n",
    "    prob2.addConstr(Z[i] * (X[i] + constant[i]) == 1)"
   ]
  },
  {
   "cell_type": "code",
   "execution_count": 8,
   "id": "be3e3bb6",
   "metadata": {},
   "outputs": [
    {
     "name": "stdout",
     "output_type": "stream",
     "text": [
      "Set parameter NonConvex to value 2\n"
     ]
    }
   ],
   "source": [
    "# setting non-convex parameter\n",
    "prob2.params.NonConvex = 2"
   ]
  },
  {
   "cell_type": "code",
   "execution_count": 9,
   "id": "fd348b65",
   "metadata": {},
   "outputs": [
    {
     "data": {
      "text/plain": [
       "<gurobi.Constr *Awaiting Model Update*>"
      ]
     },
     "execution_count": 9,
     "metadata": {},
     "output_type": "execute_result"
    }
   ],
   "source": [
    "# Defining the constraint for maximum number of engineers\n",
    "prob2.addConstr(sum(X[i] for i in range(N)) <= 25)"
   ]
  },
  {
   "cell_type": "code",
   "execution_count": 10,
   "id": "ef2c0bde",
   "metadata": {},
   "outputs": [
    {
     "name": "stdout",
     "output_type": "stream",
     "text": [
      "Gurobi Optimizer version 9.5.2 build v9.5.2rc0 (win64)\n",
      "Thread count: 8 physical cores, 16 logical processors, using up to 16 threads\n",
      "Optimize a model with 1 rows, 12 columns and 6 nonzeros\n",
      "Model fingerprint: 0xb53beea4\n",
      "Model has 6 quadratic objective terms\n",
      "Model has 6 quadratic constraints\n",
      "Coefficient statistics:\n",
      "  Matrix range     [1e+00, 1e+00]\n",
      "  QMatrix range    [1e+00, 1e+00]\n",
      "  QLMatrix range   [5e-01, 3e+00]\n",
      "  Objective range  [1e+05, 2e+06]\n",
      "  QObjective range [1e+06, 4e+06]\n",
      "  Bounds range     [0e+00, 0e+00]\n",
      "  RHS range        [3e+01, 3e+01]\n",
      "  QRHS range       [1e+00, 1e+00]\n",
      "\n",
      "Continuous model is non-convex -- solving as a MIP\n",
      "\n",
      "Presolve time: 0.01s\n",
      "Presolved: 34 rows, 17 columns, 79 nonzeros\n",
      "Presolved model has 10 bilinear constraint(s)\n",
      "Variable types: 17 continuous, 0 integer (0 binary)\n",
      "\n",
      "Root relaxation: objective 2.351842e+07, 24 iterations, 0.01 seconds (0.00 work units)\n",
      "\n",
      "    Nodes    |    Current Node    |     Objective Bounds      |     Work\n",
      " Expl Unexpl |  Obj  Depth IntInf | Incumbent    BestBd   Gap | It/Node Time\n",
      "\n",
      "     0     0 2.3518e+07    0    9          - 2.3518e+07      -     -    0s\n",
      "H    0     0                    1396483.3845 2.3518e+07  1584%     -    0s\n",
      "     0     0 9218002.75    0   10 1396483.38 9218002.75   560%     -    0s\n",
      "     0     0 4100453.71    0   10 1396483.38 4100453.71   194%     -    0s\n",
      "     0     0 3875652.78    0   10 1396483.38 3875652.78   178%     -    0s\n",
      "     0     0 3482763.86    0   10 1396483.38 3482763.86   149%     -    0s\n",
      "     0     0 3437828.73    0   10 1396483.38 3437828.73   146%     -    0s\n",
      "     0     0 3437828.73    0   10 1396483.38 3437828.73   146%     -    0s\n",
      "     0     2 3437828.73    0   10 1396483.38 3437828.73   146%     -    0s\n",
      "H91529 30527                    1396483.4231 1820554.63  30.4%   0.9    3s\n",
      "H94068 30527                    1396483.4864 1820551.33  30.4%   0.9    3s\n",
      " 162327 46839 1672352.46   45    2 1396483.49 1811558.13  29.7%   0.9    5s\n",
      " 358325 52972 1397944.59   59    1 1396483.49 1655810.38  18.6%   1.1   10s\n",
      "*500266 50619              86    1396483.7345 1548570.01  10.9%   1.1   14s\n",
      " 513902 47496     cutoff   39      1396483.73 1541905.54  10.4%   1.1   15s\n",
      "*551790 45900              80    1396483.7590 1455504.65  4.23%   1.1   17s\n",
      "H553914 46276                    1396483.8675 1454696.91  4.17%   1.1   17s\n",
      "*553969 46276             130    1396483.8676 1454696.91  4.17%   1.1   17s\n",
      " 590230 43966     cutoff   53      1396483.87 1437184.52  2.91%   1.1   20s\n",
      "*605169 43962              84    1396483.8713 1435206.12  2.77%   1.1   20s\n",
      " 678255 45613     cutoff   71      1396483.87 1427920.62  2.25%   1.1   25s\n",
      "H686656 46224                    1396483.8747 1425726.69  2.09%   1.1   25s\n",
      "*708581 43037              92    1396483.9039 1405474.61  0.64%   1.1   26s\n",
      "*708728 43037              92    1396483.9103 1405474.02  0.64%   1.1   26s\n",
      "*709905 43037              95    1396483.9143 1405397.70  0.64%   1.1   26s\n",
      "*754919 42392              85    1396483.9221 1402705.68  0.45%   1.1   28s\n",
      " 779311 41436     cutoff   73      1396483.92 1401562.42  0.36%   1.1   30s\n",
      "*847641 39403             113    1396483.9231 1399408.66  0.21%   1.1   33s\n",
      "H847818 39403                    1396483.9248 1399408.66  0.21%   1.1   33s\n",
      "*849445 39403             117    1396483.9274 1399405.25  0.21%   1.1   33s\n",
      "*851578 39970             105    1396483.9297 1399358.97  0.21%   1.1   33s\n",
      "*851992 39963             139    1396483.9305 1399358.97  0.21%   1.1   33s\n",
      " 881111 39858     cutoff   77      1396483.93 1399252.50  0.20%   1.1   35s\n",
      " 991738 34985     cutoff   80      1396483.93 1397498.13  0.07%   1.1   40s\n",
      " 1088194 24910 1396520.40   80    2 1396483.93 1396964.84  0.03%   1.1   45s\n",
      "*1092089 25328             103    1396483.9306 1396904.43  0.03%   1.1   45s\n",
      "*1092463 25322             138    1396483.9310 1396903.03  0.03%   1.1   45s\n",
      "*1092860 25318             101    1396483.9329 1396902.61  0.03%   1.1   45s\n",
      "*1138816 23417              92    1396483.9395 1396701.14  0.02%   1.1   47s\n",
      "*1154212 22832              93    1396483.9455 1396687.74  0.01%   1.1   48s\n",
      "*1156233 22832              94    1396483.9471 1396686.24  0.01%   1.1   48s\n",
      "\n",
      "Cutting planes:\n",
      "  RLT: 324\n",
      "  BQP: 4\n",
      "\n",
      "Explored 1166114 nodes (1226989 simplex iterations) in 48.82 seconds (6.81 work units)\n",
      "Thread count was 16 (of 16 available processors)\n",
      "\n",
      "Solution count 10: 1.39648e+06 1.39648e+06 1.39648e+06 ... 1.39648e+06\n",
      "\n",
      "Optimal solution found (tolerance 1.00e-04)\n",
      "Best objective 1.396482832188e+06, best bound 1.396601644776e+06, gap 0.0085%\n"
     ]
    }
   ],
   "source": [
    "prob2.optimize()"
   ]
  },
  {
   "cell_type": "code",
   "execution_count": 11,
   "id": "c1711c3e",
   "metadata": {},
   "outputs": [
    {
     "name": "stdout",
     "output_type": "stream",
     "text": [
      "Engineers for project 0 = 2.8008151444040212\n",
      "Engineers for project 1 = 1.2321728299220254\n",
      "Engineers for project 2 = 2.9626273455106036\n",
      "Engineers for project 3 = 1.5412394702310088\n",
      "Engineers for project 4 = 3.4284538698771407\n",
      "Engineers for project 5 = 2.5635513065961684\n",
      "Denominator 0 = 0.2563566749464061\n",
      "Denominator 1 = 0.5773093033778878\n",
      "Denominator 2 = 0.18306209388817976\n",
      "Denominator 3 = 0.3183453736139061\n",
      "Denominator 4 = 0.17766868541854605\n",
      "Denominator 5 = 0.20146865383885107\n"
     ]
    }
   ],
   "source": [
    "for v in prob2.getVars():\n",
    "    print(v.varName, \"=\", v.x)"
   ]
  },
  {
   "cell_type": "markdown",
   "id": "ffedc058",
   "metadata": {},
   "source": [
    "According to the results, the optimal allocation would be as follows:\n",
    "\n",
    "Number of employees working on project 0 = 2.80\n",
    "\n",
    "Number of employees working on project 1 = 1.23\n",
    "\n",
    "Number of employees working on project 2 = 2.96\n",
    "\n",
    "Number of employees working on project 3 = 1.54\n",
    "\n",
    "Number of employees working on project 4 = 3.43\n",
    "\n",
    "Number of employees working on project 5 = 2.56"
   ]
  },
  {
   "cell_type": "markdown",
   "id": "d45023ac",
   "metadata": {},
   "source": [
    "It is worth mentioning that, for example, 2.56 employees working on project 5 means that the amount of effort put on the project is equal to the amount of work that 2.56 full time employees do with any combination. "
   ]
  },
  {
   "cell_type": "markdown",
   "id": "1b46bbcb",
   "metadata": {},
   "source": [
    "# Problem 2b"
   ]
  },
  {
   "cell_type": "markdown",
   "id": "f6fe1670",
   "metadata": {},
   "source": [
    "Now, due to a change in business requirements, we optimize the allocation to minimize the standard deviation of the contribution to profit subject to the constraint that the expected contribution to profit (minus the cost of employees) is at least $1.1 million.\n",
    "\n",
    "The rest is similar to Problem 2."
   ]
  },
  {
   "cell_type": "code",
   "execution_count": 2,
   "id": "3fffe7cd",
   "metadata": {},
   "outputs": [
    {
     "name": "stdout",
     "output_type": "stream",
     "text": [
      "Set parameter Username\n",
      "Academic license - for non-commercial use only - expires 2023-09-10\n"
     ]
    }
   ],
   "source": [
    "prob2b = gb.Model(\"Allocation - Minimize SD\")"
   ]
  },
  {
   "cell_type": "code",
   "execution_count": 3,
   "id": "327f1e46",
   "metadata": {},
   "outputs": [],
   "source": [
    "cost = [325, 200, 490, 125, 710, 240]\n",
    "profit = [1750, 700, 1300, 800, 1450, 1300]\n",
    "constant = [1.1, 0.5, 2.5, 1.6, 2.2, 2.4]\n",
    "N = len(profit)"
   ]
  },
  {
   "cell_type": "code",
   "execution_count": 4,
   "id": "433bb668",
   "metadata": {},
   "outputs": [
    {
     "data": {
      "text/plain": [
       "{0: <gurobi.Var *Awaiting Model Update*>,\n",
       " 1: <gurobi.Var *Awaiting Model Update*>,\n",
       " 2: <gurobi.Var *Awaiting Model Update*>,\n",
       " 3: <gurobi.Var *Awaiting Model Update*>,\n",
       " 4: <gurobi.Var *Awaiting Model Update*>,\n",
       " 5: <gurobi.Var *Awaiting Model Update*>}"
      ]
     },
     "execution_count": 4,
     "metadata": {},
     "output_type": "execute_result"
    }
   ],
   "source": [
    "X = prob2b.addVars(N, lb = 0, vtype = GRB.CONTINUOUS, name = [\"Engineers for project \"+str(i) for i in range(N)])\n",
    "X"
   ]
  },
  {
   "cell_type": "code",
   "execution_count": 5,
   "id": "01a2bcc7",
   "metadata": {},
   "outputs": [
    {
     "data": {
      "text/plain": [
       "{0: <gurobi.Var *Awaiting Model Update*>,\n",
       " 1: <gurobi.Var *Awaiting Model Update*>,\n",
       " 2: <gurobi.Var *Awaiting Model Update*>,\n",
       " 3: <gurobi.Var *Awaiting Model Update*>,\n",
       " 4: <gurobi.Var *Awaiting Model Update*>,\n",
       " 5: <gurobi.Var *Awaiting Model Update*>}"
      ]
     },
     "execution_count": 5,
     "metadata": {},
     "output_type": "execute_result"
    }
   ],
   "source": [
    "S = prob2b.addVars(N, vtype = GRB.CONTINUOUS, name = [\"Success Probability \"+str(i) for i in range(N)])\n",
    "S"
   ]
  },
  {
   "cell_type": "code",
   "execution_count": 6,
   "id": "01d62c5f",
   "metadata": {},
   "outputs": [],
   "source": [
    "# Defining the objective function to minimize the standard deviation\n",
    "prob2b.setObjective(sum(S[i]*(1 - S[i])*np.power((profit[i] + cost[i]), 2) for i in range(N)), GRB.MINIMIZE)"
   ]
  },
  {
   "cell_type": "code",
   "execution_count": 7,
   "id": "796b8f16",
   "metadata": {},
   "outputs": [],
   "source": [
    "for i in range(N):\n",
    "    prob2b.addConstr(S[i] * (X[i] + constant[i]) == X[i])"
   ]
  },
  {
   "cell_type": "code",
   "execution_count": 8,
   "id": "9ed0cf60",
   "metadata": {},
   "outputs": [
    {
     "data": {
      "text/plain": [
       "<gurobi.Constr *Awaiting Model Update*>"
      ]
     },
     "execution_count": 8,
     "metadata": {},
     "output_type": "execute_result"
    }
   ],
   "source": [
    "# Defining the minimum return constraint\n",
    "# Return should be more than $1.1 million\n",
    "# Return consists of the outcome of the project (success + and failure -) subtracted by the cost of engineers\n",
    "prob2b.addConstr(sum(S[i]*profit[i] for i in range(N)) - sum((1 - S[i])*cost[i] for i in range(N)) - 150*sum(X[i] for i in range(N)) >= 1100)"
   ]
  },
  {
   "cell_type": "code",
   "execution_count": 9,
   "id": "49e9a5cc",
   "metadata": {},
   "outputs": [
    {
     "data": {
      "text/plain": [
       "<gurobi.Constr *Awaiting Model Update*>"
      ]
     },
     "execution_count": 9,
     "metadata": {},
     "output_type": "execute_result"
    }
   ],
   "source": [
    "# Defining the constraint for maximum number of engineers \n",
    "prob2b.addConstr(sum(X[i] for i in range(N)) <= 25)"
   ]
  },
  {
   "cell_type": "code",
   "execution_count": 10,
   "id": "0552d8ec",
   "metadata": {},
   "outputs": [
    {
     "name": "stdout",
     "output_type": "stream",
     "text": [
      "Set parameter NonConvex to value 2\n"
     ]
    }
   ],
   "source": [
    "# Setting non-convex parameter \n",
    "prob2b.params.NonConvex = 2"
   ]
  },
  {
   "cell_type": "code",
   "execution_count": 11,
   "id": "4f205bae",
   "metadata": {},
   "outputs": [
    {
     "name": "stdout",
     "output_type": "stream",
     "text": [
      "Gurobi Optimizer version 9.5.2 build v9.5.2rc0 (win64)\n",
      "Thread count: 8 physical cores, 16 logical processors, using up to 16 threads\n",
      "Optimize a model with 2 rows, 12 columns and 18 nonzeros\n",
      "Model fingerprint: 0x1bfab73e\n",
      "Model has 6 quadratic objective terms\n",
      "Model has 6 quadratic constraints\n",
      "Coefficient statistics:\n",
      "  Matrix range     [1e+00, 2e+03]\n",
      "  QMatrix range    [1e+00, 1e+00]\n",
      "  QLMatrix range   [5e-01, 3e+00]\n",
      "  Objective range  [8e+05, 5e+06]\n",
      "  QObjective range [2e+06, 9e+06]\n",
      "  Bounds range     [0e+00, 0e+00]\n",
      "  RHS range        [3e+01, 3e+03]\n",
      "\n",
      "Continuous model is non-convex -- solving as a MIP\n",
      "\n",
      "Presolve time: 0.00s\n",
      "Presolved: 33 rows, 19 columns, 85 nonzeros\n",
      "Presolved model has 12 bilinear constraint(s)\n",
      "Variable types: 19 continuous, 0 integer (0 binary)\n",
      "\n",
      "Root relaxation: objective -1.964960e+09, 18 iterations, 0.00 seconds (0.00 work units)\n",
      "\n",
      "    Nodes    |    Current Node    |     Objective Bounds      |     Work\n",
      " Expl Unexpl |  Obj  Depth IntInf | Incumbent    BestBd   Gap | It/Node Time\n",
      "\n",
      "     0     0 -1.965e+09    0    6          - -1.965e+09      -     -    0s\n",
      "     0     0 -2.322e+08    0    6          - -2.322e+08      -     -    0s\n",
      "     0     0 -6.632e+07    0    5          - -6.632e+07      -     -    0s\n",
      "     0     0 -6.201e+07    0    5          - -6.201e+07      -     -    0s\n",
      "     0     0 -6.200e+07    0    5          - -6.200e+07      -     -    0s\n",
      "     0     0 -6.099e+07    0    3          - -6.099e+07      -     -    0s\n",
      "     0     2 -6.099e+07    0    3          - -6.099e+07      -     -    0s\n",
      "H 1660   755                    3241282.1730 -217129.96   107%   2.2    0s\n",
      "\n",
      "Cutting planes:\n",
      "  RLT: 40\n",
      "\n",
      "Explored 73970 nodes (146445 simplex iterations) in 0.83 seconds (0.32 work units)\n",
      "Thread count was 16 (of 16 available processors)\n",
      "\n",
      "Solution count 1: 3.24128e+06 \n",
      "\n",
      "Optimal solution found (tolerance 1.00e-04)\n",
      "Best objective 3.241282173044e+06, best bound 3.241182032250e+06, gap 0.0031%\n"
     ]
    }
   ],
   "source": [
    "prob2b.optimize()"
   ]
  },
  {
   "cell_type": "code",
   "execution_count": 12,
   "id": "9827f296",
   "metadata": {},
   "outputs": [
    {
     "name": "stdout",
     "output_type": "stream",
     "text": [
      "Engineers for project 0 = 5.051188581982795\n",
      "Engineers for project 1 = 1.6467656216754682\n",
      "Engineers for project 2 = 4.208168532917417\n",
      "Engineers for project 3 = 1.4739860340122422\n",
      "Engineers for project 4 = 5.9830772013212075\n",
      "Engineers for project 5 = 3.046289721024369\n",
      "Success Probability 0 = 0.8211727724911626\n",
      "Success Probability 1 = 0.7670914817381093\n",
      "Success Probability 2 = 0.6273200370962152\n",
      "Success Probability 3 = 0.4795031655001891\n",
      "Success Probability 4 = 0.7311524814106853\n",
      "Success Probability 5 = 0.5593330279997307\n"
     ]
    }
   ],
   "source": [
    "for v in prob2b.getVars():\n",
    "    print(v.varName, \"=\", v.x)"
   ]
  },
  {
   "cell_type": "markdown",
   "id": "af157a10",
   "metadata": {},
   "source": [
    "According to the results, the optimal allocation would be as follows:\n",
    "\n",
    "Number of employees working on project 0 = 5.05\n",
    "\n",
    "Number of employees working on project 1 = 1.65\n",
    "\n",
    "Number of employees working on project 2 = 4.21\n",
    "\n",
    "Number of employees working on project 3 = 1.47\n",
    "\n",
    "Number of employees working on project 4 = 5.98\n",
    "\n",
    "Number of employees working on project 5 = 3.05"
   ]
  },
  {
   "cell_type": "markdown",
   "id": "f8748bd1",
   "metadata": {},
   "source": [
    "Similar to the previous problem (Problem 2), for example, 3.05 employees working on project 5 means that the effort put on project 5 is equal to the work of 5.05 full time employees. "
   ]
  },
  {
   "cell_type": "markdown",
   "id": "fd510049",
   "metadata": {},
   "source": [
    "It can be seen that utilization ratio in this case is higher than the previous example (85.6% vs 58.1%)"
   ]
  },
  {
   "cell_type": "code",
   "execution_count": null,
   "id": "60b602c1",
   "metadata": {},
   "outputs": [],
   "source": []
  }
 ],
 "metadata": {
  "kernelspec": {
   "display_name": "Python 3",
   "language": "python",
   "name": "python3"
  },
  "language_info": {
   "codemirror_mode": {
    "name": "ipython",
    "version": 3
   },
   "file_extension": ".py",
   "mimetype": "text/x-python",
   "name": "python",
   "nbconvert_exporter": "python",
   "pygments_lexer": "ipython3",
   "version": "3.8.8"
  }
 },
 "nbformat": 4,
 "nbformat_minor": 5
}
